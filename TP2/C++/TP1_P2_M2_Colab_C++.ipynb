{
  "nbformat": 4,
  "nbformat_minor": 0,
  "metadata": {
    "colab": {
      "provenance": [],
      "include_colab_link": true
    },
    "kernelspec": {
      "name": "python3",
      "display_name": "Python 3"
    },
    "language_info": {
      "name": "python"
    }
  },
  "cells": [
    {
      "cell_type": "markdown",
      "metadata": {
        "id": "view-in-github",
        "colab_type": "text"
      },
      "source": [
        "<a href=\"https://colab.research.google.com/github/AgustinBatistelli/programacion_concurrente/blob/master/TP2/C%2B%2B/TP1_P2_M2_Colab_C%2B%2B.ipynb\" target=\"_parent\"><img src=\"https://colab.research.google.com/assets/colab-badge.svg\" alt=\"Open In Colab\"/></a>"
      ]
    },
    {
      "cell_type": "markdown",
      "source": [
        "Utilizo el comando writefile para crear un archivo llamado tp1p2.cpp. Necesitaré ese archivo para crear un ejecutable."
      ],
      "metadata": {
        "id": "_0P7U1Wc7JpG"
      }
    },
    {
      "cell_type": "code",
      "source": [
        "%%writefile tp1p2.cpp\n",
        "#include <iostream>\n",
        "#include <string>\n",
        "#include <thread>\n",
        "#include <cstdlib>\n",
        "#include <ctime>\n",
        "#include <iomanip>\n",
        "#include <vector>\n",
        "#include <ctype.h>\n",
        "#include <cstring>\n",
        "\n",
        "#define PARAMETROS_INCORRECTOS 0\n",
        "#define N_FUERA_DE_RANGO PARAMETROS_INCORRECTOS\n",
        "#define PARAMETRO_NO_ENTERO PARAMETROS_INCORRECTOS\n",
        "#define ESPACIO_CARACTERES 6\n",
        "#define INICIO_ITERADOR 0\n",
        "#define PARAMETROS_CORRECTOS 2\n",
        "#define RANGO_MINIMO 5\n",
        "#define RANGO_MAXIMO 20\n",
        "#define VALOR_ALEATORIO_MAXIMO 65\n",
        "#define VALOR_ALEATORIO_NEGATIVO 32\n",
        "#define EXITO 1\n",
        "#define INICIALIZADOR 0\n",
        "\n",
        "struct MatricesHilos\n",
        "{\n",
        "  int** matriz_a;\n",
        "  int** matriz_b;\n",
        "  int** matriz_cs;\n",
        "  int** matriz_ch;\n",
        "  int tamanio_matriz;\n",
        "  int cantidad_hilos;\n",
        "};\n",
        "\n",
        "bool CantidadCorrectaDeParametros(int parametros_recibidos, int parametros_esperados);\n",
        "bool ParametroNEsEntero(char* parametro);\n",
        "bool RangoValidoN(int valor, int valor_minimo, int valor_maximo);\n",
        "int** CrearMatriz(int tamanio_matriz);\n",
        "void MostrarMatriz(int **matriz,int tamanio_matriz,const char* nombre);\n",
        "MatricesHilos LlenarEstructura(int tamanio);\n",
        "void LlenarMatricesAleatorio();\n",
        "void MultiplicarMatricesSecuencial();\n",
        "void MultiplicarMatricesConHilos(int cantidad_hilos);\n",
        "void MostrarMatrices();\n",
        "void FuncionEjecutadaPorHilo(int numero_hilo);\n",
        "void CompararMatricesResultado();\n",
        "\n",
        "MatricesHilos matriz_hilos;\n",
        "\n",
        "int main(int argc, char* argv[])\n",
        "{\n",
        "  if(!CantidadCorrectaDeParametros(argc,PARAMETROS_CORRECTOS))\n",
        "  {\n",
        "    std::cout<<\"No ingreso la cantidad correcta de parametros. Solamente debe ingresar un entero positivo\"<<std::endl;\n",
        "    return PARAMETROS_INCORRECTOS;\n",
        "  }\n",
        "  char* parametro_n = argv[1];\n",
        "  if (!ParametroNEsEntero(parametro_n))\n",
        "  {\n",
        "    std::cout<<\"El parametro que usted ingreso no es un entero positivo\"<<std::endl;\n",
        "    return PARAMETRO_NO_ENTERO;\n",
        "  }\n",
        "  int tamanio_matrices = atoi(argv[1]);\n",
        "  if (!RangoValidoN(tamanio_matrices,RANGO_MINIMO,RANGO_MAXIMO))\n",
        "  {\n",
        "    std::cout<<\"El rango de N debe estar entre 5 y 20\"<<std::endl;\n",
        "    return N_FUERA_DE_RANGO;\n",
        "  }\n",
        "  \n",
        "  matriz_hilos = LlenarEstructura(tamanio_matrices);\n",
        "  LlenarMatricesAleatorio();\n",
        "  MultiplicarMatricesSecuencial();\n",
        "  MultiplicarMatricesConHilos(matriz_hilos.cantidad_hilos);\n",
        "  MostrarMatrices();\n",
        "  CompararMatricesResultado();\n",
        "  return EXITO;\n",
        "}\n",
        "\n",
        "bool CantidadCorrectaDeParametros(int parametros_recibidos, int parametros_esperados)\n",
        "{\n",
        "  return parametros_recibidos == parametros_esperados;\n",
        "}\n",
        "\n",
        "bool ParametroNEsEntero(char* parametro)\n",
        "{\n",
        "  for (int i = INICIO_ITERADOR; i < strlen(parametro); i++)\n",
        "  {\n",
        "    if (!isdigit(parametro[i]))\n",
        "    {\n",
        "      return false;\n",
        "    }\n",
        "  }\n",
        "  return true;\n",
        "}\n",
        "\n",
        "bool RangoValidoN(int valor, int valor_minimo, int valor_maximo)\n",
        "{\n",
        "  return valor >= valor_minimo && valor <= valor_maximo;\n",
        "}\n",
        "\n",
        "int** CrearMatriz(int tamanio_matriz)\n",
        "{\n",
        "  int** matriz = new int*[tamanio_matriz];\n",
        "  for (int i = INICIO_ITERADOR; i < tamanio_matriz; i++)\n",
        "  {\n",
        "    matriz[i] = new int[tamanio_matriz];\n",
        "    for (int j = INICIO_ITERADOR; j < tamanio_matriz; j++)\n",
        "    {\n",
        "      matriz[i][j] = INICIALIZADOR;\n",
        "    }\n",
        "  }\n",
        "  return matriz;\n",
        "}\n",
        "\n",
        "void MostrarMatriz(int **matriz,int tamanio_matriz,const char* nombre)\n",
        "{\n",
        "  std::cout<<nombre<<std::endl;\n",
        "  for (int i = INICIO_ITERADOR; i < tamanio_matriz; i++)\n",
        "  {\n",
        "    for (int j = INICIO_ITERADOR; j < tamanio_matriz; j++)\n",
        "    {\n",
        "      std::cout << std::setw(ESPACIO_CARACTERES) << matriz[i][j];\n",
        "    }\n",
        "    std::cout << std::endl;\n",
        "  }\n",
        "  std::cout << std::endl;\n",
        "}\n",
        "\n",
        "MatricesHilos LlenarEstructura(int tamanio)\n",
        "{\n",
        "  MatricesHilos matriz_hilo;\n",
        "  matriz_hilo.matriz_a = CrearMatriz(tamanio);\n",
        "  matriz_hilo.matriz_b = CrearMatriz(tamanio);\n",
        "  matriz_hilo.matriz_cs = CrearMatriz(tamanio);\n",
        "  matriz_hilo.matriz_ch = CrearMatriz(tamanio);    \n",
        "  matriz_hilo.tamanio_matriz = matriz_hilo.cantidad_hilos = tamanio;\n",
        "  return matriz_hilo;\n",
        "}\n",
        "\n",
        "void LlenarMatricesAleatorio()\n",
        "{\n",
        "  srand(time(NULL));\n",
        "  for (int i = INICIO_ITERADOR; i < matriz_hilos.tamanio_matriz; i++)\n",
        "  {\n",
        "    for (int j = INICIO_ITERADOR; j < matriz_hilos.tamanio_matriz; j++)\n",
        "    {\n",
        "      matriz_hilos.matriz_a[i][j] = rand() % VALOR_ALEATORIO_MAXIMO - VALOR_ALEATORIO_NEGATIVO;\n",
        "      matriz_hilos.matriz_b[i][j] = rand() % VALOR_ALEATORIO_MAXIMO - VALOR_ALEATORIO_NEGATIVO;\n",
        "    }\n",
        "  }    \n",
        "}\n",
        "\n",
        "void MultiplicarMatricesSecuencial()\n",
        "{\n",
        "  for (int i = INICIO_ITERADOR; i < matriz_hilos.tamanio_matriz; i++)\n",
        "  {\n",
        "    for (int j = INICIO_ITERADOR; j < matriz_hilos.tamanio_matriz; j++)\n",
        "    {\n",
        "      matriz_hilos.matriz_cs[i][j] = INICIALIZADOR;\n",
        "      for (int k = INICIO_ITERADOR; k < matriz_hilos.tamanio_matriz; k++)\n",
        "      {\n",
        "        matriz_hilos.matriz_cs[i][j] += matriz_hilos.matriz_a[i][k] * matriz_hilos.matriz_b[k][j];\n",
        "      }\n",
        "    }\n",
        "  }    \n",
        "}\n",
        "\n",
        "void MultiplicarMatricesConHilos(int cantidad_hilos)\n",
        "{\n",
        "  std::vector<std::thread> hilos;\n",
        "  for (int i = INICIO_ITERADOR; i < cantidad_hilos; i++)\n",
        "  {\n",
        "    hilos.emplace_back(FuncionEjecutadaPorHilo,i);\n",
        "  }\n",
        "  for (auto& hilo : hilos) \n",
        "  {\n",
        "    hilo.join();\n",
        "  }\n",
        "}\n",
        "\n",
        "void MostrarMatrices()\n",
        "{\n",
        "  MostrarMatriz(matriz_hilos.matriz_a,matriz_hilos.tamanio_matriz,\"Matriz A\");\n",
        "  MostrarMatriz(matriz_hilos.matriz_b,matriz_hilos.tamanio_matriz,\"Matriz B\");\n",
        "  MostrarMatriz(matriz_hilos.matriz_cs,matriz_hilos.tamanio_matriz,\"Matriz CS\");\n",
        "  MostrarMatriz(matriz_hilos.matriz_ch,matriz_hilos.tamanio_matriz,\"Matriz CH\");\n",
        "}\n",
        "\n",
        "void FuncionEjecutadaPorHilo(int numero_hilo)\n",
        "{\n",
        "  for (int j = INICIO_ITERADOR; j < matriz_hilos.tamanio_matriz; j++)\n",
        "  {\n",
        "    for (int k = INICIO_ITERADOR; k < matriz_hilos.tamanio_matriz; k++)\n",
        "    {\n",
        "      matriz_hilos.matriz_ch[numero_hilo][j] += matriz_hilos.matriz_a[numero_hilo][k] * matriz_hilos.matriz_b[k][j];\n",
        "    }\n",
        "  }\n",
        "}\n",
        "\n",
        "void CompararMatricesResultado()\n",
        "{\n",
        "  bool son_iguales = true;\n",
        "  for (int i = INICIO_ITERADOR; i < matriz_hilos.tamanio_matriz; i++)\n",
        "  {\n",
        "    for (int j = INICIO_ITERADOR; j < matriz_hilos.tamanio_matriz; j++)\n",
        "    {\n",
        "      if (matriz_hilos.matriz_cs[i][j] != matriz_hilos.matriz_ch[i][j])\n",
        "      {\n",
        "        son_iguales = false;\n",
        "        break;\n",
        "      }\n",
        "    }\n",
        "  }\n",
        "  if (son_iguales)\n",
        "    std::cout<<\"El producto matricial coincide\"<<std::endl;\n",
        "  else\n",
        "    std::cout<<\"El producto matricial no coincide\"<<std::endl;\n",
        "}"
      ],
      "metadata": {
        "colab": {
          "base_uri": "https://localhost:8080/"
        },
        "id": "Rkswh3Qf7PUi",
        "outputId": "35867252-dbcc-41da-e157-da269cd79b00"
      },
      "execution_count": 7,
      "outputs": [
        {
          "output_type": "stream",
          "name": "stdout",
          "text": [
            "Overwriting tp1p2.cpp\n"
          ]
        }
      ]
    },
    {
      "cell_type": "markdown",
      "source": [
        "Listo los archivos para asegurarme que existe el nuevo archivo que cree (tp1p2.cpp)."
      ],
      "metadata": {
        "id": "MmF8N9to7VPl"
      }
    },
    {
      "cell_type": "code",
      "source": [
        "!ls -la"
      ],
      "metadata": {
        "colab": {
          "base_uri": "https://localhost:8080/"
        },
        "id": "Lt2BvCB77ZPJ",
        "outputId": "afbefc26-09bf-42b6-e6b1-ff85cab0ecd2"
      },
      "execution_count": 8,
      "outputs": [
        {
          "output_type": "stream",
          "name": "stdout",
          "text": [
            "total 84\n",
            "drwxr-xr-x 1 root root  4096 May  1 13:30 .\n",
            "drwxr-xr-x 1 root root  4096 May  1 13:29 ..\n",
            "drwxr-xr-x 4 root root  4096 Apr 27 13:34 .config\n",
            "-rw-r--r-- 1 root root   693 May  1 13:30 salidaC\n",
            "drwxr-xr-x 1 root root  4096 Apr 27 13:35 sample_data\n",
            "-rwxr-xr-x 1 root root 55304 May  1 13:30 tp1p2\n",
            "-rw-r--r-- 1 root root  6034 May  1 13:36 tp1p2.cpp\n"
          ]
        }
      ]
    },
    {
      "cell_type": "markdown",
      "source": [
        "Compilo el archivo tp1p2.cpp para obtener un ejecutable. En el codigo no utilizo la biblioteca pthread.h ni ninguna otra similar. Sin embargo, es necesario incluirla en el comando para crear el ejecutable. De lo contrario, arroja un error. \n",
        "\n",
        "Puede ver más detalles del error que arrojaría si no incluye el ptrhead en [este sitio](https://itslinuxfoss.com/undefined-reference-pthread-create/#:~:text=The%20error%20%E2%80%9Cundefined%20reference%20to,line%20while%20compiling%20the%20code.)"
      ],
      "metadata": {
        "id": "AorS85wu7hVH"
      }
    },
    {
      "cell_type": "code",
      "source": [
        "!g++ -std=c++11 -pthread -o tp1p2 tp1p2.cpp"
      ],
      "metadata": {
        "id": "8Fmg3SdH7kno"
      },
      "execution_count": 9,
      "outputs": []
    },
    {
      "cell_type": "markdown",
      "source": [
        "Listo los archivos de nuevo para asegurarme que poseo el ejecutable. Debería salir como tp1p2 sin ninguna clase de extensión."
      ],
      "metadata": {
        "id": "mE99TAhh8anm"
      }
    },
    {
      "cell_type": "code",
      "source": [
        "!ls -la"
      ],
      "metadata": {
        "colab": {
          "base_uri": "https://localhost:8080/"
        },
        "id": "EthjUKQ08ed_",
        "outputId": "f11c5cf6-29cf-49ab-980f-73fdece0575b"
      },
      "execution_count": 10,
      "outputs": [
        {
          "output_type": "stream",
          "name": "stdout",
          "text": [
            "total 84\n",
            "drwxr-xr-x 1 root root  4096 May  1 13:36 .\n",
            "drwxr-xr-x 1 root root  4096 May  1 13:29 ..\n",
            "drwxr-xr-x 4 root root  4096 Apr 27 13:34 .config\n",
            "-rw-r--r-- 1 root root   693 May  1 13:30 salidaC\n",
            "drwxr-xr-x 1 root root  4096 Apr 27 13:35 sample_data\n",
            "-rwxr-xr-x 1 root root 55304 May  1 13:36 tp1p2\n",
            "-rw-r--r-- 1 root root  6034 May  1 13:36 tp1p2.cpp\n"
          ]
        }
      ]
    },
    {
      "cell_type": "markdown",
      "source": [
        "Utilizo el comando nohup para ejecutar el proceso en segundo plano, de manera que no me ocupe la consola. Es necesario añadir el caracter '&' al final.\n",
        "\n",
        "Para ejecutar el proceso, tengo que poner ./tp1p2 N donde N es un número comprendido en el rango de 5 a 20. \n",
        "\n",
        "El comando 1>salidaC va a redirigir la salida estandar de la pantalla (stdout) a un archivo llamado salidaC. \n",
        "\n",
        "El comando 2>/dev/null envía la salida de error estandar (stderr) a dev/null"
      ],
      "metadata": {
        "id": "PKcBxmMm8jVl"
      }
    },
    {
      "cell_type": "code",
      "source": [
        "!nohup ./tp1p2 5 1>salidaC 2>/dev/null & "
      ],
      "metadata": {
        "id": "iRV1djaw8kzK"
      },
      "execution_count": 11,
      "outputs": []
    },
    {
      "cell_type": "markdown",
      "source": [
        "Reviso el archivo de salida. Debo mostrar la matriz A, la matriz B, la matriz CS (resultado de realizar el producto matricial de forma secuencial), la matriz CH (resultado de realizar el producto matricial utilizando hilos), y por último una línea de texto que me indique si las matrices resultantes son iguales o diferentes. "
      ],
      "metadata": {
        "id": "acr5ixsk8syd"
      }
    },
    {
      "cell_type": "code",
      "source": [
        "!cat salidaC"
      ],
      "metadata": {
        "colab": {
          "base_uri": "https://localhost:8080/"
        },
        "id": "uIfO1uRb8uyk",
        "outputId": "14e8c7c2-7ef9-4c5e-c526-0894559be115"
      },
      "execution_count": 12,
      "outputs": [
        {
          "output_type": "stream",
          "name": "stdout",
          "text": [
            "Matriz A\n",
            "    16     4   -30   -13    28\n",
            "    25   -30   -24    -1    12\n",
            "   -22    -4     7     8    -5\n",
            "    28    27    -3    21     0\n",
            "     4    29    32   -25   -29\n",
            "\n",
            "Matriz B\n",
            "   -19   -14   -13     1    19\n",
            "   -22     5    -1    30    21\n",
            "   -30    16   -14    -4    14\n",
            "   -22     2    32    18    16\n",
            "    -8     7   -26    -2    19\n",
            "\n",
            "Matriz CS\n",
            "   570  -514  -936   -34   292\n",
            "   831  -802  -303  -821  -279\n",
            "   160   381   578   -16  -371\n",
            " -1498  -263   323  1228  1393\n",
            "  -892   348  -575   354   182\n",
            "\n",
            "Matriz CH\n",
            "   570  -514  -936   -34   292\n",
            "   831  -802  -303  -821  -279\n",
            "   160   381   578   -16  -371\n",
            " -1498  -263   323  1228  1393\n",
            "  -892   348  -575   354   182\n",
            "\n",
            "El producto matricial coincide\n"
          ]
        }
      ]
    },
    {
      "cell_type": "markdown",
      "source": [
        "Vuelvo a ejecutar el proceso. Esta vez pasándole 2 parámetros. Redirigiré la salida al archivo salidaExcesoParametros."
      ],
      "metadata": {
        "id": "WAZgGkfv_nVD"
      }
    },
    {
      "cell_type": "code",
      "source": [
        "!nohup ./tp1p2 5 2 1>salidaExcesoParametros 2>/dev/null & "
      ],
      "metadata": {
        "id": "l1xuEdWr_kgH"
      },
      "execution_count": 13,
      "outputs": []
    },
    {
      "cell_type": "markdown",
      "source": [
        "Muestro el archivo salidaExcesoParametros. Debe informarme que solo debo ingresar un el valor de N como parámetro. "
      ],
      "metadata": {
        "id": "nFQJe4Eb_znp"
      }
    },
    {
      "cell_type": "code",
      "source": [
        "!cat salidaExcesoParametros"
      ],
      "metadata": {
        "colab": {
          "base_uri": "https://localhost:8080/"
        },
        "id": "xJ3x6HJe_2Bd",
        "outputId": "508ccfb0-291e-43b6-c7b9-2ebc7187b3c6"
      },
      "execution_count": 14,
      "outputs": [
        {
          "output_type": "stream",
          "name": "stdout",
          "text": [
            "No ingreso la cantidad correcta de parametros. Solamente debe ingresar un entero positivo\n"
          ]
        }
      ]
    },
    {
      "cell_type": "markdown",
      "source": [
        "Vuelvo a ejecutar el proceso. Esta vez pasándole 0 parámetros. Redirigiré la salida al archivo salidaSinParametros."
      ],
      "metadata": {
        "id": "Aq5XWCia_8Mz"
      }
    },
    {
      "cell_type": "code",
      "source": [
        "!nohup ./tp1p2 1>salidaSinParametros 2>/dev/null & "
      ],
      "metadata": {
        "id": "AOC49pbCACEM"
      },
      "execution_count": 15,
      "outputs": []
    },
    {
      "cell_type": "markdown",
      "source": [
        "Muestro el archivo salidaSinParametros. Debe informarme que solo debo ingresar un el valor de N como parámetro. "
      ],
      "metadata": {
        "id": "b_xrZDtXAGFt"
      }
    },
    {
      "cell_type": "code",
      "source": [
        "!cat salidaSinParametros"
      ],
      "metadata": {
        "colab": {
          "base_uri": "https://localhost:8080/"
        },
        "id": "RaMjMM_VAQWh",
        "outputId": "d0c94407-7869-4501-caea-8ec3b8d7eabb"
      },
      "execution_count": 16,
      "outputs": [
        {
          "output_type": "stream",
          "name": "stdout",
          "text": [
            "No ingreso la cantidad correcta de parametros. Solamente debe ingresar un entero positivo\n"
          ]
        }
      ]
    },
    {
      "cell_type": "markdown",
      "source": [
        "Vuelvo a ejecutar el proceso. Esta vez pasándole un valor mayor a 20. Redirigiré la salida al archivo salidaRangoSuperiorExcedido."
      ],
      "metadata": {
        "id": "Iw0O7qvGAUsM"
      }
    },
    {
      "cell_type": "code",
      "source": [
        "!nohup ./tp1p2 25 1>salidaRangoSuperiorExcedido 2>/dev/null & "
      ],
      "metadata": {
        "id": "OkRlvzs2AZpY"
      },
      "execution_count": 17,
      "outputs": []
    },
    {
      "cell_type": "markdown",
      "source": [
        "Muestro el archivo salidaRangoSuperiorExcedido. Debe informarme que debo ingresar un número entre 5 y 20 como parámetro. "
      ],
      "metadata": {
        "id": "ROQwLDa-Aeb5"
      }
    },
    {
      "cell_type": "code",
      "source": [
        "!cat salidaRangoSuperiorExcedido"
      ],
      "metadata": {
        "colab": {
          "base_uri": "https://localhost:8080/"
        },
        "id": "umsnX7AyAe2R",
        "outputId": "99cf0246-53b8-462d-9d3d-915de86c69dc"
      },
      "execution_count": 18,
      "outputs": [
        {
          "output_type": "stream",
          "name": "stdout",
          "text": [
            "El rango de N debe estar entre 5 y 20\n"
          ]
        }
      ]
    },
    {
      "cell_type": "markdown",
      "source": [
        "Vuelvo a ejecutar el proceso. Esta vez pasándole un valor menor a 5. Redirigiré la salida al archivo salidaRangoInferiorExcedido."
      ],
      "metadata": {
        "id": "niN7s0rjA8ZF"
      }
    },
    {
      "cell_type": "code",
      "source": [
        "!nohup ./tp1p2 3 1>salidaRangoInferiorExcedido 2>/dev/null & "
      ],
      "metadata": {
        "id": "eFpGpi5kBEC6"
      },
      "execution_count": 19,
      "outputs": []
    },
    {
      "cell_type": "markdown",
      "source": [
        "Muestro el archivo salidaRangoInferiorExcedido. Debe informarme que debo ingresar un número entre 5 y 20 como parámetro. "
      ],
      "metadata": {
        "id": "0ED-goC0CTnf"
      }
    },
    {
      "cell_type": "code",
      "source": [
        "!cat salidaRangoInferiorExcedido"
      ],
      "metadata": {
        "colab": {
          "base_uri": "https://localhost:8080/"
        },
        "id": "88JH4Nf8BPVc",
        "outputId": "4a8d3178-b89f-4ff9-d2c4-c4fc66d466ae"
      },
      "execution_count": 20,
      "outputs": [
        {
          "output_type": "stream",
          "name": "stdout",
          "text": [
            "El rango de N debe estar entre 5 y 20\n"
          ]
        }
      ]
    },
    {
      "cell_type": "markdown",
      "source": [
        "Vuelvo a ejecutar el proceso. Esta vez pasandole un numero no entero. Redirigiré la salida al archivo salidaNumeroNoEntero."
      ],
      "metadata": {
        "id": "uHmwqEVuusu_"
      }
    },
    {
      "cell_type": "code",
      "source": [
        "!nohup ./tp1p2 3.1 1>salidaNumeroNoEntero 2>/dev/null & "
      ],
      "metadata": {
        "id": "uZmVoejuu0iF"
      },
      "execution_count": 21,
      "outputs": []
    },
    {
      "cell_type": "markdown",
      "source": [
        "Muestro el archivo salidaNumeroNoEntero. Debe informarme que no ingresé un número entero positivo. "
      ],
      "metadata": {
        "id": "XQ__4Nhju5Kn"
      }
    },
    {
      "cell_type": "code",
      "source": [
        "!cat salidaNumeroNoEntero"
      ],
      "metadata": {
        "colab": {
          "base_uri": "https://localhost:8080/"
        },
        "id": "rSJZrISWvAql",
        "outputId": "f1b2b8c2-718e-43c9-bf17-7e89b05a65a8"
      },
      "execution_count": 22,
      "outputs": [
        {
          "output_type": "stream",
          "name": "stdout",
          "text": [
            "El parametro que usted ingreso no es un entero positivo\n"
          ]
        }
      ]
    }
  ]
}