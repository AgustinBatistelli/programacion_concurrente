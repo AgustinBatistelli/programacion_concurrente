{
  "nbformat": 4,
  "nbformat_minor": 0,
  "metadata": {
    "colab": {
      "provenance": [],
      "authorship_tag": "ABX9TyPaObB1qvcFodu56yBMX+of",
      "include_colab_link": true
    },
    "kernelspec": {
      "name": "python3",
      "display_name": "Python 3"
    },
    "language_info": {
      "name": "python"
    }
  },
  "cells": [
    {
      "cell_type": "markdown",
      "metadata": {
        "id": "view-in-github",
        "colab_type": "text"
      },
      "source": [
        "<a href=\"https://colab.research.google.com/github/AgustinBatistelli/programacion_concurrente/blob/master/Tp2_M2_Python.ipynb\" target=\"_parent\"><img src=\"https://colab.research.google.com/assets/colab-badge.svg\" alt=\"Open In Colab\"/></a>"
      ]
    },
    {
      "cell_type": "markdown",
      "source": [
        "Se usa el comando writefile para crear el archivo tp2.py para ejecutarlo luego."
      ],
      "metadata": {
        "id": "2g2ic2H-0o2o"
      }
    },
    {
      "cell_type": "code",
      "execution_count": null,
      "metadata": {
        "colab": {
          "base_uri": "https://localhost:8080/"
        },
        "id": "pHncVz7AmeXh",
        "outputId": "8400fe36-e5ec-4365-ee3f-0088b8288c78"
      },
      "outputs": [
        {
          "output_type": "stream",
          "name": "stdout",
          "text": [
            "Writing tp2.py\n"
          ]
        }
      ],
      "source": [
        "%%writefile tp2.py\n",
        "#!/usr/bin/env python3\n",
        "\n",
        "import os\n",
        "import sys\n",
        "import random\n",
        "import threading\n",
        "import time\n",
        "\n",
        "\n",
        "PARAMETROS_CORRECTOS = 2\n",
        "RANGO_MINIMO = 5\n",
        "RANGO_MAXIMO = 20\n",
        "VALOR_ALEATORIO_MAXIMO = 32\n",
        "VALOR_ALEATORIO_MINIMO = -32\n",
        "HILOS = []\n",
        "\n",
        "class MatricesHilos:\n",
        "\tmatrizA = [];\n",
        "\tmatrizB = [];\n",
        "\tmatrizCS = [];\n",
        "\tmatrizCH = [];\n",
        "\t\n",
        "matricesHilos = MatricesHilos();\n",
        "\n",
        "def main():\n",
        "\n",
        "\tif cantidadCorrectaDeParametros(len(sys.argv)) == False:\n",
        "\t\tprint(\"No ingreso la cantidad correcta de parametros. Solo debe ingresar el valor de N\");\n",
        "\t\tos._exit(1);\n",
        "\t\n",
        "\tparametro = sys.argv[1];\n",
        "\t\n",
        "\tif parametro.isnumeric() == False:\n",
        "\t\tprint(\"Formato de parametro incorrecto. El parametro ingresado debe ser un numero.\");\n",
        "\t\tos._exit(1);\n",
        "\t\t\n",
        "\ttamanio = int(parametro);\n",
        "\t\n",
        "\tif rangoValidoDeN(tamanio,RANGO_MINIMO,RANGO_MAXIMO) == False:\n",
        "\t\tprint(\"El rango de N debe estar entre 5 y 20\");\n",
        "\t\tos._exit(1);\n",
        "\n",
        "\tllenarEstructura(tamanio);\n",
        "\tllenarMatricesAleatorio();\n",
        "\tmultiplicarMatricesSecuencial();\n",
        "\tmultiplicarMatricesConHilos();\n",
        "\tfor hilo in HILOS:\n",
        "\t\thilo.join();\n",
        "\tmostrarMatrices();\n",
        "\tcompararMatricesResultado();\n",
        "\tos._exit(0);\n",
        "\t\n",
        "def cantidadCorrectaDeParametros(parametrosRecibidos):\n",
        "\treturn parametrosRecibidos == PARAMETROS_CORRECTOS;\n",
        "  \n",
        "def rangoValidoDeN(valor, valorMinimo, valorMaximo):\n",
        "\treturn valor >= valorMinimo and valor <= valorMaximo;\n",
        "\n",
        "def llenarEstructura(tamanio):\n",
        "\tmatricesHilos.matrizA = crearMatriz(tamanio);\n",
        "\tmatricesHilos.matrizB = crearMatriz(tamanio);\n",
        "\tmatricesHilos.matrizCS = crearMatriz(tamanio);\n",
        "\tmatricesHilos.matrizCH = crearMatriz(tamanio);\n",
        "\tmatricesHilos.tamanioDeMatriz = tamanio;\n",
        "\treturn matricesHilos;\n",
        "\n",
        "def crearMatriz(tamanioMatriz):\n",
        "\tmatriz = [];\n",
        "\tfor i in range(tamanioMatriz):\n",
        "\t\tmatriz.append([]);\n",
        "\t\tfor j in range(tamanioMatriz):\n",
        "\t\t\tmatriz[i].append(0);\n",
        "\treturn matriz;\n",
        " \n",
        "def llenarMatricesAleatorio():\n",
        "\tfor i in range(matricesHilos.tamanioDeMatriz):\n",
        "\t\tfor j in range(matricesHilos.tamanioDeMatriz):\n",
        "\t\t\tmatricesHilos.matrizA[i][j] = random.randrange(VALOR_ALEATORIO_MINIMO, VALOR_ALEATORIO_MAXIMO + 1);\n",
        "\t\t\tmatricesHilos.matrizB[i][j] = random.randrange(VALOR_ALEATORIO_MINIMO, VALOR_ALEATORIO_MAXIMO + 1);\n",
        "\n",
        "\n",
        "def multiplicarMatricesSecuencial():\n",
        "\tfor i in range(matricesHilos.tamanioDeMatriz):\n",
        "\t\tfor j in range(matricesHilos.tamanioDeMatriz):\n",
        "\t\t\tmatricesHilos.matrizCS[i][j] = 0;\n",
        "\t\t\tfor k in range(matricesHilos.tamanioDeMatriz):\n",
        "\t\t\t\tmatricesHilos.matrizCS[i][j] += matricesHilos.matrizA[i][k] * matricesHilos.matrizB[k][j];\n",
        "\n",
        "def multiplicarMatricesConHilos():\n",
        "\t\n",
        "\tfor i in range(matricesHilos.tamanioDeMatriz):\n",
        "\t\tthread = threading.Thread(target=funcionEjecutadaPorHilo, args=(matricesHilos, i));\n",
        "\t\tthread.start();\n",
        "\t\tHILOS.append(thread);\n",
        "\t\t\t\n",
        "def funcionEjecutadaPorHilo(matricesHilos, numeroHilo):\n",
        "\tfor j in range(matricesHilos.tamanioDeMatriz):\n",
        "\t\tfor k in range(matricesHilos.tamanioDeMatriz):\n",
        "\t\t\tmatricesHilos.matrizCH[numeroHilo][j] += matricesHilos.matrizA[numeroHilo][k] * matricesHilos.matrizB[k][j];\n",
        "\t\n",
        "def mostrarMatrices():\n",
        "\tmostrarMatriz(matricesHilos.matrizA, \"Matriz A\");\n",
        "\tmostrarMatriz(matricesHilos.matrizB, \"Matriz B\");\n",
        "\tmostrarMatriz(matricesHilos.matrizCS,\"Matriz CS\");\n",
        "\tmostrarMatriz(matricesHilos.matrizCH,\"Matriz CH\");\n",
        "\t\n",
        "def mostrarMatriz(matriz, nombre):\n",
        "\tprint(nombre);\n",
        "\tfor i in range(matricesHilos.tamanioDeMatriz): \n",
        "\t\tfor j in range(matricesHilos.tamanioDeMatriz): \n",
        "\t\t\tprint(\"\\t\", matriz[i][j], end=\" \");\n",
        "\t\tprint();\n",
        "\n",
        "def compararMatricesResultado():\n",
        "\tsonIguales = True;\n",
        "\tfor i in range(matricesHilos.tamanioDeMatriz):\n",
        "\t\tfor j in range(matricesHilos.tamanioDeMatriz):\n",
        "      \t\t\tif (matricesHilos.matrizCS[i][j] != matricesHilos.matrizCH[i][j]):\n",
        "      \t\t\t\tsonIguales = False;\n",
        "      \t\t\t\tbreak;\n",
        "\tif sonIguales:\n",
        "\t\tprint(\"El producto matricial da lo mismo\");\n",
        "\telse:\n",
        "\t\tprint(\"El producto matricial da distinto\");\n",
        "\n",
        "main()"
      ]
    },
    {
      "cell_type": "markdown",
      "source": [
        "Se listan los archivos para comprobar que tp2.py fue creado."
      ],
      "metadata": {
        "id": "kIUAAMH01Tzm"
      }
    },
    {
      "cell_type": "code",
      "source": [
        "!ls -la"
      ],
      "metadata": {
        "colab": {
          "base_uri": "https://localhost:8080/"
        },
        "id": "NmjsDKNY_I-i",
        "outputId": "9ca3ef44-1f89-4e7e-a610-8587bd2c1fbe"
      },
      "execution_count": null,
      "outputs": [
        {
          "output_type": "stream",
          "name": "stdout",
          "text": [
            "total 20\n",
            "drwxr-xr-x 1 root root 4096 Apr 18 01:31 .\n",
            "drwxr-xr-x 1 root root 4096 Apr 18 00:38 ..\n",
            "drwxr-xr-x 4 root root 4096 Apr 14 13:34 .config\n",
            "drwxr-xr-x 1 root root 4096 Apr 14 13:35 sample_data\n",
            "-rw-r--r-- 1 root root 3732 Apr 18 00:39 tp2.py\n"
          ]
        }
      ]
    },
    {
      "cell_type": "markdown",
      "source": [
        "Se ejecuta el proceso pasandole un parametro numerico N comprendido entre 5 y 20. En este ejemplo, N es igual a 5. Se crean la Matriz A y B. Se multiplican en forma secuencial, cuyo resultado es la Matriz CS. Se multiplican empleando Hilos, generando la Matriz CH. Al final se expresa si las matrices CS y CH son iguales."
      ],
      "metadata": {
        "id": "bgijAxS3_X-F"
      }
    },
    {
      "cell_type": "code",
      "source": [
        "!python3 tp2.py 5"
      ],
      "metadata": {
        "colab": {
          "base_uri": "https://localhost:8080/"
        },
        "id": "mhEjnYWFoLkU",
        "outputId": "a5366c1d-20f6-4d37-9380-f095f77aee90"
      },
      "execution_count": null,
      "outputs": [
        {
          "output_type": "stream",
          "name": "stdout",
          "text": [
            "Matriz A\n",
            "\t -9 \t 10 \t 18 \t -28 \t 26 \n",
            "\t 29 \t -22 \t 21 \t 0 \t -1 \n",
            "\t 28 \t -21 \t 19 \t -23 \t 24 \n",
            "\t -3 \t 19 \t -19 \t -11 \t -10 \n",
            "\t -3 \t 24 \t 29 \t 16 \t 9 \n",
            "Matriz B\n",
            "\t 7 \t 30 \t 29 \t -20 \t -30 \n",
            "\t -19 \t -4 \t -22 \t -25 \t 21 \n",
            "\t -30 \t -7 \t 26 \t -3 \t -8 \n",
            "\t 31 \t -21 \t 2 \t -5 \t -28 \n",
            "\t 10 \t 15 \t -24 \t -20 \t -10 \n",
            "Matriz CS\n",
            "\t -1401 \t 542 \t -693 \t -504 \t 860 \n",
            "\t -19 \t 796 \t 1895 \t -73 \t -1490 \n",
            "\t -448 \t 1634 \t 1146 \t -457 \t -1029 \n",
            "\t -253 \t 48 \t -781 \t -103 \t 1049 \n",
            "\t -761 \t -590 \t -45 \t -887 \t -176 \n",
            "Matriz CH\n",
            "\t -1401 \t 542 \t -693 \t -504 \t 860 \n",
            "\t -19 \t 796 \t 1895 \t -73 \t -1490 \n",
            "\t -448 \t 1634 \t 1146 \t -457 \t -1029 \n",
            "\t -253 \t 48 \t -781 \t -103 \t 1049 \n",
            "\t -761 \t -590 \t -45 \t -887 \t -176 \n",
            "El producto matricial da lo mismo\n"
          ]
        }
      ]
    },
    {
      "cell_type": "markdown",
      "source": [
        "Ejecutamos el proceso pasandole un parametro no numerico."
      ],
      "metadata": {
        "id": "td8VCGWzCDMY"
      }
    },
    {
      "cell_type": "code",
      "source": [
        "!python3 tp2.py u"
      ],
      "metadata": {
        "colab": {
          "base_uri": "https://localhost:8080/"
        },
        "id": "WVClJqdiDDUw",
        "outputId": "3e82405c-8f40-4cc9-baaa-bd1998c2b0e8"
      },
      "execution_count": null,
      "outputs": [
        {
          "output_type": "stream",
          "name": "stdout",
          "text": [
            "Formato de parametro incorrecto. El parametro ingresado debe ser un numero.\n"
          ]
        }
      ]
    },
    {
      "cell_type": "markdown",
      "source": [
        "Ejecutamos el proceso pasandole mas de un parametro."
      ],
      "metadata": {
        "id": "mcSaGnCwBV5J"
      }
    },
    {
      "cell_type": "code",
      "source": [
        "!python3 tp2.py 5 7"
      ],
      "metadata": {
        "colab": {
          "base_uri": "https://localhost:8080/"
        },
        "id": "FWeZDt77DEUw",
        "outputId": "1f1c2130-923c-4dfd-c169-4a53e1be27cd"
      },
      "execution_count": null,
      "outputs": [
        {
          "output_type": "stream",
          "name": "stdout",
          "text": [
            "No ingreso la cantidad correcta de parametros. Solo debe ingresar el valor de N\n"
          ]
        }
      ]
    },
    {
      "cell_type": "markdown",
      "source": [
        "Ejecutamos el proceso sin pasarle parametros."
      ],
      "metadata": {
        "id": "guIwpV8jB11X"
      }
    },
    {
      "cell_type": "code",
      "source": [
        "!python3 tp2.py"
      ],
      "metadata": {
        "colab": {
          "base_uri": "https://localhost:8080/"
        },
        "id": "zF4pJxsaDeNJ",
        "outputId": "97424e4f-46f3-4bc1-bb90-6f3b352e1df5"
      },
      "execution_count": null,
      "outputs": [
        {
          "output_type": "stream",
          "name": "stdout",
          "text": [
            "No ingreso la cantidad correcta de parametros. Solo debe ingresar el valor de N\n"
          ]
        }
      ]
    },
    {
      "cell_type": "markdown",
      "source": [
        "Ejecutamos el proceso pasandole un parametro numerico menor a 5."
      ],
      "metadata": {
        "id": "UBvZ18Z2B_9M"
      }
    },
    {
      "cell_type": "code",
      "source": [
        "!python3 tp2.py 4"
      ],
      "metadata": {
        "colab": {
          "base_uri": "https://localhost:8080/"
        },
        "id": "pdZUjh98DyFc",
        "outputId": "b5ee0683-2538-4efe-f91a-8bd818d9ca43"
      },
      "execution_count": null,
      "outputs": [
        {
          "output_type": "stream",
          "name": "stdout",
          "text": [
            "El rango de N debe estar entre 5 y 20\n"
          ]
        }
      ]
    },
    {
      "cell_type": "markdown",
      "source": [
        "Ejecutamos el proceso pasandole un parametro numerico mayor a 20."
      ],
      "metadata": {
        "id": "wWZpj-5sC_GX"
      }
    },
    {
      "cell_type": "code",
      "source": [
        "!python3 tp2.py 21"
      ],
      "metadata": {
        "colab": {
          "base_uri": "https://localhost:8080/"
        },
        "id": "qtjJYelzD2vX",
        "outputId": "c4c924d9-82bc-4418-fc1b-ed2114636932"
      },
      "execution_count": null,
      "outputs": [
        {
          "output_type": "stream",
          "name": "stdout",
          "text": [
            "El rango de N debe estar entre 5 y 20\n"
          ]
        }
      ]
    }
  ]
}
