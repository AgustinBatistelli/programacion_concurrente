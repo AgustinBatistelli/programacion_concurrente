{
  "nbformat": 4,
  "nbformat_minor": 0,
  "metadata": {
    "colab": {
      "provenance": [],
      "include_colab_link": true
    },
    "kernelspec": {
      "name": "python3",
      "display_name": "Python 3"
    },
    "language_info": {
      "name": "python"
    }
  },
  "cells": [
    {
      "cell_type": "markdown",
      "metadata": {
        "id": "view-in-github",
        "colab_type": "text"
      },
      "source": [
        "<a href=\"https://colab.research.google.com/github/AgustinBatistelli/programacion_concurrente/blob/master/TP2/C%2B%2B/TP1_P2_M2_Colab_C%2B%2B.ipynb\" target=\"_parent\"><img src=\"https://colab.research.google.com/assets/colab-badge.svg\" alt=\"Open In Colab\"/></a>"
      ]
    },
    {
      "cell_type": "markdown",
      "source": [
        "Utilizo el comando writefile para crear un archivo llamado tp1p2.cpp. Necesitaré ese archivo para crear un ejecutable."
      ],
      "metadata": {
        "id": "_0P7U1Wc7JpG"
      }
    },
    {
      "cell_type": "code",
      "source": [
        "%%writefile tp1p2.cpp\n",
        "#include <iostream>\n",
        "#include <string>\n",
        "#include <thread>\n",
        "#include <cstdlib>\n",
        "#include <ctime>\n",
        "#include <iomanip>\n",
        "#include <vector>\n",
        "#include <ctype.h>\n",
        "#include <cstring>\n",
        "\n",
        "#define PARAMETROS_INCORRECTOS 0\n",
        "#define N_FUERA_DE_RANGO PARAMETROS_INCORRECTOS\n",
        "#define PARAMETRO_NO_ENTERO PARAMETROS_INCORRECTOS\n",
        "#define ESPACIO_CARACTERES 6\n",
        "#define INICIO_ITERADOR 0\n",
        "#define PARAMETROS_CORRECTOS 2\n",
        "#define RANGO_MINIMO 5\n",
        "#define RANGO_MAXIMO 20\n",
        "#define VALOR_ALEATORIO_MAXIMO 65\n",
        "#define VALOR_ALEATORIO_NEGATIVO 32\n",
        "#define EXITO 1\n",
        "#define INICIALIZADOR 0\n",
        "\n",
        "struct MatricesHilos\n",
        "{\n",
        "  int** matrizA;\n",
        "  int** matrizB;\n",
        "  int** matrizCS;\n",
        "  int** matrizCH;\n",
        "  int tamanioMatriz;\n",
        "  int cantidadHilos;\n",
        "};\n",
        "\n",
        "bool cantidadCorrectaDeParametros(int parametrosRecibidos, int parametrosEsperados);\n",
        "bool parametroNEsEntero(char* parametro);\n",
        "bool rangoValidoN(int valor, int valorMinimo, int valorMaximo);\n",
        "int** crearMatriz(int tamanioMatriz);\n",
        "void mostrarMatriz(int **matriz,int tamanioMatriz,const char* nombre);\n",
        "MatricesHilos llenarEstructura(int tamanio);\n",
        "void llenarMatricesAleatorio();\n",
        "void multiplicarMatricesSecuencial();\n",
        "void multiplicarMatricesConHilos(int cantidadHilos);\n",
        "void mostrarMatrices();\n",
        "void funcionEjecutadaPorHilo(int numeroHilo);\n",
        "void compararMatricesResultado();\n",
        "\n",
        "MatricesHilos matrizHilos;\n",
        "\n",
        "int main(int argc, char* argv[])\n",
        "{\n",
        "  if(!cantidadCorrectaDeParametros(argc,PARAMETROS_CORRECTOS))\n",
        "  {\n",
        "    std::cout<<\"No ingreso la cantidad correcta de parametros. Solamente debe ingresar un entero positivo entre 5 y 20\"<<std::endl;\n",
        "    return PARAMETROS_INCORRECTOS;\n",
        "  }\n",
        "  char* parametroN = argv[1];\n",
        "  if (!parametroNEsEntero(parametroN))\n",
        "  {\n",
        "    std::cout<<\"El parametro que usted ingreso no es un entero positivo entre 5 y 20\"<<std::endl;\n",
        "    return PARAMETRO_NO_ENTERO;\n",
        "  }\n",
        "  int tamanioMatrices = atoi(argv[1]);\n",
        "  if (!rangoValidoN(tamanioMatrices,RANGO_MINIMO,RANGO_MAXIMO))\n",
        "  {\n",
        "    std::cout<<\"El rango de N debe estar entre 5 y 20\"<<std::endl;\n",
        "    return N_FUERA_DE_RANGO;\n",
        "  }\n",
        "  \n",
        "  matrizHilos = llenarEstructura(tamanioMatrices);\n",
        "  llenarMatricesAleatorio();\n",
        "  multiplicarMatricesSecuencial();\n",
        "  multiplicarMatricesConHilos(matrizHilos.cantidadHilos);\n",
        "  mostrarMatrices();\n",
        "  compararMatricesResultado();\n",
        "  return EXITO;\n",
        "}\n",
        "\n",
        "bool cantidadCorrectaDeParametros(int parametrosRecibidos, int parametrosEsperados)\n",
        "{\n",
        "  return parametrosRecibidos == parametrosEsperados;\n",
        "}\n",
        "\n",
        "bool parametroNEsEntero(char* parametro)\n",
        "{\n",
        "  for (int i = INICIO_ITERADOR; i < strlen(parametro); i++)\n",
        "  {\n",
        "    if (!isdigit(parametro[i]))\n",
        "    {\n",
        "      return false;\n",
        "    }\n",
        "  }\n",
        "  return true;\n",
        "}\n",
        "\n",
        "bool rangoValidoN(int valor, int valorMinimo, int valorMaximo)\n",
        "{\n",
        "  return valor >= valorMinimo && valor <= valorMaximo;\n",
        "}\n",
        "\n",
        "int** crearMatriz(int tamanioMatriz)\n",
        "{\n",
        "  int** matriz = new int*[tamanioMatriz];\n",
        "  for (int i = INICIO_ITERADOR; i < tamanioMatriz; i++)\n",
        "  {\n",
        "    matriz[i] = new int[tamanioMatriz];\n",
        "    for (int j = INICIO_ITERADOR; j < tamanioMatriz; j++)\n",
        "    {\n",
        "      matriz[i][j] = INICIALIZADOR;\n",
        "    }\n",
        "  }\n",
        "  return matriz;\n",
        "}\n",
        "\n",
        "void mostrarMatriz(int **matriz,int tamanioMatriz,const char* nombre)\n",
        "{\n",
        "  std::cout<<nombre<<std::endl;\n",
        "  for (int i = INICIO_ITERADOR; i < tamanioMatriz; i++)\n",
        "  {\n",
        "    for (int j = INICIO_ITERADOR; j < tamanioMatriz; j++)\n",
        "    {\n",
        "      std::cout << std::setw(ESPACIO_CARACTERES) << matriz[i][j];\n",
        "    }\n",
        "    std::cout << std::endl;\n",
        "  }\n",
        "  std::cout << std::endl;\n",
        "}\n",
        "\n",
        "MatricesHilos llenarEstructura(int tamanio)\n",
        "{\n",
        "  MatricesHilos matrizHilo;\n",
        "  matrizHilo.matrizA = crearMatriz(tamanio);\n",
        "  matrizHilo.matrizB = crearMatriz(tamanio);\n",
        "  matrizHilo.matrizCS = crearMatriz(tamanio);\n",
        "  matrizHilo.matrizCH = crearMatriz(tamanio);    \n",
        "  matrizHilo.tamanioMatriz = matrizHilo.cantidadHilos = tamanio;\n",
        "  return matrizHilo;\n",
        "}\n",
        "\n",
        "void llenarMatricesAleatorio()\n",
        "{\n",
        "  srand(time(NULL));\n",
        "  for (int i = INICIO_ITERADOR; i < matrizHilos.tamanioMatriz; i++)\n",
        "  {\n",
        "    for (int j = INICIO_ITERADOR; j < matrizHilos.tamanioMatriz; j++)\n",
        "    {\n",
        "      matrizHilos.matrizA[i][j] = rand() % VALOR_ALEATORIO_MAXIMO - VALOR_ALEATORIO_NEGATIVO;\n",
        "      matrizHilos.matrizB[i][j] = rand() % VALOR_ALEATORIO_MAXIMO - VALOR_ALEATORIO_NEGATIVO;\n",
        "    }\n",
        "  }    \n",
        "}\n",
        "\n",
        "void multiplicarMatricesSecuencial()\n",
        "{\n",
        "  for (int i = INICIO_ITERADOR; i < matrizHilos.tamanioMatriz; i++)\n",
        "  {\n",
        "    for (int j = INICIO_ITERADOR; j < matrizHilos.tamanioMatriz; j++)\n",
        "    {\n",
        "      matrizHilos.matrizCS[i][j] = INICIALIZADOR;\n",
        "      for (int k = INICIO_ITERADOR; k < matrizHilos.tamanioMatriz; k++)\n",
        "      {\n",
        "        matrizHilos.matrizCS[i][j] += matrizHilos.matrizA[i][k] * matrizHilos.matrizB[k][j];\n",
        "      }\n",
        "    }\n",
        "  }    \n",
        "}\n",
        "\n",
        "void multiplicarMatricesConHilos(int cantidadHilos)\n",
        "{\n",
        "  std::vector<std::thread> hilos;\n",
        "  for (int i = INICIO_ITERADOR; i < cantidadHilos; i++)\n",
        "  {\n",
        "    hilos.emplace_back(funcionEjecutadaPorHilo,i);\n",
        "  }\n",
        "  for (auto& hilo : hilos) \n",
        "  {\n",
        "    hilo.join();\n",
        "  }\n",
        "}\n",
        "\n",
        "void mostrarMatrices()\n",
        "{\n",
        "  mostrarMatriz(matrizHilos.matrizA,matrizHilos.tamanioMatriz,\"Matriz A\");\n",
        "  mostrarMatriz(matrizHilos.matrizB,matrizHilos.tamanioMatriz,\"Matriz B\");\n",
        "  mostrarMatriz(matrizHilos.matrizCS,matrizHilos.tamanioMatriz,\"Matriz CS\");\n",
        "  mostrarMatriz(matrizHilos.matrizCH,matrizHilos.tamanioMatriz,\"Matriz CH\");\n",
        "}\n",
        "\n",
        "void funcionEjecutadaPorHilo(int numeroHilo)\n",
        "{\n",
        "  for (int j = INICIO_ITERADOR; j < matrizHilos.tamanioMatriz; j++)\n",
        "  {\n",
        "    for (int k = INICIO_ITERADOR; k < matrizHilos.tamanioMatriz; k++)\n",
        "    {\n",
        "      matrizHilos.matrizCH[numeroHilo][j] += matrizHilos.matrizA[numeroHilo][k] * matrizHilos.matrizB[k][j];\n",
        "    }\n",
        "  }\n",
        "}\n",
        "\n",
        "void compararMatricesResultado()\n",
        "{\n",
        "  bool sonIguales = true;\n",
        "  for (int i = INICIO_ITERADOR; i < matrizHilos.tamanioMatriz; i++)\n",
        "  {\n",
        "    for (int j = INICIO_ITERADOR; j < matrizHilos.tamanioMatriz; j++)\n",
        "    {\n",
        "      if (matrizHilos.matrizCS[i][j] != matrizHilos.matrizCH[i][j])\n",
        "      {\n",
        "        sonIguales = false;\n",
        "        break;\n",
        "      }\n",
        "    }\n",
        "  }\n",
        "  if (sonIguales)\n",
        "    std::cout<<\"El producto matricial coincide\"<<std::endl;\n",
        "  else\n",
        "    std::cout<<\"El producto matricial no coincide\"<<std::endl;\n",
        "}"
      ],
      "metadata": {
        "colab": {
          "base_uri": "https://localhost:8080/"
        },
        "id": "Rkswh3Qf7PUi",
        "outputId": "eee40217-5dfa-4bba-cc7e-94282d1dc34c"
      },
      "execution_count": 1,
      "outputs": [
        {
          "output_type": "stream",
          "name": "stdout",
          "text": [
            "Writing tp1p2.cpp\n"
          ]
        }
      ]
    },
    {
      "cell_type": "markdown",
      "source": [
        "Listo los archivos para asegurarme que existe el nuevo archivo que cree (tp1p2.cpp)."
      ],
      "metadata": {
        "id": "MmF8N9to7VPl"
      }
    },
    {
      "cell_type": "code",
      "source": [
        "!ls -la"
      ],
      "metadata": {
        "colab": {
          "base_uri": "https://localhost:8080/"
        },
        "id": "Lt2BvCB77ZPJ",
        "outputId": "18a7d407-b52f-4fed-d5ef-c09b7b7ff716"
      },
      "execution_count": 2,
      "outputs": [
        {
          "output_type": "stream",
          "name": "stdout",
          "text": [
            "total 24\n",
            "drwxr-xr-x 1 root root 4096 Apr 19 02:33 .\n",
            "drwxr-xr-x 1 root root 4096 Apr 19 02:26 ..\n",
            "drwxr-xr-x 4 root root 4096 Apr 14 13:34 .config\n",
            "drwxr-xr-x 1 root root 4096 Apr 14 13:35 sample_data\n",
            "-rw-r--r-- 1 root root 5943 Apr 19 02:33 tp1p2.cpp\n"
          ]
        }
      ]
    },
    {
      "cell_type": "markdown",
      "source": [
        "Compilo el archivo tp1p2.cpp para obtener un ejecutable. En el codigo no utilizo la biblioteca pthread.h ni ninguna otra similar. Sin embargo, es necesario incluirla en el comando para crear el ejecutable. De lo contrario, arroja un error. \n",
        "\n",
        "Puede ver más detalles del error que arrojaría si no incluye el ptrhead en [este sitio](https://itslinuxfoss.com/undefined-reference-pthread-create/#:~:text=The%20error%20%E2%80%9Cundefined%20reference%20to,line%20while%20compiling%20the%20code.)"
      ],
      "metadata": {
        "id": "AorS85wu7hVH"
      }
    },
    {
      "cell_type": "code",
      "source": [
        "!g++ -std=c++11 -pthread -o tp1p2 tp1p2.cpp"
      ],
      "metadata": {
        "id": "8Fmg3SdH7kno"
      },
      "execution_count": 3,
      "outputs": []
    },
    {
      "cell_type": "markdown",
      "source": [
        "Listo los archivos de nuevo para asegurarme que poseo el ejecutable. Debería salir como tp1p2 sin ninguna clase de extensión."
      ],
      "metadata": {
        "id": "mE99TAhh8anm"
      }
    },
    {
      "cell_type": "code",
      "source": [
        "!ls -la"
      ],
      "metadata": {
        "colab": {
          "base_uri": "https://localhost:8080/"
        },
        "id": "EthjUKQ08ed_",
        "outputId": "7ca62f47-18a0-4b7c-974c-2a092339af34"
      },
      "execution_count": 4,
      "outputs": [
        {
          "output_type": "stream",
          "name": "stdout",
          "text": [
            "total 80\n",
            "drwxr-xr-x 1 root root  4096 Apr 19 02:33 .\n",
            "drwxr-xr-x 1 root root  4096 Apr 19 02:26 ..\n",
            "drwxr-xr-x 4 root root  4096 Apr 14 13:34 .config\n",
            "drwxr-xr-x 1 root root  4096 Apr 14 13:35 sample_data\n",
            "-rwxr-xr-x 1 root root 55304 Apr 19 02:33 tp1p2\n",
            "-rw-r--r-- 1 root root  5943 Apr 19 02:33 tp1p2.cpp\n"
          ]
        }
      ]
    },
    {
      "cell_type": "markdown",
      "source": [
        "Utilizo el comando nohup para ejecutar el proceso en segundo plano, de manera que no me ocupe la consola. Es necesario añadir el caracter '&' al final.\n",
        "\n",
        "Para ejecutar el proceso, tengo que poner ./tp1p2 N donde N es un número comprendido en el rango de 5 a 20. \n",
        "\n",
        "El comando 1>salidaC va a redirigir la salida estandar de la pantalla (stdout) a un archivo llamado salidaC. \n",
        "\n",
        "El comando 2>/dev/null envía la salida de error estandar (stderr) a dev/null"
      ],
      "metadata": {
        "id": "PKcBxmMm8jVl"
      }
    },
    {
      "cell_type": "code",
      "source": [
        "!nohup ./tp1p2 5 1>salidaC 2>/dev/null & "
      ],
      "metadata": {
        "id": "iRV1djaw8kzK"
      },
      "execution_count": 5,
      "outputs": []
    },
    {
      "cell_type": "markdown",
      "source": [
        "Reviso el archivo de salida. Debo mostrar la matriz A, la matriz B, la matriz CS (resultado de realizar el producto matricial de forma secuencial), la matriz CH (resultado de realizar el producto matricial utilizando hilos), y por último una línea de texto que me indique si las matrices resultantes son iguales o diferentes. "
      ],
      "metadata": {
        "id": "acr5ixsk8syd"
      }
    },
    {
      "cell_type": "code",
      "source": [
        "!cat salidaC"
      ],
      "metadata": {
        "colab": {
          "base_uri": "https://localhost:8080/"
        },
        "id": "uIfO1uRb8uyk",
        "outputId": "d2e158af-4e42-43f1-a50b-84159a636a01"
      },
      "execution_count": 6,
      "outputs": [
        {
          "output_type": "stream",
          "name": "stdout",
          "text": [
            "Matriz A\n",
            "    21    22    -3     7    11\n",
            "    13   -28    -3     1    -3\n",
            "    16   -24    28   -12   -26\n",
            "    14    -3   -25    20    -1\n",
            "    15    15    11    19   -12\n",
            "\n",
            "Matriz B\n",
            "   -19   -21   -20     4   -32\n",
            "   -17    -3    30   -26     7\n",
            "    -6   -23   -22   -30   -18\n",
            "    27     5    28    15    -2\n",
            "   -19    22   -21   -19   -16\n",
            "\n",
            "Matriz CS\n",
            "  -775  -161   271  -502  -654\n",
            "   331  -181  -943   942  -512\n",
            "   106 -1540 -1446   162  -744\n",
            "   494   368   761  1203   -43\n",
            "   135  -782   692  -147  -419\n",
            "\n",
            "Matriz CH\n",
            "  -775  -161   271  -502  -654\n",
            "   331  -181  -943   942  -512\n",
            "   106 -1540 -1446   162  -744\n",
            "   494   368   761  1203   -43\n",
            "   135  -782   692  -147  -419\n",
            "\n",
            "El producto matricial coincide\n"
          ]
        }
      ]
    },
    {
      "cell_type": "markdown",
      "source": [
        "Vuelvo a ejecutar el proceso. Esta vez pasándole 2 parámetros. Redirigiré la salida al archivo salidaExcesoParametros."
      ],
      "metadata": {
        "id": "WAZgGkfv_nVD"
      }
    },
    {
      "cell_type": "code",
      "source": [
        "!nohup ./tp1p2 5 2 1>salidaExcesoParametros 2>/dev/null & "
      ],
      "metadata": {
        "id": "l1xuEdWr_kgH"
      },
      "execution_count": 7,
      "outputs": []
    },
    {
      "cell_type": "markdown",
      "source": [
        "Muestro el archivo salidaExcesoParametros. Debe informarme que solo debo ingresar un el valor de N como parámetro. "
      ],
      "metadata": {
        "id": "nFQJe4Eb_znp"
      }
    },
    {
      "cell_type": "code",
      "source": [
        "!cat salidaExcesoParametros"
      ],
      "metadata": {
        "colab": {
          "base_uri": "https://localhost:8080/"
        },
        "id": "xJ3x6HJe_2Bd",
        "outputId": "eabc345b-a59a-4bbb-d32d-173124220e82"
      },
      "execution_count": 8,
      "outputs": [
        {
          "output_type": "stream",
          "name": "stdout",
          "text": [
            "No ingreso la cantidad correcta de parametros. Solamente debe ingresar un entero positivo entre 5 y 20\n"
          ]
        }
      ]
    },
    {
      "cell_type": "markdown",
      "source": [
        "Vuelvo a ejecutar el proceso. Esta vez pasándole 0 parámetros. Redirigiré la salida al archivo salidaSinParametros."
      ],
      "metadata": {
        "id": "Aq5XWCia_8Mz"
      }
    },
    {
      "cell_type": "code",
      "source": [
        "!nohup ./tp1p2 1>salidaSinParametros 2>/dev/null & "
      ],
      "metadata": {
        "id": "AOC49pbCACEM"
      },
      "execution_count": 9,
      "outputs": []
    },
    {
      "cell_type": "markdown",
      "source": [
        "Muestro el archivo salidaSinParametros. Debe informarme que solo debo ingresar un el valor de N como parámetro. "
      ],
      "metadata": {
        "id": "b_xrZDtXAGFt"
      }
    },
    {
      "cell_type": "code",
      "source": [
        "!cat salidaSinParametros"
      ],
      "metadata": {
        "colab": {
          "base_uri": "https://localhost:8080/"
        },
        "id": "RaMjMM_VAQWh",
        "outputId": "42d4b224-985c-41b3-8d22-49b176ec66b5"
      },
      "execution_count": 10,
      "outputs": [
        {
          "output_type": "stream",
          "name": "stdout",
          "text": [
            "No ingreso la cantidad correcta de parametros. Solamente debe ingresar un entero positivo entre 5 y 20\n"
          ]
        }
      ]
    },
    {
      "cell_type": "markdown",
      "source": [
        "Vuelvo a ejecutar el proceso. Esta vez pasándole un valor mayor a 20. Redirigiré la salida al archivo salidaRangoSuperiorExcedido."
      ],
      "metadata": {
        "id": "Iw0O7qvGAUsM"
      }
    },
    {
      "cell_type": "code",
      "source": [
        "!nohup ./tp1p2 25 1>salidaRangoSuperiorExcedido 2>/dev/null & "
      ],
      "metadata": {
        "id": "OkRlvzs2AZpY"
      },
      "execution_count": 11,
      "outputs": []
    },
    {
      "cell_type": "markdown",
      "source": [
        "Muestro el archivo salidaRangoSuperiorExcedido. Debe informarme que debo ingresar un número entre 5 y 20 como parámetro. "
      ],
      "metadata": {
        "id": "ROQwLDa-Aeb5"
      }
    },
    {
      "cell_type": "code",
      "source": [
        "!cat salidaRangoSuperiorExcedido"
      ],
      "metadata": {
        "colab": {
          "base_uri": "https://localhost:8080/"
        },
        "id": "umsnX7AyAe2R",
        "outputId": "05f1cc30-6cc9-43ec-b4ed-3bd0937c8a65"
      },
      "execution_count": 12,
      "outputs": [
        {
          "output_type": "stream",
          "name": "stdout",
          "text": [
            "El rango de N debe estar entre 5 y 20\n"
          ]
        }
      ]
    },
    {
      "cell_type": "markdown",
      "source": [
        "Vuelvo a ejecutar el proceso. Esta vez pasándole un valor menor a 5. Redirigiré la salida al archivo salidaRangoInferiorExcedido."
      ],
      "metadata": {
        "id": "niN7s0rjA8ZF"
      }
    },
    {
      "cell_type": "code",
      "source": [
        "!nohup ./tp1p2 3 1>salidaRangoInferiorExcedido 2>/dev/null & "
      ],
      "metadata": {
        "id": "eFpGpi5kBEC6"
      },
      "execution_count": 13,
      "outputs": []
    },
    {
      "cell_type": "markdown",
      "source": [
        "Muestro el archivo salidaRangoInferiorExcedido. Debe informarme que debo ingresar un número entre 5 y 20 como parámetro. "
      ],
      "metadata": {
        "id": "0ED-goC0CTnf"
      }
    },
    {
      "cell_type": "code",
      "source": [
        "!cat salidaRangoInferiorExcedido"
      ],
      "metadata": {
        "colab": {
          "base_uri": "https://localhost:8080/"
        },
        "id": "88JH4Nf8BPVc",
        "outputId": "14fa4409-a747-4bdc-e1dc-f63a13e7abcf"
      },
      "execution_count": 14,
      "outputs": [
        {
          "output_type": "stream",
          "name": "stdout",
          "text": [
            "El rango de N debe estar entre 5 y 20\n"
          ]
        }
      ]
    },
    {
      "cell_type": "markdown",
      "source": [
        "Vuelvo a ejecutar el proceso. Esta vez pasandole un numero no entero. Redirigiré la salida al archivo salidaNumeroNoEntero."
      ],
      "metadata": {
        "id": "uHmwqEVuusu_"
      }
    },
    {
      "cell_type": "code",
      "source": [
        "!nohup ./tp1p2 3.1 1>salidaNumeroNoEntero 2>/dev/null & "
      ],
      "metadata": {
        "id": "uZmVoejuu0iF"
      },
      "execution_count": 15,
      "outputs": []
    },
    {
      "cell_type": "markdown",
      "source": [
        "Muestro el archivo salidaNumeroNoEntero. Debe informarme que no ingresé un número entero positivo. "
      ],
      "metadata": {
        "id": "XQ__4Nhju5Kn"
      }
    },
    {
      "cell_type": "code",
      "source": [
        "!cat salidaNumeroNoEntero"
      ],
      "metadata": {
        "colab": {
          "base_uri": "https://localhost:8080/"
        },
        "id": "rSJZrISWvAql",
        "outputId": "e9916e11-027a-4a2e-8356-f1d27ddb44aa"
      },
      "execution_count": 16,
      "outputs": [
        {
          "output_type": "stream",
          "name": "stdout",
          "text": [
            "El parametro que usted ingreso no es un entero positivo entre 5 y 20\n"
          ]
        }
      ]
    }
  ]
}