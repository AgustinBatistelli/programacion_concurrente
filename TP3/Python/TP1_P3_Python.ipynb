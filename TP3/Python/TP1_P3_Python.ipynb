{
  "nbformat": 4,
  "nbformat_minor": 0,
  "metadata": {
    "colab": {
      "provenance": [],
      "include_colab_link": true
    },
    "kernelspec": {
      "name": "python3",
      "display_name": "Python 3"
    },
    "language_info": {
      "name": "python"
    }
  },
  "cells": [
    {
      "cell_type": "markdown",
      "metadata": {
        "id": "view-in-github",
        "colab_type": "text"
      },
      "source": [
        "<a href=\"https://colab.research.google.com/github/AgustinBatistelli/programacion_concurrente/blob/master/TP3/Python/TP1_P3_Python.ipynb\" target=\"_parent\"><img src=\"https://colab.research.google.com/assets/colab-badge.svg\" alt=\"Open In Colab\"/></a>"
      ]
    },
    {
      "cell_type": "markdown",
      "source": [
        "Se crea archivo con un poco de texto"
      ],
      "metadata": {
        "id": "Fg8BbtYQ5JZK"
      }
    },
    {
      "cell_type": "code",
      "source": [
        "!echo \"Lorem Ipsum es simplemente el texto de relleno de las imprentas y archivos de texto. Lorem Ipsum ha sido el texto de relleno estándar de las industrias desde el año 1500, cuando un impresor (N. del T. persona que se dedica a la imprenta) desconocido usó una galería de textos y los mezcló de tal manera que logró hacer un libro de textos especimen. No sólo sobrevivió 500 años, sino que tambien ingresó como texto de relleno en documentos electrónicos, quedando esencialmente igual al original. Fue popularizado en los 60s con la creación de las hojas \\\"Letraset\\\", las cuales contenian pasajes de Lorem Ipsum, y más recientemente con software de autoedición, como por ejemplo Aldus PageMaker, el cual incluye versiones de Lorem Ipsum.\" > archivo.txt"
      ],
      "metadata": {
        "id": "tpijwHm66g5R"
      },
      "execution_count": null,
      "outputs": []
    },
    {
      "cell_type": "markdown",
      "source": [
        "Programa para copiar el archivo usando pipes"
      ],
      "metadata": {
        "id": "Q6yj2eeY5d3o"
      }
    },
    {
      "cell_type": "code",
      "source": [
        "%%writefile copy_copy.py\n",
        "import multiprocessing\n",
        "import pathlib\n",
        "import time\n",
        "import sys\n",
        "\n",
        "def send_file(write_end, file_name, chunk_size):\n",
        "  try:\n",
        "    with open(file_name, \"rb\") as file:\n",
        "      bytes = file.read(chunk_size)\n",
        "      while bytes:\n",
        "        print(bytes)\n",
        "        write_end.send_bytes(bytes)\n",
        "        bytes = file.read(chunk_size)\n",
        "    write_end.close()\n",
        "  except FileNotFoundError:\n",
        "    print(\"Archivo no encontrado.\")\n",
        "\n",
        "def child(read_end, origin_file, chunk_size = 512):\n",
        "  # create destiny file\n",
        "  destiny_file = origin_file.with_stem(origin_file.stem + '_copy')\n",
        "  file_content = b''\n",
        "  counter = 0\n",
        "  # get chunks to receive\n",
        "  times = origin_file.stat().st_size / chunk_size\n",
        "  try:\n",
        "    with open(destiny_file, 'wb') as file:\n",
        "      while counter < times:\n",
        "        msg = read_end.recv_bytes()\n",
        "        file.write(msg)\n",
        "        counter += 1\n",
        "  except EOFError:\n",
        "    print(\"Algo salió mal con el pipe.\")\n",
        "  read_end.close()\n",
        "\n",
        "def father(file_name, chunk_size = 512):\n",
        "  # Make pipe\n",
        "  read_end, write_end = multiprocessing.Pipe()\n",
        "  # Start child\n",
        "  process = multiprocessing.Process(target=child, args=(read_end, file_name, chunk_size, ))\n",
        "  process.start()\n",
        "  send_file(write_end, file_name, chunk_size)\n",
        "  process.join()\n",
        "\n",
        "if __name__ == '__main__':\n",
        "    args = sys.argv\n",
        "    chunk_size = None\n",
        "    print(args)\n",
        "    if len(args) < 2:\n",
        "      print(\"Debe pasar la ruta de un archivo válido.\")\n",
        "      exit(-1)\n",
        "    try:\n",
        "      if len(args) > 2 and int(args[2]) > 0:\n",
        "        chunk_size = int(args[2])\n",
        "      else:\n",
        "        print(\"El tamaño del chunk debe ser mayor a 0 bytes\")\n",
        "    except ValueError:\n",
        "      print(\"El tamaño del chunk debe ser un número natural medido en bytes.\")\n",
        "\n",
        "    #Check file\n",
        "    file_name = pathlib.Path(args[1])\n",
        "    if not file_name.exists() or not file_name.is_file():\n",
        "      print(\"Archivo no encontrado\")\n",
        "      exit -1\n",
        "    if chunk_size == None:\n",
        "      father(file_name)\n",
        "    else:\n",
        "      father(file_name, chunk_size)"
      ],
      "metadata": {
        "colab": {
          "base_uri": "https://localhost:8080/"
        },
        "id": "CAonjwcn5eex",
        "outputId": "91b5f810-ace2-4f4c-d2ea-0393118f08ab"
      },
      "execution_count": null,
      "outputs": [
        {
          "output_type": "stream",
          "name": "stdout",
          "text": [
            "Writing copy_copy.py\n"
          ]
        }
      ]
    },
    {
      "cell_type": "markdown",
      "source": [
        "Listo archivos para segurarme que tengo creados tanto el archivo a copiar como el script de python"
      ],
      "metadata": {
        "id": "MbzSP6e55i8u"
      }
    },
    {
      "cell_type": "code",
      "source": [
        "!ls -lash "
      ],
      "metadata": {
        "colab": {
          "base_uri": "https://localhost:8080/"
        },
        "id": "ygf2P6ic5jXq",
        "outputId": "171a631d-c4c7-4def-d7e3-f813665717ee"
      },
      "execution_count": null,
      "outputs": [
        {
          "output_type": "stream",
          "name": "stdout",
          "text": [
            "total 40K\n",
            "4.0K drwxr-xr-x 1 root root 4.0K Apr 30 13:10 .\n",
            "4.0K drwxr-xr-x 1 root root 4.0K Apr 30 13:07 ..\n",
            "4.0K -rw-r--r-- 1 root root  748 Apr 30 13:15 archivo.txt\n",
            "4.0K drwxr-xr-x 4 root root 4.0K Apr 27 13:34 .config\n",
            "4.0K -rw-r--r-- 1 root root 1.9K Apr 30 13:15 copy_copy.py\n",
            "4.0K -rw-r--r-- 1 root root  166 Apr 30 13:16 errors\n",
            "4.0K -rw-r--r-- 1 root root  106 Apr 30 13:09 salida\n",
            "4.0K -rw-r--r-- 1 root root   58 Apr 30 13:16 salida3\n",
            "4.0K -rw-r--r-- 1 root root   58 Apr 30 13:10 salida4\n",
            "4.0K drwxr-xr-x 1 root root 4.0K Apr 27 13:35 sample_data\n"
          ]
        }
      ]
    },
    {
      "cell_type": "markdown",
      "source": [
        "Para ejecutar el programa sin bloquear la consola. El programa espera, si o si recibir un nombre de archivo como parametro o dará error y finalizará.\n",
        "\n",
        "Opcionalmente, se puede pasar un segundo parametro que debe ser un número natural, que representa la cantidad de bytes a pasar por chunk en el pipe, en caso que no se pase este parametro los chunks seran de 512 bytes."
      ],
      "metadata": {
        "id": "7LfnW-_15laG"
      }
    },
    {
      "cell_type": "code",
      "source": [
        "!nohup python copy_copy.py 'archivo.txt' -1024 1>salida 2>errors &"
      ],
      "metadata": {
        "id": "w88VeuM55nN9"
      },
      "execution_count": null,
      "outputs": []
    },
    {
      "cell_type": "code",
      "source": [
        "!ls sample_data"
      ],
      "metadata": {
        "colab": {
          "base_uri": "https://localhost:8080/"
        },
        "id": "ObqQG_f45s1l",
        "outputId": "79b63c32-ffa3-4248-ee55-5e269912478e"
      },
      "execution_count": null,
      "outputs": [
        {
          "output_type": "stream",
          "name": "stdout",
          "text": [
            "anscombe.json\t\t      mnist_test.csv\n",
            "california_housing_test.csv   mnist_train_small.csv\n",
            "california_housing_train.csv  README.md\n"
          ]
        }
      ]
    },
    {
      "cell_type": "code",
      "source": [
        "!nohup python copy_copy.py 'archivo.txt' 1>salida2 2>errors &"
      ],
      "metadata": {
        "id": "JbBkKFNyG4u3"
      },
      "execution_count": null,
      "outputs": []
    },
    {
      "cell_type": "code",
      "source": [
        "!cat salida2"
      ],
      "metadata": {
        "colab": {
          "base_uri": "https://localhost:8080/"
        },
        "id": "aNILARUkG9s5",
        "outputId": "b29a748c-e453-454b-d44e-e00561e047b9"
      },
      "execution_count": null,
      "outputs": [
        {
          "output_type": "stream",
          "name": "stdout",
          "text": [
            "['copy_copy.py', 'file.txt']\n",
            "El tamaño del chunk debe ser mayor a 0 bytes\n",
            "Archivo no encontrado\n"
          ]
        }
      ]
    },
    {
      "cell_type": "code",
      "source": [
        "!nohup python copy_copy.py 'archivo.txt' 256 1>salida3 2>errors &"
      ],
      "metadata": {
        "id": "EzE79WbIHHbe"
      },
      "execution_count": null,
      "outputs": []
    },
    {
      "cell_type": "code",
      "source": [
        "!cat salida3"
      ],
      "metadata": {
        "colab": {
          "base_uri": "https://localhost:8080/"
        },
        "id": "INBs1ACJHOR1",
        "outputId": "a3aa59ff-21cd-43cc-aa9a-f21d5300e104"
      },
      "execution_count": null,
      "outputs": [
        {
          "output_type": "stream",
          "name": "stdout",
          "text": [
            "['copy_copy.py', 'archivo.txt', '256']\n",
            "b'Lorem Ipsum es simplemente el texto de relleno de las imprentas y archivos de texto. Lorem Ipsum ha sido el texto de relleno est\\xc3\\xa1ndar de las industrias desde el a\\xc3\\xb1o 1500, cuando un impresor (N. del T. persona que se dedica a la imprenta) desconocido us\\xc3\\xb3'\n",
            "b' una galer\\xc3\\xada de textos y los mezcl\\xc3\\xb3 de tal manera que logr\\xc3\\xb3 hacer un libro de textos especimen. No s\\xc3\\xb3lo sobrevivi\\xc3\\xb3 500 a\\xc3\\xb1os, sino que tambien ingres\\xc3\\xb3 como texto de relleno en documentos electr\\xc3\\xb3nicos, quedando esencialmente igual al original. Fue po'\n",
            "b'pularizado en los 60s con la creaci\\xc3\\xb3n de las hojas \"Letraset\", las cuales contenian pasajes de Lorem Ipsum, y m\\xc3\\xa1s recientemente con software de autoedici\\xc3\\xb3n, como por ejemplo Aldus PageMaker, el cual incluye versiones de Lorem Ipsum.\\n'\n"
          ]
        }
      ]
    },
    {
      "cell_type": "code",
      "source": [
        "!nohup python copy_copy.py 'archivo.txt' 128 1>salida4 2>errors &"
      ],
      "metadata": {
        "id": "_wB8e-cXHc6T"
      },
      "execution_count": null,
      "outputs": []
    },
    {
      "cell_type": "code",
      "source": [
        "!cat salida4"
      ],
      "metadata": {
        "colab": {
          "base_uri": "https://localhost:8080/"
        },
        "id": "qScePaKgHen6",
        "outputId": "bc22a1a8-832b-4b16-e810-fca0222cedb3"
      },
      "execution_count": null,
      "outputs": [
        {
          "output_type": "stream",
          "name": "stdout",
          "text": [
            "['copy_copy.py', 'archivo.txt', '128']\n",
            "b'Lorem Ipsum es simplemente el texto de relleno de las imprentas y archivos de texto. Lorem Ipsum ha sido el texto de relleno est'\n",
            "b'\\xc3\\xa1ndar de las industrias desde el a\\xc3\\xb1o 1500, cuando un impresor (N. del T. persona que se dedica a la imprenta) desconocido us\\xc3\\xb3'\n",
            "b' una galer\\xc3\\xada de textos y los mezcl\\xc3\\xb3 de tal manera que logr\\xc3\\xb3 hacer un libro de textos especimen. No s\\xc3\\xb3lo sobrevivi\\xc3\\xb3 500 a\\xc3\\xb1o'\n",
            "b's, sino que tambien ingres\\xc3\\xb3 como texto de relleno en documentos electr\\xc3\\xb3nicos, quedando esencialmente igual al original. Fue po'\n",
            "b'pularizado en los 60s con la creaci\\xc3\\xb3n de las hojas \"Letraset\", las cuales contenian pasajes de Lorem Ipsum, y m\\xc3\\xa1s recientement'\n",
            "b'e con software de autoedici\\xc3\\xb3n, como por ejemplo Aldus PageMaker, el cual incluye versiones de Lorem Ipsum.\\n'\n"
          ]
        }
      ]
    },
    {
      "cell_type": "code",
      "source": [
        "!cat archivo.txt"
      ],
      "metadata": {
        "colab": {
          "base_uri": "https://localhost:8080/"
        },
        "id": "XCPS251rTneE",
        "outputId": "a46f5ca1-ff6f-4492-9e03-3fb59cbae134"
      },
      "execution_count": null,
      "outputs": [
        {
          "output_type": "stream",
          "name": "stdout",
          "text": [
            "Lorem Ipsum es simplemente el texto de relleno de las imprentas y archivos de texto. Lorem Ipsum ha sido el texto de relleno estándar de las industrias desde el año 1500, cuando un impresor (N. del T. persona que se dedica a la imprenta) desconocido usó una galería de textos y los mezcló de tal manera que logró hacer un libro de textos especimen. No sólo sobrevivió 500 años, sino que tambien ingresó como texto de relleno en documentos electrónicos, quedando esencialmente igual al original. Fue popularizado en los 60s con la creación de las hojas \"Letraset\", las cuales contenian pasajes de Lorem Ipsum, y más recientemente con software de autoedición, como por ejemplo Aldus PageMaker, el cual incluye versiones de Lorem Ipsum.\n"
          ]
        }
      ]
    }
  ]
}