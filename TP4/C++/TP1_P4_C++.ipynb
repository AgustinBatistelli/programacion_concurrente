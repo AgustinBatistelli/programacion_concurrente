{
  "nbformat": 4,
  "nbformat_minor": 0,
  "metadata": {
    "colab": {
      "provenance": [],
      "authorship_tag": "ABX9TyMF0lXCUge5C/QUDTHraxny",
      "include_colab_link": true
    },
    "kernelspec": {
      "name": "python3",
      "display_name": "Python 3"
    },
    "language_info": {
      "name": "python"
    }
  },
  "cells": [
    {
      "cell_type": "markdown",
      "metadata": {
        "id": "view-in-github",
        "colab_type": "text"
      },
      "source": [
        "<a href=\"https://colab.research.google.com/github/AgustinBatistelli/programacion_concurrente/blob/master/TP4/C%2B%2B/TP1_P4_C%2B%2B.ipynb\" target=\"_parent\"><img src=\"https://colab.research.google.com/assets/colab-badge.svg\" alt=\"Open In Colab\"/></a>"
      ]
    },
    {
      "cell_type": "markdown",
      "source": [
        "Uso el comando writefile para crear el archivo tp1p4.cpp. Lo necesitaré para crear un ejecutable. "
      ],
      "metadata": {
        "id": "ZFtvdekJXiSc"
      }
    },
    {
      "cell_type": "code",
      "execution_count": null,
      "metadata": {
        "colab": {
          "base_uri": "https://localhost:8080/"
        },
        "id": "5wTSfRJ4WpK-",
        "outputId": "fb5c9226-4fdb-41b5-b02c-6d77fe0a7748"
      },
      "outputs": [
        {
          "output_type": "stream",
          "name": "stdout",
          "text": [
            "Writing tp1p4.cpp\n"
          ]
        }
      ],
      "source": [
        "%%writefile tp1p4.cpp\n",
        "#include <iostream>\n",
        "#include <string>\n",
        "#include <thread>\n",
        "#include <cstdlib>\n",
        "#include <ctime>\n",
        "#include <iomanip>\n",
        "#include <vector>\n",
        "#include <ctype.h>\n",
        "#include <cstring>\n",
        "#include <random>\n",
        "#include <mutex>\n",
        "\n",
        "#define EXITO 1\n",
        "#define VALOR_ALEATORIO_MAXIMO 100\n",
        "#define TAMANIO_ARRAY 10\n",
        "#define CANTIDAD_HILOS 2\n",
        "#define MITAD 2\n",
        "#define MITAD_DEL_ARRAY TAMANIO_ARRAY/MITAD\n",
        "#define INICIALIZADOR 0\n",
        "#define INICIO_ITERADOR INICIALIZADOR\n",
        "#define UNO 1\n",
        "\n",
        "struct RangoHilos\n",
        "{\n",
        "  int valor_inicial;\n",
        "  int valor_final;\n",
        "};\n",
        "\n",
        "std::mutex mutex;\n",
        "int suma_array = INICIALIZADOR;\n",
        "int array[TAMANIO_ARRAY];\n",
        "\n",
        "void LlenarArrayAleatoriamente();\n",
        "void MostrarArray();\n",
        "void MostrarSumaArray();\n",
        "void SumarArray();\n",
        "RangoHilos AsignarRangoHilos(int limite_inferior, int limite_superior);\n",
        "void FuncionEjecutadaPorHilo(RangoHilos rango_hilo);\n",
        "\n",
        "int main()\n",
        "{\n",
        "  LlenarArrayAleatoriamente();\n",
        "  MostrarArray();\n",
        "  SumarArray();\n",
        "  MostrarSumaArray();\n",
        "  return EXITO;\n",
        "}\n",
        "\n",
        "void LlenarArrayAleatoriamente()\n",
        "{\n",
        "  std::random_device dispositivo_azar;\n",
        "  std::mt19937 generador_aleatorio(dispositivo_azar());\n",
        "  std::uniform_int_distribution<> distribucion_aleatoria(INICIALIZADOR, VALOR_ALEATORIO_MAXIMO);\n",
        "  for (int i = INICIO_ITERADOR; i < TAMANIO_ARRAY; i++)\n",
        "    array[i] = distribucion_aleatoria(generador_aleatorio); \n",
        "}\n",
        "\n",
        "void MostrarArray()\n",
        "{\n",
        "  std::cout <<\"Valores del array: \"<< std::endl;\n",
        "  for (int i = INICIO_ITERADOR ; i < TAMANIO_ARRAY; i++)\n",
        "    std::cout<<array[i]<<\" \";\n",
        "  std::cout << std::endl;\n",
        "}\n",
        "\n",
        "void MostrarSumaArray()\n",
        "{\n",
        "  std::cout <<\"La suma de los valores del array da: \"<<suma_array<< std::endl;\n",
        "}\n",
        "\n",
        "void SumarArray()\n",
        "{\n",
        "  std::vector<std::thread> hilos;\n",
        "  for (int i = INICIALIZADOR; i < CANTIDAD_HILOS; i++)\n",
        "    hilos.emplace_back(FuncionEjecutadaPorHilo,AsignarRangoHilos(i*MITAD_DEL_ARRAY,TAMANIO_ARRAY-(MITAD_DEL_ARRAY*(UNO-i))));\n",
        "  for (auto& hilo : hilos) \n",
        "    hilo.join();\n",
        "}\n",
        "\n",
        "RangoHilos AsignarRangoHilos(int limite_inferior, int limite_superior)\n",
        "{\n",
        "  RangoHilos rango;\n",
        "  rango.valor_inicial = limite_inferior;\n",
        "  rango.valor_final = limite_superior;\n",
        "  return rango;\n",
        "}\n",
        "\n",
        "void FuncionEjecutadaPorHilo(RangoHilos rango_hilo)\n",
        "{\n",
        "  for (int i = rango_hilo.valor_inicial; i < rango_hilo.valor_final; i++)\n",
        "  {\n",
        "    mutex.lock();\n",
        "    suma_array += array[i];\n",
        "    mutex.unlock();\n",
        "  }\n",
        "}"
      ]
    },
    {
      "cell_type": "markdown",
      "source": [
        "Listo los archivos para asegurarme que tengo el .cpp."
      ],
      "metadata": {
        "id": "hDKvQzA0XsFl"
      }
    },
    {
      "cell_type": "code",
      "source": [
        "!ls -la"
      ],
      "metadata": {
        "colab": {
          "base_uri": "https://localhost:8080/"
        },
        "id": "6qc54ZGNW0U3",
        "outputId": "eaa5140e-1c90-4c32-a2f3-5b00fca9864b"
      },
      "execution_count": null,
      "outputs": [
        {
          "output_type": "stream",
          "name": "stdout",
          "text": [
            "total 20\n",
            "drwxr-xr-x 1 root root 4096 May  5 00:41 .\n",
            "drwxr-xr-x 1 root root 4096 May  5 00:36 ..\n",
            "drwxr-xr-x 4 root root 4096 May  3 13:30 .config\n",
            "drwxr-xr-x 1 root root 4096 May  3 13:31 sample_data\n",
            "-rw-r--r-- 1 root root 2247 May  5 00:41 tp1p4.cpp\n"
          ]
        }
      ]
    },
    {
      "cell_type": "markdown",
      "source": [
        "Compilo el archivo. Debo agregar pthread para que no arroje error al intentar compilar."
      ],
      "metadata": {
        "id": "ulrPzyeqXuou"
      }
    },
    {
      "cell_type": "code",
      "source": [
        "!g++ -std=c++11 -pthread -o tp1p4 tp1p4.cpp"
      ],
      "metadata": {
        "id": "iwC8SzYlW9ir"
      },
      "execution_count": null,
      "outputs": []
    },
    {
      "cell_type": "markdown",
      "source": [
        "Listo los archivos de nuevo para asegurarme que tengo el ejecutable. "
      ],
      "metadata": {
        "id": "_6X2qmYYX14P"
      }
    },
    {
      "cell_type": "code",
      "source": [
        "!ls -la"
      ],
      "metadata": {
        "colab": {
          "base_uri": "https://localhost:8080/"
        },
        "id": "zrwFZbU5XJyu",
        "outputId": "1e042cda-6b2c-4151-ba1c-ed9d057a0be3"
      },
      "execution_count": null,
      "outputs": [
        {
          "output_type": "stream",
          "name": "stdout",
          "text": [
            "total 84\n",
            "drwxr-xr-x 1 root root  4096 May  5 00:42 .\n",
            "drwxr-xr-x 1 root root  4096 May  5 00:36 ..\n",
            "drwxr-xr-x 4 root root  4096 May  3 13:30 .config\n",
            "drwxr-xr-x 1 root root  4096 May  3 13:31 sample_data\n",
            "-rwxr-xr-x 1 root root 62784 May  5 00:42 tp1p4\n",
            "-rw-r--r-- 1 root root  2247 May  5 00:41 tp1p4.cpp\n"
          ]
        }
      ]
    },
    {
      "cell_type": "markdown",
      "source": [
        "Utilizo el comando nohup para ejecutar el proceso en segundo plano, de manera que no me ocupe la consola. Es necesario añadir el caracter '&' al final.\n",
        "\n",
        "El comando 1>salidaC va a redirigir la salida estandar de la pantalla (stdout) a un archivo llamado salidaC.\n",
        "\n",
        "El comando 2>/dev/null envía la salida de error estandar (stderr) a dev/null."
      ],
      "metadata": {
        "id": "JOLriQe3X-IE"
      }
    },
    {
      "cell_type": "code",
      "source": [
        "!nohup ./tp1p4 5 1>salidaC 2>/dev/null & "
      ],
      "metadata": {
        "id": "ZB_P9SDUXK--"
      },
      "execution_count": null,
      "outputs": []
    },
    {
      "cell_type": "markdown",
      "source": [
        "Reviso el archivo de salida. Deberá mostrarme los valores del array y el total de la suma de sus elementos. Decidí generar aleatoriamente los valores del array."
      ],
      "metadata": {
        "id": "Lt9EMmVsYEYm"
      }
    },
    {
      "cell_type": "code",
      "source": [
        "!cat salidaC"
      ],
      "metadata": {
        "colab": {
          "base_uri": "https://localhost:8080/"
        },
        "id": "IevGToVCXOYP",
        "outputId": "c1c149c1-f02d-425a-a095-6e4f8891a786"
      },
      "execution_count": null,
      "outputs": [
        {
          "output_type": "stream",
          "name": "stdout",
          "text": [
            "Valores del array: \n",
            "49 29 87 91 20 96 92 5 33 51 \n",
            "La suma de los valores del array da: 553\n"
          ]
        }
      ]
    },
    {
      "cell_type": "markdown",
      "source": [
        "Vuelvo a ejecutar el proceso. Esta vez redirigiré la salida a un nuevo archivo. "
      ],
      "metadata": {
        "id": "81CFTclAYFcD"
      }
    },
    {
      "cell_type": "code",
      "source": [
        "!nohup ./tp1p4 5 1>salidaC2 2>/dev/null & "
      ],
      "metadata": {
        "id": "VbNZhc5DXR_7"
      },
      "execution_count": null,
      "outputs": []
    },
    {
      "cell_type": "markdown",
      "source": [
        "Reviso el archivo para verificar que tengo los valores del array y la suma."
      ],
      "metadata": {
        "id": "z3ZAyp-JYjxn"
      }
    },
    {
      "cell_type": "code",
      "source": [
        "!cat salidaC2"
      ],
      "metadata": {
        "colab": {
          "base_uri": "https://localhost:8080/"
        },
        "id": "x_yXzA0TXUA6",
        "outputId": "ce4c3e83-f594-44bf-ac51-f3edf18de8f0"
      },
      "execution_count": null,
      "outputs": [
        {
          "output_type": "stream",
          "name": "stdout",
          "text": [
            "Valores del array: \n",
            "78 8 26 86 7 64 29 20 86 8 \n",
            "La suma de los valores del array da: 412\n"
          ]
        }
      ]
    }
  ]
}