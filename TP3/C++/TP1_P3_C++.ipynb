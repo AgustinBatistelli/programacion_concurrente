{
  "nbformat": 4,
  "nbformat_minor": 0,
  "metadata": {
    "colab": {
      "provenance": [],
      "authorship_tag": "ABX9TyOgpL0Vf/tpqJvie6yt9Cl0",
      "include_colab_link": true
    },
    "kernelspec": {
      "name": "python3",
      "display_name": "Python 3"
    },
    "language_info": {
      "name": "python"
    }
  },
  "cells": [
    {
      "cell_type": "markdown",
      "metadata": {
        "id": "view-in-github",
        "colab_type": "text"
      },
      "source": [
        "<a href=\"https://colab.research.google.com/github/AgustinBatistelli/programacion_concurrente/blob/master/TP3/C%2B%2B/TP1_P3_C%2B%2B.ipynb\" target=\"_parent\"><img src=\"https://colab.research.google.com/assets/colab-badge.svg\" alt=\"Open In Colab\"/></a>"
      ]
    },
    {
      "cell_type": "markdown",
      "source": [
        "Voy a usar el comando writefile para escribir 2 archivos. Uno se llamará cliente.cpp y otro se llamará servidor.cpp. Los voy a necesitar a ambos para crear dos ejecutables. Uno para el cliente y otro para el servidor. "
      ],
      "metadata": {
        "id": "ZmvWFgOHvUBt"
      }
    },
    {
      "cell_type": "code",
      "source": [
        "%%writefile cliente.cpp\n",
        "#include <iostream>\n",
        "#include <string>\n",
        "#include <thread>\n",
        "#include <cstdlib>\n",
        "#include <ctime>\n",
        "#include <iomanip>\n",
        "#include <vector>\n",
        "#include <ctype.h>\n",
        "#include <cstring>\n",
        "#include <regex>\n",
        "#include <fcntl.h>\n",
        "#include <sys/stat.h>\n",
        "#include <unistd.h>\n",
        "\n",
        "#define EXPRESION_REGULAR \"^([1-9][0-9]*|0)-([1-9][0-9]*|0)-([1-9][0-9]*|0)-([1-9][0-9]*|0)$\"\n",
        "#define PARAMETROS_CORRECTOS 2\n",
        "#define PARAMETROS_INCORRECTOS 0\n",
        "#define ENTRADA_INCORRECTA PARAMETROS_INCORRECTOS\n",
        "#define EXITO 1\n",
        "#define NUMEROS_ENTEROS 4\n",
        "#define SEPARADOR \"-\"\n",
        "#define NOMBRE_FIFO \"./mififo\"\n",
        "#define ERROR_FIFO -1\n",
        "#define INICIALIZADOR 0\n",
        "#define PRIMERA_POSICION INICIALIZADOR\n",
        "#define FRACASO EXIT_FAILURE\n",
        "\n",
        "struct Numero\n",
        "{\n",
        "  int numeros[NUMEROS_ENTEROS];\n",
        "  float promedio;\n",
        "  int minimo;\n",
        "  int maximo;\n",
        "  int suma;\n",
        "  int cantidad_numeros;\n",
        "};\n",
        "\n",
        "bool CantidadCorrectaDeParametros(int parametros_recibidos, int parametros_esperados);\n",
        "Numero LlenarEstructura(char* entrada);\n",
        "void MostrarEstructura(Numero numero);\n",
        "\n",
        "int main(int argc, char* argv[])\n",
        "{\n",
        "  if(!CantidadCorrectaDeParametros(argc,PARAMETROS_CORRECTOS))\n",
        "  {\n",
        "    std::cout<<\"No ingreso la cantidad correcta de parametros. Debe ingresar 4 enteros separados por guion. Ej: 1-2-0-4\"<<std::endl;\n",
        "    return PARAMETROS_INCORRECTOS;\n",
        "  }\n",
        "  std::regex regex(EXPRESION_REGULAR);\n",
        "  if (!std::regex_match(argv[1], regex))\n",
        "  {\n",
        "    std::cout<<\"La entrada que ingreso NO es correcta\"<<std::endl;\n",
        "    return ENTRADA_INCORRECTA;\n",
        "  }\n",
        "  Numero numeros_operar = LlenarEstructura(argv[1]);\n",
        "  int fifo_fd = open(NOMBRE_FIFO,O_WRONLY);\n",
        "  if(write(fifo_fd,&numeros_operar,sizeof(Numero))==-1)\n",
        "  {\n",
        "    std::cout<<\"Error al escribir en el fifo\"<<std::endl;\n",
        "    return FRACASO;\n",
        "  }\n",
        "  close(fifo_fd);\n",
        "\n",
        "  fifo_fd = open(NOMBRE_FIFO,O_RDONLY);\n",
        "  if(read(fifo_fd,&numeros_operar,sizeof(Numero)) == -1)\n",
        "  {\n",
        "    std::cout<<\"Error al leer del fifo\"<<std::endl;\n",
        "    return FRACASO;\n",
        "  }\n",
        "  close(fifo_fd);\n",
        "  MostrarEstructura(numeros_operar);\n",
        "  return EXITO;\n",
        "}\n",
        "\n",
        "bool CantidadCorrectaDeParametros(int parametros_recibidos, int parametros_esperados)\n",
        "{\n",
        "  return parametros_recibidos == parametros_esperados;\n",
        "}\n",
        "\n",
        "Numero LlenarEstructura(char* entrada)\n",
        "{\n",
        "  Numero numero;\n",
        "  numero.cantidad_numeros = numero.maximo = numero.minimo = numero.suma = 0;\n",
        "  numero.promedio = INICIALIZADOR;\n",
        "  int i = INICIALIZADOR;\n",
        "  char* numero_obtenido = std::strtok(entrada, SEPARADOR);\n",
        "  while (numero_obtenido != nullptr)\n",
        "  {\n",
        "    numero.numeros[i++] = std::stoi(numero_obtenido);\n",
        "    numero_obtenido = std::strtok(nullptr, SEPARADOR);\n",
        "  }\n",
        "  return numero;\n",
        "}\n",
        "\n",
        "void MostrarEstructura(Numero numero)\n",
        "{\n",
        "  std::cout<<\"Numeros pasados por parametro: \";\n",
        "  for (int i = INICIALIZADOR; i < NUMEROS_ENTEROS; i++)\n",
        "    std::cout<<numero.numeros[i]<<\" \";\n",
        "  std::cout << std::endl;\n",
        "  std::cout<<\"El promedio da: \"<<numero.promedio<<std::endl;\n",
        "  std::cout<<\"El minimo es: \"<<numero.minimo<<std::endl;\n",
        "  std::cout<<\"El maximo es: \"<<numero.maximo<<std::endl;\n",
        "  std::cout<<\"La suma da: \"<<numero.suma<<std::endl;\n",
        "  std::cout<<\"La cantidad de numeros es: \"<<numero.cantidad_numeros<<std::endl;\n",
        "}"
      ],
      "metadata": {
        "colab": {
          "base_uri": "https://localhost:8080/"
        },
        "id": "ES4_utAivcZS",
        "outputId": "f063250e-0cb3-40f0-f8a3-bf23a6c1f55f"
      },
      "execution_count": 1,
      "outputs": [
        {
          "output_type": "stream",
          "name": "stdout",
          "text": [
            "Writing cliente.cpp\n"
          ]
        }
      ]
    },
    {
      "cell_type": "code",
      "source": [
        "%%writefile servidor.cpp\n",
        "#include <iostream>\n",
        "#include <string>\n",
        "#include <thread>\n",
        "#include <cstdlib>\n",
        "#include <ctime>\n",
        "#include <iomanip>\n",
        "#include <vector>\n",
        "#include <ctype.h>\n",
        "#include <cstring>\n",
        "#include <regex>\n",
        "#include <fcntl.h>\n",
        "#include <sys/stat.h>\n",
        "#include <unistd.h>\n",
        "\n",
        "#define EXITO 1\n",
        "#define FRACASO EXIT_FAILURE\n",
        "#define NUMEROS_ENTEROS 4\n",
        "#define NOMBRE_FIFO \"./mififo\"\n",
        "#define ERROR_FIFO -1\n",
        "#define INICIALIZADOR 0\n",
        "#define PRIMERA_POSICION INICIALIZADOR\n",
        "\n",
        "struct Numero\n",
        "{\n",
        "  int numeros[NUMEROS_ENTEROS];\n",
        "  float promedio;\n",
        "  int minimo;\n",
        "  int maximo;\n",
        "  int suma;\n",
        "  int cantidad_numeros;\n",
        "};\n",
        "\n",
        "void OperarEstructura(Numero* numero);\n",
        "\n",
        "int main(int argc, char* argv[])\n",
        "{\n",
        "  if (mkfifo(NOMBRE_FIFO, 0600) == ERROR_FIFO)\n",
        "  {\n",
        "    std::cout<<\"Error al crear el fifo\"<<std::endl;\n",
        "    return FRACASO;\n",
        "  }\n",
        "  Numero numeros_para_cliente;\n",
        "  int fifo_fd = open(NOMBRE_FIFO,O_RDONLY);\n",
        "  if(read(fifo_fd,&numeros_para_cliente,sizeof(Numero)) == ERROR_FIFO)\n",
        "  {\n",
        "    std::cout<<\"Error al leer del fifo\"<<std::endl;\n",
        "    return FRACASO;\n",
        "  }\n",
        "  close(fifo_fd);\n",
        "  OperarEstructura(&numeros_para_cliente);\n",
        "  fifo_fd = open(NOMBRE_FIFO,O_WRONLY);\n",
        "  if(write(fifo_fd,&numeros_para_cliente,sizeof(Numero)) == ERROR_FIFO)\n",
        "  { \n",
        "    std::cout<<\"Error al escribir en el fifo\"<<std::endl;\n",
        "    return FRACASO;\n",
        "  }\n",
        "  close(fifo_fd);\n",
        "  unlink(NOMBRE_FIFO);\n",
        "  return EXITO;\n",
        "}\n",
        "\n",
        "void OperarEstructura(Numero* numero)\n",
        "{\n",
        "  for (int i = INICIALIZADOR; i < NUMEROS_ENTEROS; i++)\n",
        "  {\n",
        "    numero->suma+=numero->numeros[i];\n",
        "    numero->cantidad_numeros++;\n",
        "    if (i == PRIMERA_POSICION)\n",
        "      numero->minimo = numero->maximo = numero->numeros[i];\n",
        "    else\n",
        "    {\n",
        "      if(numero->numeros[i] < numero->minimo)\n",
        "        numero->minimo = numero->numeros[i];\n",
        "      if (numero->numeros[i] > numero->maximo)\n",
        "        numero->maximo = numero->numeros[i];\n",
        "    }\n",
        "  }\n",
        "  numero->promedio = (float)numero->suma/numero->cantidad_numeros;\n",
        "}"
      ],
      "metadata": {
        "colab": {
          "base_uri": "https://localhost:8080/"
        },
        "id": "X5NbF52Gvi2v",
        "outputId": "14afa705-596a-4421-a3e6-f46e414c27d9"
      },
      "execution_count": 2,
      "outputs": [
        {
          "output_type": "stream",
          "name": "stdout",
          "text": [
            "Writing servidor.cpp\n"
          ]
        }
      ]
    },
    {
      "cell_type": "markdown",
      "source": [
        "Listo los archivos para asegurarme que ambos archivos .cpp están creados. "
      ],
      "metadata": {
        "id": "lHjFMrnGvsuJ"
      }
    },
    {
      "cell_type": "code",
      "source": [
        "!ls -la"
      ],
      "metadata": {
        "colab": {
          "base_uri": "https://localhost:8080/"
        },
        "id": "TG1iMIJQvzmx",
        "outputId": "807672aa-a4d9-48c2-9fb3-47466d9a53f4"
      },
      "execution_count": 3,
      "outputs": [
        {
          "output_type": "stream",
          "name": "stdout",
          "text": [
            "total 24\n",
            "drwxr-xr-x 1 root root 4096 Apr 28 02:43 .\n",
            "drwxr-xr-x 1 root root 4096 Apr 28 02:40 ..\n",
            "-rw-r--r-- 1 root root 3027 Apr 28 02:43 cliente.cpp\n",
            "drwxr-xr-x 4 root root 4096 Apr 26 17:35 .config\n",
            "drwxr-xr-x 1 root root 4096 Apr 26 17:36 sample_data\n",
            "-rw-r--r-- 1 root root 1854 Apr 28 02:43 servidor.cpp\n"
          ]
        }
      ]
    },
    {
      "cell_type": "markdown",
      "source": [
        "Compilo los dos archivos para generar los ejecutables. Los llamaré Cliente y Servidor. "
      ],
      "metadata": {
        "id": "8VVTIAGzv1sX"
      }
    },
    {
      "cell_type": "code",
      "source": [
        "!g++ -std=c++11 -o Cliente cliente.cpp"
      ],
      "metadata": {
        "id": "S21hLclHv6yu"
      },
      "execution_count": 4,
      "outputs": []
    },
    {
      "cell_type": "code",
      "source": [
        "!g++ -std=c++11 -o Servidor servidor.cpp"
      ],
      "metadata": {
        "id": "P8m--1VAwBAu"
      },
      "execution_count": 5,
      "outputs": []
    },
    {
      "cell_type": "markdown",
      "source": [
        "Vuelvo a listar los archivos para asegurarme de que poseo los dos ejecutables. "
      ],
      "metadata": {
        "id": "ZyDP2UouwIeI"
      }
    },
    {
      "cell_type": "code",
      "source": [
        "!ls -la"
      ],
      "metadata": {
        "colab": {
          "base_uri": "https://localhost:8080/"
        },
        "id": "CUaGB1M4wLq6",
        "outputId": "989bcb92-02cb-49e1-e0bb-effa0e095d47"
      },
      "execution_count": 6,
      "outputs": [
        {
          "output_type": "stream",
          "name": "stdout",
          "text": [
            "total 612\n",
            "drwxr-xr-x 1 root root   4096 Apr 28 02:45 .\n",
            "drwxr-xr-x 1 root root   4096 Apr 28 02:40 ..\n",
            "-rwxr-xr-x 1 root root 580872 Apr 28 02:45 Cliente\n",
            "-rw-r--r-- 1 root root   3027 Apr 28 02:43 cliente.cpp\n",
            "drwxr-xr-x 4 root root   4096 Apr 26 17:35 .config\n",
            "drwxr-xr-x 1 root root   4096 Apr 26 17:36 sample_data\n",
            "-rwxr-xr-x 1 root root  20176 Apr 28 02:45 Servidor\n",
            "-rw-r--r-- 1 root root   1854 Apr 28 02:43 servidor.cpp\n"
          ]
        }
      ]
    },
    {
      "cell_type": "markdown",
      "source": [
        "Tengo que ejecutar primero el proceso Servidor y luego el cliente. \n",
        "Esto es así debido a que le asigné al programa servidor la responsabilidad de crear el archivo FIFO. Por lo tanto, realizaré lo siguiente. \n",
        "Ejecutaré el proceso Servidor en segundo plano para poder seguir usando la terminal. Enviaré la salida estandar al archivo salidaC y la salida de error a /dev/null .\n",
        "Luego de esto, ejecutaré el proceso Cliente. "
      ],
      "metadata": {
        "id": "VJmh7vRowNsd"
      }
    },
    {
      "cell_type": "code",
      "source": [
        "!nohup ./Servidor 1>salidaC 2>/dev/null & "
      ],
      "metadata": {
        "id": "QeWI9-pawq08"
      },
      "execution_count": 17,
      "outputs": []
    },
    {
      "cell_type": "markdown",
      "source": [
        "Tras haber puesto al proceso Servidor a correr en segundo plano, ejecutaré el proceso Cliente. Debo ingresarle 4 números enteros separados por guion. Caso contrario, me arrojará un error en el pasaje de parámetros. \n",
        "El proceso Cliente deberá: \n",
        " \n",
        "\n",
        "*   Informar los números pasados por parámetro.\n",
        "*   Mostrar el promedio de los números.\n",
        "*   Mostrar el mínimo de los números.\n",
        "*   Mostrar el máximo de los números.\n",
        "*   Mostrar la suma de los números.\n",
        "*   Mostrar la cantidad de números."
      ],
      "metadata": {
        "id": "nScYGAuww9dT"
      }
    },
    {
      "cell_type": "code",
      "source": [
        "!./Cliente 1-2-0-4"
      ],
      "metadata": {
        "colab": {
          "base_uri": "https://localhost:8080/"
        },
        "id": "9DmjhQkhw1qM",
        "outputId": "f09c8f17-7ac3-4e2f-fe4f-c5ca5717daa6"
      },
      "execution_count": 12,
      "outputs": [
        {
          "output_type": "stream",
          "name": "stdout",
          "text": [
            "Numeros pasados por parametro: 1 2 0 4 \n",
            "El promedio da: 1.75\n",
            "El minimo es: 0\n",
            "El maximo es: 4\n",
            "La suma da: 7\n",
            "La cantidad de numeros es: 4\n"
          ]
        }
      ]
    },
    {
      "cell_type": "markdown",
      "source": [
        "Intento correr el proceso Cliente sin haber ejecutado antes el servidor. Debería dar error al intentar enviar la información al proceso servidor dado a que se comunican mediante un FIFO. Al haber delegado la creación del FIFO al proceso Servidor, este no se ha creado y arrojará error. "
      ],
      "metadata": {
        "id": "UAM3YiVHx-s3"
      }
    },
    {
      "cell_type": "code",
      "source": [
        "!./Cliente 1-2-0-4"
      ],
      "metadata": {
        "colab": {
          "base_uri": "https://localhost:8080/"
        },
        "id": "8YnCzvSqyDt6",
        "outputId": "8542f5a7-9e5b-40f1-bb20-39203db1c5f7"
      },
      "execution_count": 13,
      "outputs": [
        {
          "output_type": "stream",
          "name": "stdout",
          "text": [
            "Error al escribir en el fifo\n"
          ]
        }
      ]
    },
    {
      "cell_type": "markdown",
      "source": [
        "Intento correr el proceso Cliente. Primero sin pasarle ningún parámetro. Luego pasándole dos parámetros. Y por último, pasandole una cadena de entrada no válida. \n",
        "Esto para que muestre mensajes de error al validar los parámetros, y comprobar que no está intentando siquiera escribir en el FIFO si los parámetros recibidos no son correctos."
      ],
      "metadata": {
        "id": "PNzf8sebyWHF"
      }
    },
    {
      "cell_type": "code",
      "source": [
        "!./Cliente"
      ],
      "metadata": {
        "colab": {
          "base_uri": "https://localhost:8080/"
        },
        "id": "y2AwW34WysKV",
        "outputId": "9b3368d3-2e0f-4a1c-887f-c2c4ed4a6f78"
      },
      "execution_count": 14,
      "outputs": [
        {
          "output_type": "stream",
          "name": "stdout",
          "text": [
            "No ingreso la cantidad correcta de parametros. Debe ingresar 4 enteros separados por guion. Ej: 1-2-0-4\n"
          ]
        }
      ]
    },
    {
      "cell_type": "code",
      "source": [
        "!./Cliente 1-2-0-4 1-8-9-0"
      ],
      "metadata": {
        "colab": {
          "base_uri": "https://localhost:8080/"
        },
        "id": "-UmZJw0PyskT",
        "outputId": "50db783d-9308-4550-f12a-b143582a6479"
      },
      "execution_count": 15,
      "outputs": [
        {
          "output_type": "stream",
          "name": "stdout",
          "text": [
            "No ingreso la cantidad correcta de parametros. Debe ingresar 4 enteros separados por guion. Ej: 1-2-0-4\n"
          ]
        }
      ]
    },
    {
      "cell_type": "code",
      "source": [
        "!./Cliente 1.5-2,6-01-4A"
      ],
      "metadata": {
        "colab": {
          "base_uri": "https://localhost:8080/"
        },
        "id": "EqddIkrOys5O",
        "outputId": "6b5abf64-60b8-423e-9959-c444934bd939"
      },
      "execution_count": 16,
      "outputs": [
        {
          "output_type": "stream",
          "name": "stdout",
          "text": [
            "La entrada que ingreso NO es correcta\n"
          ]
        }
      ]
    },
    {
      "cell_type": "markdown",
      "source": [
        "Voy a ejecutar el proceso Cliente una vez más para comprobar su correcto funcionamiento, esta vez con valores diferentes a los usados en la primera ejecución. Recordar ejecutar el proceso Servidor antes de intentarlo. "
      ],
      "metadata": {
        "id": "O5SndSH3y9dS"
      }
    },
    {
      "cell_type": "code",
      "source": [
        "!./Cliente 13-42-10-4"
      ],
      "metadata": {
        "colab": {
          "base_uri": "https://localhost:8080/"
        },
        "id": "_JsZlS2tzUiv",
        "outputId": "804570e7-573b-4f3d-907b-f5aad86fdb71"
      },
      "execution_count": 18,
      "outputs": [
        {
          "output_type": "stream",
          "name": "stdout",
          "text": [
            "Numeros pasados por parametro: 13 42 10 4 \n",
            "El promedio da: 17.25\n",
            "El minimo es: 4\n",
            "El maximo es: 42\n",
            "La suma da: 69\n",
            "La cantidad de numeros es: 4\n"
          ]
        }
      ]
    }
  ]
}