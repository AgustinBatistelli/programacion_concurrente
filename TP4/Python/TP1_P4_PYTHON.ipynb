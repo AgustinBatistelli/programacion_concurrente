{
  "nbformat": 4,
  "nbformat_minor": 0,
  "metadata": {
    "colab": {
      "provenance": [],
      "authorship_tag": "ABX9TyPpgtWwwHUSnchu8FCJvjP4",
      "include_colab_link": true
    },
    "kernelspec": {
      "name": "python3",
      "display_name": "Python 3"
    },
    "language_info": {
      "name": "python"
    }
  },
  "cells": [
    {
      "cell_type": "markdown",
      "metadata": {
        "id": "view-in-github",
        "colab_type": "text"
      },
      "source": [
        "<a href=\"https://colab.research.google.com/github/AgustinBatistelli/programacion_concurrente/blob/master/TP4/Python/TP1_P4_PYTHON.ipynb\" target=\"_parent\"><img src=\"https://colab.research.google.com/assets/colab-badge.svg\" alt=\"Open In Colab\"/></a>"
      ]
    },
    {
      "cell_type": "markdown",
      "source": [
        "Se usa el comando writefile para crear el archivo TP1P4.py para ejecutarlo luego."
      ],
      "metadata": {
        "id": "D3a6UHTXGsRW"
      }
    },
    {
      "cell_type": "code",
      "execution_count": 7,
      "metadata": {
        "colab": {
          "base_uri": "https://localhost:8080/"
        },
        "id": "siS2m0CSDLRi",
        "outputId": "7029a042-2e03-4618-98c8-b91267db0add"
      },
      "outputs": [
        {
          "output_type": "stream",
          "name": "stdout",
          "text": [
            "Overwriting TP1P4.py\n"
          ]
        }
      ],
      "source": [
        "%%writefile TP1P4.py\n",
        "import os\n",
        "import sys\n",
        "import threading\n",
        "import re\n",
        "\n",
        "CANTIDAD_DE_HILOS = 2\n",
        "ASCII_A_RESTAR = 64\n",
        "UNO = 1\n",
        "EXITO = 0\n",
        "ERROR = UNO\n",
        "PARAMETRO = UNO\n",
        "DIVISOR_MITAD = 2\n",
        "PARAMETROS_CORRECTOS = 2\n",
        "RESTO_CERO = 0\n",
        "INICIALIZADOR = RESTO_CERO\n",
        "PRIMER_HILO = INICIALIZADOR\n",
        "INICIALIZADOR_CADENA = \"\"\n",
        "EXPRESION_REGULAR = \"[^A-Za-z]\"\n",
        "\n",
        "lock = threading.Lock()\n",
        "\n",
        "class DatosCadena:\n",
        "\tresto = INICIALIZADOR\n",
        "\tmitad = INICIALIZADOR\n",
        "\tcadena = INICIALIZADOR_CADENA\n",
        "\tresultado = []\n",
        "\tletra_convertida = INICIALIZADOR\n",
        "\t\n",
        "datos_cadena = DatosCadena()\n",
        "\n",
        "def main():\n",
        "\n",
        "\tif(not parametros_correctos()):\n",
        "\t\tprint(\"Debe ingresar una palabra como parametro, sin numeros ni caracteres especiales\")\n",
        "\t\tos._exit(ERROR)\n",
        "\t\n",
        "\tllenar_datos_cadena()\n",
        "\tcrear_hilos()\n",
        "\tmostrar_resultado()\n",
        "\tos._exit(EXITO)\n",
        "\t\n",
        "def parametros_correctos():\n",
        "\treturn len(sys.argv) == PARAMETROS_CORRECTOS and not re.search(EXPRESION_REGULAR, sys.argv[PARAMETRO])\n",
        "\t\n",
        "def llenar_datos_cadena():\n",
        "\tdatos_cadena.cadena = sys.argv[PARAMETRO].upper()\n",
        "\ttamanio_de_palabra = len(datos_cadena.cadena)\n",
        "\tdatos_cadena.resto = tamanio_de_palabra % DIVISOR_MITAD\n",
        "\tdatos_cadena.mitad = int(tamanio_de_palabra / DIVISOR_MITAD)\n",
        "\tdatos_cadena.resultado = [INICIALIZADOR for x in range(tamanio_de_palabra)]\n",
        "\t\n",
        "def crear_hilos():\n",
        "\thilos = []\n",
        "\n",
        "\tfor i in range(CANTIDAD_DE_HILOS):\n",
        "\t\tthread = threading.Thread(target=generar_contrasenia, args=(obtener_cantidad_caracteres(i),));\n",
        "\t\tthread.start();\n",
        "\t\thilos.append(thread);\n",
        "\t\t\n",
        "\tfor hilo in hilos:\n",
        "\t\thilo.join();\n",
        "\t\n",
        "def generar_contrasenia(cantidad_de_caracteres):\n",
        "\tfor _ in range(cantidad_de_caracteres):\n",
        "\t\twith lock:\n",
        "\t\t\tdatos_cadena.resultado[datos_cadena.letra_convertida] = ord(datos_cadena.cadena[datos_cadena.letra_convertida]) - ASCII_A_RESTAR\n",
        "\t\t\tdatos_cadena.letra_convertida += UNO\n",
        "\t\t\n",
        "def obtener_cantidad_caracteres(hilo):\n",
        "\tif(datos_cadena.resto == RESTO_CERO or hilo == PRIMER_HILO):\n",
        "\t\treturn datos_cadena.mitad\n",
        "\treturn datos_cadena.mitad + UNO\n",
        "\n",
        "def mostrar_resultado():\n",
        "\tprint(\"Palabra ingresada: \" + datos_cadena.cadena)\t\t\n",
        "\tprint(\"Contraseña generada: \" + str(datos_cadena.resultado))\n",
        "\n",
        "main()"
      ]
    },
    {
      "cell_type": "markdown",
      "source": [
        "Se listan los archivos para comprobar que TP1P4.py fue creado."
      ],
      "metadata": {
        "id": "tC-lBSZaG-wO"
      }
    },
    {
      "cell_type": "code",
      "source": [
        "!ls -la"
      ],
      "metadata": {
        "colab": {
          "base_uri": "https://localhost:8080/"
        },
        "id": "r4AQ2_jYDlTc",
        "outputId": "619258a3-da67-43a4-fad3-e8369d5d5200"
      },
      "execution_count": 8,
      "outputs": [
        {
          "output_type": "stream",
          "name": "stdout",
          "text": [
            "total 20\n",
            "drwxr-xr-x 1 root root 4096 May  9 16:36 .\n",
            "drwxr-xr-x 1 root root 4096 May  9 16:35 ..\n",
            "drwxr-xr-x 4 root root 4096 May  8 13:36 .config\n",
            "drwxr-xr-x 1 root root 4096 May  8 13:37 sample_data\n",
            "-rw-r--r-- 1 root root 2041 May  9 16:37 TP1P4.py\n"
          ]
        }
      ]
    },
    {
      "cell_type": "markdown",
      "source": [
        "Se ejecuta el proceso pasandole una palabra como parametro. La misma no puede contener números ni caracteres especiales. En caso de usar letras minúsculas, seran convertidas a mayúsculas. El proceso mostrará por pantalla la contraseña generada."
      ],
      "metadata": {
        "id": "945_Wo02HFEQ"
      }
    },
    {
      "cell_type": "code",
      "source": [
        "!python3 TP1P4.py arboLiTOS"
      ],
      "metadata": {
        "colab": {
          "base_uri": "https://localhost:8080/"
        },
        "id": "V_diOVsKGRpt",
        "outputId": "d8e339c9-3fdb-4123-f91d-482edc5f9f76"
      },
      "execution_count": 9,
      "outputs": [
        {
          "output_type": "stream",
          "name": "stdout",
          "text": [
            "Palabra ingresada: ARBOLITOS\n",
            "Contraseña generada: [1, 18, 2, 15, 12, 9, 20, 15, 19]\n"
          ]
        }
      ]
    },
    {
      "cell_type": "markdown",
      "source": [
        "Se mostrará un error por pantalla en caso de no pasar ningún parametro."
      ],
      "metadata": {
        "id": "i1vOpIIyIBat"
      }
    },
    {
      "cell_type": "code",
      "source": [
        "!python3 TP1P4.py"
      ],
      "metadata": {
        "colab": {
          "base_uri": "https://localhost:8080/"
        },
        "id": "ppt10hY_ETdx",
        "outputId": "998d6f3a-882c-4804-d8a5-721cc0a2f404"
      },
      "execution_count": 10,
      "outputs": [
        {
          "output_type": "stream",
          "name": "stdout",
          "text": [
            "Debe ingresar una palabra como parametro, sin numeros ni caracteres especiales\n"
          ]
        }
      ]
    },
    {
      "cell_type": "markdown",
      "source": [
        "Se mostrará un error por pantalla en caso de no pasar una palabra sin numeros ni caracteres especiales como parametro."
      ],
      "metadata": {
        "id": "HStdS-1aIQiU"
      }
    },
    {
      "cell_type": "code",
      "source": [
        "!python3 TP1P4.py ARboLITo89="
      ],
      "metadata": {
        "colab": {
          "base_uri": "https://localhost:8080/"
        },
        "id": "xMwaBeCKGjZe",
        "outputId": "9860088b-7133-495a-83d2-28e3a9ef5b2e"
      },
      "execution_count": 11,
      "outputs": [
        {
          "output_type": "stream",
          "name": "stdout",
          "text": [
            "Debe ingresar una palabra como parametro, sin numeros ni caracteres especiales\n"
          ]
        }
      ]
    }
  ]
}