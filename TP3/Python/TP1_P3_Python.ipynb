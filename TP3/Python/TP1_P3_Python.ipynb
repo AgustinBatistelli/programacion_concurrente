{
  "nbformat": 4,
  "nbformat_minor": 0,
  "metadata": {
    "colab": {
      "provenance": []
    },
    "kernelspec": {
      "name": "python3",
      "display_name": "Python 3"
    },
    "language_info": {
      "name": "python"
    }
  },
  "cells": [
    {
      "cell_type": "markdown",
      "source": [
        "Se crea archivo con un poco de texto"
      ],
      "metadata": {
        "id": "xAU_wD3EljuJ"
      }
    },
    {
      "cell_type": "code",
      "execution_count": 186,
      "metadata": {
        "id": "B0pjPjd_-vS8"
      },
      "outputs": [],
      "source": [
        "!echo \"Lorem Ipsum es simplemente el texto de relleno de las imprentas y archivos de texto. Lorem Ipsum ha sido el texto de relleno estándar de las industrias desde el año 1500, cuando un impresor (N. del T. persona que se dedica a la imprenta) desconocido usó una galería de textos y los mezcló de tal manera que logró hacer un libro de textos especimen. No sólo sobrevivió 500 años, sino que tambien ingresó como texto de relleno en documentos electrónicos, quedando esencialmente igual al original. Fue popularizado en los 60s con la creación de las hojas \"Letraset\", las cuales contenian pasajes de Lorem Ipsum, y más recientemente con software de autoedición, como por ejemplo Aldus PageMaker, el cual incluye versiones de Lorem Ipsum.\" > file.txt"
      ]
    },
    {
      "cell_type": "markdown",
      "source": [
        "Programa para copiar el archivo usando pipes"
      ],
      "metadata": {
        "id": "Mc6Z3iI4lq42"
      }
    },
    {
      "cell_type": "code",
      "source": [
        "%%writefile copy_copy.py\n",
        "import multiprocessing\n",
        "import pathlib\n",
        "import time\n",
        "import sys\n",
        "\n",
        "def send_file(write_end, file_name, chunk_size):\n",
        "  try:\n",
        "    with open(file_name, \"rb\") as file:\n",
        "      bytes = file.read(chunk_size)\n",
        "      while bytes:\n",
        "        print(bytes)\n",
        "        write_end.send_bytes(bytes)\n",
        "        bytes = file.read(chunk_size)\n",
        "    write_end.close()\n",
        "  except FileNotFoundError:\n",
        "    print(\"Archivo no encontrado.\")\n",
        "\n",
        "def child(read_end, origin_file, chunk_size = 512):\n",
        "  # create destiny file\n",
        "  destiny_file = origin_file.with_stem(origin_file.stem + '_copy')\n",
        "  file_content = b''\n",
        "  counter = 0\n",
        "  # get chunks to receive\n",
        "  times = origin_file.stat().st_size / chunk_size\n",
        "  try:\n",
        "    with open(destiny_file, 'wb') as file:\n",
        "      while counter < times:\n",
        "        msg = read_end.recv_bytes()\n",
        "        file.write(msg)\n",
        "        counter += 1\n",
        "  except EOFError:\n",
        "    print(\"Algo salió mal con el pipe.\")\n",
        "  read_end.close()\n",
        "\n",
        "def father(file_name, chunk_size = 512):\n",
        "  # Make pipe\n",
        "  read_end, write_end = multiprocessing.Pipe()\n",
        "  # Start child\n",
        "  process = multiprocessing.Process(target=child, args=(read_end, file_name, chunk_size, ))\n",
        "  process.start()\n",
        "  send_file(write_end, file_name, chunk_size)\n",
        "  process.join()\n",
        "\n",
        "if __name__ == '__main__':\n",
        "    args = sys.argv\n",
        "    chunk_size = None\n",
        "    print(args)\n",
        "    if len(args) < 2:\n",
        "      print(\"Debe pasar la ruta de un archivo válido.\")\n",
        "      exit(-1)\n",
        "    try:\n",
        "      if len(args) > 2 and int(args[2]) > 0:\n",
        "        chunk_size = int(args[2])\n",
        "      else:\n",
        "        print(\"El tamaño del chunk debe ser mayor a 0 bytes\")\n",
        "    except ValueError:\n",
        "      print(\"El tamaño del chunk debe ser un número natural medido en bytes.\")\n",
        "\n",
        "    #Check file\n",
        "    file_name = pathlib.Path(args[1])\n",
        "    if not file_name.exists() or not file_name.is_file():\n",
        "      print(\"Archivo no encontrado\")\n",
        "      exit -1\n",
        "    if chunk_size == None:\n",
        "      father(file_name)\n",
        "    else:\n",
        "      father(file_name, chunk_size)"
      ],
      "metadata": {
        "colab": {
          "base_uri": "https://localhost:8080/"
        },
        "id": "zsZmkI8m-8mu",
        "outputId": "8ee4c967-1196-4bec-b7e5-a23fa28e5495"
      },
      "execution_count": 218,
      "outputs": [
        {
          "output_type": "stream",
          "name": "stdout",
          "text": [
            "Overwriting copy_copy.py\n"
          ]
        }
      ]
    },
    {
      "cell_type": "markdown",
      "source": [
        "Listo archivos para segurarme que tengo creados tanto el archivo a copiar como el script de python"
      ],
      "metadata": {
        "id": "BfUTA6AcmZzT"
      }
    },
    {
      "cell_type": "code",
      "source": [
        "!ls -lash "
      ],
      "metadata": {
        "colab": {
          "base_uri": "https://localhost:8080/"
        },
        "id": "jlgbLRYX-2L6",
        "outputId": "c51533ce-a050-4e36-d23b-84bf2f492099"
      },
      "execution_count": 78,
      "outputs": [
        {
          "output_type": "stream",
          "name": "stdout",
          "text": [
            "total 24K\n",
            "4.0K drwxr-xr-x 1 root root 4.0K Apr 28 23:30 .\n",
            "4.0K drwxr-xr-x 1 root root 4.0K Apr 28 22:27 ..\n",
            "4.0K drwxr-xr-x 4 root root 4.0K Apr 27 13:34 .config\n",
            "4.0K -rw-r--r-- 1 root root   10 Apr 28 23:30 file_copy.txt\n",
            "4.0K -rw-r--r-- 1 root root   10 Apr 28 22:28 file.txt\n",
            "4.0K drwxr-xr-x 1 root root 4.0K Apr 27 13:35 sample_data\n"
          ]
        }
      ]
    },
    {
      "cell_type": "markdown",
      "source": [
        "Para ejecutar el programa sin bloquear la consola. El programa espera, si o si recibir un nombre de archivo como parametro o dará error y finalizará. \n",
        "\n",
        "Opcionalmente, se puede pasar un segundo parametro que debe ser un número natural, que representa la cantidad de bytes a pasar por chunk en el pipe, en caso que no se pase este parametro los chunks seran de 512 bytes."
      ],
      "metadata": {
        "id": "CcIQ7Th6lv0n"
      }
    },
    {
      "cell_type": "code",
      "source": [
        "!nohup python copy_copy.py 'file.txt' -1024 1>salida 2>errors &"
      ],
      "metadata": {
        "id": "rt__QIJZbSEB"
      },
      "execution_count": 227,
      "outputs": []
    },
    {
      "cell_type": "markdown",
      "source": [],
      "metadata": {
        "id": "Vij9jjXenNVW"
      }
    },
    {
      "cell_type": "code",
      "source": [
        "!cat salida"
      ],
      "metadata": {
        "colab": {
          "base_uri": "https://localhost:8080/"
        },
        "id": "2cN3bTsXNQPI",
        "outputId": "f8dfcb2a-76d3-46d2-89dc-b12b0d4c56a1"
      },
      "execution_count": 228,
      "outputs": [
        {
          "output_type": "stream",
          "name": "stdout",
          "text": [
            "['copy_copy.py', 'file.txt', '-1024']\n",
            "False\n",
            "False\n",
            "b'Lorem Ipsum es simplemente el texto de relleno de las imprentas y archivos de texto. Lorem Ipsum ha sido el texto de relleno est\\xc3\\xa1ndar de las industrias desde el a\\xc3\\xb1o 1500, cuando un impresor (N. del T. persona que se dedica a la imprenta) desconocido us\\xc3\\xb3 una galer\\xc3\\xada de textos y los mezcl\\xc3\\xb3 de tal manera que logr\\xc3\\xb3 hacer un libro de textos especimen. No s\\xc3\\xb3lo sobrevivi\\xc3\\xb3 500 a\\xc3\\xb1os, sino que tambien ingres\\xc3\\xb3 como texto de relleno en documentos electr\\xc3\\xb3nicos, quedando esencialmente igual al original. Fue po'\n",
            "b'pularizado en los 60s con la creaci\\xc3\\xb3n de las hojas Letraset, las cuales contenian pasajes de Lorem Ipsum, y m\\xc3\\xa1s recientemente con software de autoedici\\xc3\\xb3n, como por ejemplo Aldus PageMaker, el cual incluye versiones de Lorem Ipsum.\\n'\n",
            "We are closing\n"
          ]
        }
      ]
    },
    {
      "cell_type": "code",
      "source": [
        "!cat errors"
      ],
      "metadata": {
        "id": "JbYyIwTcdstu"
      },
      "execution_count": 229,
      "outputs": []
    },
    {
      "cell_type": "code",
      "source": [
        "!cat file_copy.txt"
      ],
      "metadata": {
        "colab": {
          "base_uri": "https://localhost:8080/"
        },
        "id": "GAwIAPQAdv-O",
        "outputId": "a1a9889c-a804-45d9-ab8a-625790f3a5ac"
      },
      "execution_count": 230,
      "outputs": [
        {
          "output_type": "stream",
          "name": "stdout",
          "text": [
            "Lorem Ipsum es simplemente el texto de relleno de las imprentas y archivos de texto. Lorem Ipsum ha sido el texto de relleno estándar de las industrias desde el año 1500, cuando un impresor (N. del T. persona que se dedica a la imprenta) desconocido usó una galería de textos y los mezcló de tal manera que logró hacer un libro de textos especimen. No sólo sobrevivió 500 años, sino que tambien ingresó como texto de relleno en documentos electrónicos, quedando esencialmente igual al original. Fue popularizado en los 60s con la creación de las hojas Letraset, las cuales contenian pasajes de Lorem Ipsum, y más recientemente con software de autoedición, como por ejemplo Aldus PageMaker, el cual incluye versiones de Lorem Ipsum.\n"
          ]
        }
      ]
    },
    {
      "cell_type": "code",
      "source": [
        "!rm file_copy.txt"
      ],
      "metadata": {
        "id": "IpfmPDc3d3rq"
      },
      "execution_count": 231,
      "outputs": []
    }
  ]
}