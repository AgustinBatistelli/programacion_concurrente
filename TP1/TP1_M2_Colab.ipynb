{
  "nbformat": 4,
  "nbformat_minor": 0,
  "metadata": {
    "colab": {
      "provenance": [],
      "collapsed_sections": [
        "UhBSbagBjoSY"
      ],
      "toc_visible": true,
      "include_colab_link": true
    },
    "kernelspec": {
      "name": "python3",
      "display_name": "Python 3"
    },
    "language_info": {
      "name": "python"
    }
  },
  "cells": [
    {
      "cell_type": "markdown",
      "metadata": {
        "id": "view-in-github",
        "colab_type": "text"
      },
      "source": [
        "<a href=\"https://colab.research.google.com/github/AgustinBatistelli/programacion_concurrente/blob/master/TP1/TP1_M2_Colab.ipynb\" target=\"_parent\"><img src=\"https://colab.research.google.com/assets/colab-badge.svg\" alt=\"Open In Colab\"/></a>"
      ]
    },
    {
      "cell_type": "markdown",
      "source": [
        "# TP1"
      ],
      "metadata": {
        "id": "U1LEkhKyzfTX"
      }
    },
    {
      "cell_type": "markdown",
      "source": [
        "Repositorio de codigo: [GitHub](https://github.com/AgustinBatistelli/programacion_concurrente)"
      ],
      "metadata": {
        "id": "QyPVNZILxoEQ"
      }
    },
    {
      "cell_type": "markdown",
      "source": [
        "### Implementación usando C++\n"
      ],
      "metadata": {
        "id": "UhBSbagBjoSY"
      }
    },
    {
      "cell_type": "markdown",
      "source": [
        "Utilizo el comando writefile para generar un archivo llamado tp1.cpp. Necesitaré ese archivo para crear un ejecutable. "
      ],
      "metadata": {
        "id": "16iD1J8rARZ_"
      }
    },
    {
      "cell_type": "code",
      "source": [
        "%%writefile tp1.cpp\n",
        "#include <iostream>\n",
        "#include <string>\n",
        "#include <sys/wait.h>\n",
        "#include <unistd.h>\n",
        "\n",
        "#define HIJOS_DE_A 3\n",
        "#define HIJOS_DE_B 2\n",
        "#define HIJOS_DE_C 0\n",
        "#define HIJOS_DE_D 1\n",
        "#define HIJOS_DE_E HIJOS_DE_C\n",
        "#define HIJOS_DE_F HIJOS_DE_E\n",
        "#define HIJOS_DE_G HIJOS_DE_F\n",
        "\n",
        "#define PROCESO_B 0\n",
        "#define PROCESO_C 1\n",
        "#define PROCESO_E 0\n",
        "\n",
        "#define TIEMPO_DORMIDO 30\n",
        "#define INICIO_ITERADOR 0\n",
        "#define PROCESO_CREADO_CORRECTAMENTE 0\n",
        "#define PROCESO_SIN_HIJOS 0\n",
        "#define SALIDA_EXITOSA EXIT_SUCCESS\n",
        "#define SALIDA_ERRONEA EXIT_FAILURE\n",
        "\n",
        "bool procesoCreadoCorrectamente(pid_t pid);\n",
        "void esperarPorMisHijos(int numeroHijos);\n",
        "void mostrarMiInformacion(char letra, pid_t miPid, pid_t miParentPid);\n",
        "\n",
        "bool procesoCreadoCorrectamente(pid_t pid)\n",
        "{\n",
        "  return pid >= PROCESO_CREADO_CORRECTAMENTE;\n",
        "}\n",
        "\n",
        "void esperarPorMisHijos(int numeroHijos)\n",
        "{\n",
        "  for (int i = INICIO_ITERADOR; i < numeroHijos; i++)\n",
        "  {\n",
        "    wait(NULL);\n",
        "  }\n",
        "}\n",
        "\n",
        "void mostrarMiInformacion(char letra, pid_t miPid, pid_t miParentPid)\n",
        "{\n",
        "  std::cout<<\"Soy el proceso \"<<letra<<\". Mi PID es \"<<miPid<<\" y el PID de mi padre es \"<<miParentPid<<std::endl;\n",
        "}\n",
        "\n",
        "//Clase IProceso (simula una Interfaz)\n",
        "class IProceso \n",
        "{\n",
        "  protected:\n",
        "    pid_t _miPid;\n",
        "    pid_t _miPPid;\n",
        "    char _letra;\n",
        "    int _cantidadHijos;\n",
        "\n",
        "  public:\n",
        "    IProceso(pid_t pid, pid_t ppid, char caracter, int hijos) : _miPid(pid), _miPPid(ppid), _letra(caracter), _cantidadHijos(hijos) \n",
        "    {\n",
        "    }\n",
        "    virtual void realizarAccion() = 0;\n",
        "};\n",
        "\n",
        "//Procesos que tienen hijos y deben esperarlos\n",
        "class ProcesoConHijos : public IProceso \n",
        "{\n",
        "  public:\n",
        "    ProcesoConHijos(pid_t pid, pid_t ppid, char caracter, int hijos) : IProceso(pid, ppid, caracter, hijos) \n",
        "    {\n",
        "    }\n",
        "    void realizarAccion() override \n",
        "    {\n",
        "      mostrarMiInformacion(this->_letra,this->_miPid,this->_miPPid);\n",
        "      esperarPorMisHijos(this->_cantidadHijos);\n",
        "    }\n",
        "};\n",
        "\n",
        "//Procesos que no tienen hijos y deben hacer sleep\n",
        "class ProcesoSinHijos : public IProceso \n",
        "{\n",
        "  public:\n",
        "    ProcesoSinHijos(pid_t pid, pid_t ppid, char caracter, int hijos) : IProceso(pid, ppid, caracter, hijos) \n",
        "    {\n",
        "    }\n",
        "    void realizarAccion() override \n",
        "    {\n",
        "      mostrarMiInformacion(this->_letra,this->_miPid,this->_miPPid);\n",
        "      sleep(TIEMPO_DORMIDO);\n",
        "    }\n",
        "};\n",
        "\n",
        "class ProcesoFabrica\n",
        "{\n",
        "  public:\n",
        "    IProceso* determinarTipoProceso(pid_t pid, pid_t ppid, char caracter, int hijos)\n",
        "    {\n",
        "      if (hijos > PROCESO_SIN_HIJOS)\n",
        "      {\n",
        "        proceso = new ProcesoConHijos(pid,ppid,caracter,hijos);\n",
        "      }\n",
        "      else\n",
        "      {\n",
        "        proceso = new ProcesoSinHijos(pid,ppid,caracter,hijos);\n",
        "      }\n",
        "      return proceso;\n",
        "    }\n",
        "  private:\n",
        "    IProceso* proceso;\n",
        "};\n",
        "\n",
        "int main(int argc, char *argv[])\n",
        "{\n",
        "  pid_t pidProcesoA, pidProcesoB, pidProcesoD;\n",
        "  ProcesoFabrica fabricaDeProcesos;\n",
        "\n",
        "  for (int i = INICIO_ITERADOR; i < HIJOS_DE_A; i++)\n",
        "  {\n",
        "    pidProcesoA = fork();\n",
        "    if (!procesoCreadoCorrectamente(pidProcesoA))\n",
        "    {\n",
        "      std::cout<<\"Se ha producido un error al crear un nuevo proceso\"<<std::endl;\n",
        "      return SALIDA_ERRONEA;\n",
        "    }\n",
        "    if (!pidProcesoA)\n",
        "    {\n",
        "      if (i == PROCESO_B)\n",
        "      {                \n",
        "        for (int j = INICIO_ITERADOR; j < HIJOS_DE_B; j++)\n",
        "        {\n",
        "          pidProcesoB = fork();\n",
        "          if (!procesoCreadoCorrectamente(pidProcesoB))\n",
        "          {\n",
        "            std::cout<<\"Se ha producido un error al crear un nuevo proceso\"<<std::endl;\n",
        "            return SALIDA_ERRONEA;\n",
        "          }\n",
        "          if (!pidProcesoB)\n",
        "          {\n",
        "            if (j == PROCESO_E)\n",
        "            {\n",
        "              IProceso* procesoE = fabricaDeProcesos.determinarTipoProceso(getpid(),getppid(),'E',HIJOS_DE_E);\n",
        "              procesoE->realizarAccion();\n",
        "              return SALIDA_EXITOSA;\n",
        "            }\n",
        "            else\n",
        "            {\n",
        "              IProceso* procesoF = fabricaDeProcesos.determinarTipoProceso(getpid(),getppid(),'F',HIJOS_DE_F);\n",
        "              procesoF->realizarAccion();\n",
        "              return SALIDA_EXITOSA;\n",
        "            }\n",
        "          }                \n",
        "        }\n",
        "        IProceso* procesoB = fabricaDeProcesos.determinarTipoProceso(getpid(),getppid(),'B',HIJOS_DE_B);\n",
        "        procesoB->realizarAccion();\n",
        "        return SALIDA_EXITOSA;\n",
        "      }\n",
        "      else\n",
        "      {\n",
        "        if (i == PROCESO_C)\n",
        "        {\n",
        "          IProceso* procesoC = fabricaDeProcesos.determinarTipoProceso(getpid(),getppid(),'C',HIJOS_DE_C);\n",
        "          procesoC->realizarAccion();\n",
        "          return SALIDA_EXITOSA;\n",
        "        }\n",
        "        else\n",
        "        {\n",
        "          pidProcesoD = fork();\n",
        "          if (!procesoCreadoCorrectamente(pidProcesoD))\n",
        "          {\n",
        "            std::cout<<\"Se ha producido un error al crear un nuevo proceso\"<<std::endl;\n",
        "            return SALIDA_ERRONEA;\n",
        "          }\n",
        "          if (!pidProcesoD)\n",
        "          {\n",
        "            IProceso* procesoG = fabricaDeProcesos.determinarTipoProceso(getpid(),getppid(),'G',HIJOS_DE_G);\n",
        "            procesoG->realizarAccion();\n",
        "            return SALIDA_EXITOSA;\n",
        "          }\n",
        "          IProceso* procesoD = fabricaDeProcesos.determinarTipoProceso(getpid(),getppid(),'D',HIJOS_DE_D);\n",
        "          procesoD->realizarAccion();\n",
        "          return SALIDA_EXITOSA;\n",
        "        }\n",
        "      }    \n",
        "    }\n",
        "  }\n",
        "  IProceso* procesoA = fabricaDeProcesos.determinarTipoProceso(getpid(),getppid(),'A',HIJOS_DE_A);\n",
        "  procesoA->realizarAccion();\n",
        "  return SALIDA_EXITOSA;\n",
        "}"
      ],
      "metadata": {
        "id": "13GGcy-icEGR",
        "outputId": "4c5f78af-ef03-49e7-eeca-6e04761082f2",
        "colab": {
          "base_uri": "https://localhost:8080/"
        }
      },
      "execution_count": 11,
      "outputs": [
        {
          "output_type": "stream",
          "name": "stdout",
          "text": [
            "Overwriting tp1.cpp\n"
          ]
        }
      ]
    },
    {
      "cell_type": "markdown",
      "source": [
        "Listo los archivos para ver que el archivo tp1.cpp esté creado correctamente."
      ],
      "metadata": {
        "id": "LA2_r0WJBMPX"
      }
    },
    {
      "cell_type": "code",
      "source": [
        "!ls -la"
      ],
      "metadata": {
        "id": "n2pCIs8wcaUV",
        "outputId": "91c7d26c-3c35-470a-916d-b5d04d39481d",
        "colab": {
          "base_uri": "https://localhost:8080/"
        }
      },
      "execution_count": 12,
      "outputs": [
        {
          "output_type": "stream",
          "name": "stdout",
          "text": [
            "total 328\n",
            "drwxr-xr-x 1 root root   4096 Apr 26 02:25  .\n",
            "drwxr-xr-x 1 root root   4096 Apr 26 02:22  ..\n",
            "drwxr-xr-x 4 root root   4096 Apr 24 17:04  .config\n",
            "-rw-r--r-- 1 root root      0 Apr 26 02:24  errors\n",
            "-rw-r--r-- 1 root root 283367 Apr 26 02:23  gson-2.10.1.jar\n",
            "-rw-r--r-- 1 root root    432 Apr 26 02:24  miSalidaJava\n",
            "-rw-r--r-- 1 root root    492 Apr 26 02:24 'ProcessTree$1.class'\n",
            "-rw-r--r-- 1 root root   4937 Apr 26 02:24  ProcessTree.class\n",
            "-rw-r--r-- 1 root root   3048 Apr 26 02:24  ProcessTree.java\n",
            "-rw-r--r-- 1 root root      0 Apr 26 02:24  salidaJava\n",
            "drwxr-xr-x 1 root root   4096 Apr 24 17:05  sample_data\n",
            "-rw-r--r-- 1 root root     44 Apr 26 02:23  target.json\n",
            "-rw-r--r-- 1 root root   5190 Apr 26 02:25  tp1.cpp\n"
          ]
        }
      ]
    },
    {
      "cell_type": "markdown",
      "source": [
        "Compilo el archivo tp1.cpp para obtener un archivo a ejecutar. Este archivo se llamará tp1 y no llevará extensión. "
      ],
      "metadata": {
        "id": "hmneQfLXBRTF"
      }
    },
    {
      "cell_type": "code",
      "source": [
        "!g++ -std=c++11 -o tp1 tp1.cpp"
      ],
      "metadata": {
        "id": "us0x146acc28"
      },
      "execution_count": 13,
      "outputs": []
    },
    {
      "cell_type": "markdown",
      "source": [
        "Listo los archivos nuevamente para verificar que tengo el ejecutable del proceso. "
      ],
      "metadata": {
        "id": "IRuK5rzhBZpZ"
      }
    },
    {
      "cell_type": "code",
      "source": [
        "!ls -la"
      ],
      "metadata": {
        "id": "AkkgY7tQcj9R",
        "outputId": "3fd7161b-8f18-47e9-ecc1-e121ceae18b6",
        "colab": {
          "base_uri": "https://localhost:8080/"
        }
      },
      "execution_count": 14,
      "outputs": [
        {
          "output_type": "stream",
          "name": "stdout",
          "text": [
            "total 348\n",
            "drwxr-xr-x 1 root root   4096 Apr 26 02:26  .\n",
            "drwxr-xr-x 1 root root   4096 Apr 26 02:22  ..\n",
            "drwxr-xr-x 4 root root   4096 Apr 24 17:04  .config\n",
            "-rw-r--r-- 1 root root      0 Apr 26 02:24  errors\n",
            "-rw-r--r-- 1 root root 283367 Apr 26 02:23  gson-2.10.1.jar\n",
            "-rw-r--r-- 1 root root    432 Apr 26 02:24  miSalidaJava\n",
            "-rw-r--r-- 1 root root    492 Apr 26 02:24 'ProcessTree$1.class'\n",
            "-rw-r--r-- 1 root root   4937 Apr 26 02:24  ProcessTree.class\n",
            "-rw-r--r-- 1 root root   3048 Apr 26 02:24  ProcessTree.java\n",
            "-rw-r--r-- 1 root root      0 Apr 26 02:24  salidaJava\n",
            "drwxr-xr-x 1 root root   4096 Apr 24 17:05  sample_data\n",
            "-rw-r--r-- 1 root root     44 Apr 26 02:23  target.json\n",
            "-rwxr-xr-x 1 root root  19112 Apr 26 02:26  tp1\n",
            "-rw-r--r-- 1 root root   5190 Apr 26 02:25  tp1.cpp\n"
          ]
        }
      ]
    },
    {
      "cell_type": "markdown",
      "source": [
        "Utilizo el comando nohup para ejecutar el proceso en segundo plano, de manera que no me ocupe la consola. Es necesario añadir el caracter '&' al final.\n",
        "\n",
        "Para ejecutar el proceso, tengo que poner ./tp1.\n",
        "\n",
        "El comando 1>salidaC va a redirigir la salida estandar de la pantalla (stdout) a un archivo llamado salidaC.\n",
        "\n",
        "El comando 2>/dev/null envía la salida de error estandar (stderr) a dev/null"
      ],
      "metadata": {
        "id": "otYF_e8aBgTf"
      }
    },
    {
      "cell_type": "code",
      "source": [
        "!nohup ./tp1 1>salidaC 2>/dev/null & "
      ],
      "metadata": {
        "id": "l1xzCnb1cnvM"
      },
      "execution_count": 15,
      "outputs": []
    },
    {
      "cell_type": "markdown",
      "source": [
        "Al ejecutar el proceso, podré ver al proceso padre y a sus procesos hijos con el comando ps. "
      ],
      "metadata": {
        "id": "fc0wCu1zBzk-"
      }
    },
    {
      "cell_type": "code",
      "source": [
        "!ps -ef | grep tp1"
      ],
      "metadata": {
        "id": "2QyVdFDucn25",
        "outputId": "2d683a02-2a6d-4ca0-ca3a-2cbce04c3f56",
        "colab": {
          "base_uri": "https://localhost:8080/"
        }
      },
      "execution_count": 16,
      "outputs": [
        {
          "output_type": "stream",
          "name": "stdout",
          "text": [
            "root        1154       1  0 02:26 ?        00:00:00 ./tp1\n",
            "root        1155    1154  0 02:26 ?        00:00:00 ./tp1\n",
            "root        1156    1154  0 02:26 ?        00:00:00 ./tp1\n",
            "root        1157    1154  0 02:26 ?        00:00:00 ./tp1\n",
            "root        1158    1155  0 02:26 ?        00:00:00 ./tp1\n",
            "root        1159    1155  0 02:26 ?        00:00:00 ./tp1\n",
            "root        1160    1157  0 02:26 ?        00:00:00 ./tp1\n",
            "root        1171     280  0 02:26 ?        00:00:00 /bin/bash -c ps -ef | grep tp1\n",
            "root        1173    1171  0 02:26 ?        00:00:00 grep tp1\n"
          ]
        }
      ]
    },
    {
      "cell_type": "markdown",
      "source": [
        "Utilizo el comando pstree para poder obtener el árbol de procesos. Si le paso el PID del proceso padre, podré ver tanto su PID como el PID de sus hijos y nietos. "
      ],
      "metadata": {
        "id": "faBYdDPAB8Tx"
      }
    },
    {
      "cell_type": "code",
      "source": [
        "!pstree -p 1154"
      ],
      "metadata": {
        "id": "8u1VASk5cuaW",
        "outputId": "9de48835-75a4-42d6-c3cd-2172d61994da",
        "colab": {
          "base_uri": "https://localhost:8080/"
        }
      },
      "execution_count": 17,
      "outputs": [
        {
          "output_type": "stream",
          "name": "stdout",
          "text": [
            "tp1(1154)─┬─tp1(1155)─┬─tp1(1158)\n",
            "          │           └─tp1(1159)\n",
            "          ├─tp1(1156)\n",
            "          └─tp1(1157)───tp1(1160)\n"
          ]
        }
      ]
    },
    {
      "cell_type": "markdown",
      "source": [
        "Utilizo el comando cat para poder mostrar el contenido del archivo salidaC, que es a donde se fueron redirigidos los print que realizan cada uno de los procesos. "
      ],
      "metadata": {
        "id": "sAr1Zlp2CAZ7"
      }
    },
    {
      "cell_type": "code",
      "source": [
        "!cat salidaC"
      ],
      "metadata": {
        "colab": {
          "base_uri": "https://localhost:8080/"
        },
        "id": "ZS-K6Dx5_vFJ",
        "outputId": "9793b42a-033e-4fa8-8351-7f2d7fd11ab9"
      },
      "execution_count": null,
      "outputs": [
        {
          "output_type": "stream",
          "name": "stdout",
          "text": [
            "Soy el proceso A. Mi PID es 5812 y el PID de mi padre es 1\n",
            "Soy el proceso B. Mi PID es 5813 y el PID de mi padre es 5812\n",
            "Soy el proceso F. Mi PID es 5817 y el PID de mi padre es 5813\n",
            "Soy el proceso C. Mi PID es 5814 y el PID de mi padre es 5812\n",
            "Soy el proceso E. Mi PID es 5816 y el PID de mi padre es 5813\n",
            "Soy el proceso D. Mi PID es 5815 y el PID de mi padre es 5812\n",
            "Soy el proceso G. Mi PID es 5818 y el PID de mi padre es 5815\n"
          ]
        }
      ]
    },
    {
      "cell_type": "markdown",
      "source": [
        "### Implementacion usando Python"
      ],
      "metadata": {
        "id": "rsQlpDdTkFfX"
      }
    },
    {
      "cell_type": "markdown",
      "source": [
        "Escribo el archivo fork.py con la logica del programa"
      ],
      "metadata": {
        "id": "qwKWQeyCohK4"
      }
    },
    {
      "cell_type": "code",
      "execution_count": null,
      "metadata": {
        "colab": {
          "base_uri": "https://localhost:8080/"
        },
        "id": "77B0w4e3e2Nz",
        "outputId": "fa20b091-454a-4064-d36f-19cec4460ed3"
      },
      "outputs": [
        {
          "output_type": "stream",
          "name": "stdout",
          "text": [
            "Writing fork.py\n"
          ]
        }
      ],
      "source": [
        "%%writefile fork.py\n",
        "import os\n",
        "import time\n",
        "\n",
        "def son(data, value = None):\n",
        " if value == None:\n",
        "  value = data.get('start')\n",
        " \n",
        " children_pids = []\n",
        " if value in data.get('processes').keys(): \n",
        "  for son_value in data.get('processes').get(value):\n",
        "   pid = os.fork()\n",
        "   if pid:\n",
        "    children_pids.append(pid)\n",
        "   else:\n",
        "    son(data, son_value)\n",
        "    return\n",
        "    \n",
        "  for child_pid in children_pids:\n",
        "   os.waitpid(child_pid, 0)\n",
        "\n",
        " print('My value is: {}. My PID is: {}. My PPID is: {}'.format(value, os.getpid(), os.getppid())) \n",
        " time.sleep(25)\n",
        "\n",
        "if __name__ == '__main__':\n",
        " data = {'start': 'A','processes': {'A': ['B', 'C', 'D'],'B': ['E', 'F'],'D': ['G']}}\n",
        " son(data)"
      ]
    },
    {
      "cell_type": "markdown",
      "source": [
        "Ejecutamos el programa en segundo plano"
      ],
      "metadata": {
        "id": "jxFXs040onLH"
      }
    },
    {
      "cell_type": "code",
      "source": [
        "!nohup python fork.py 1>salidaPython 2>/dev/null &"
      ],
      "metadata": {
        "id": "TDs2yk5H31wL"
      },
      "execution_count": null,
      "outputs": []
    },
    {
      "cell_type": "markdown",
      "source": [
        "Buscamos con ps el proceso que esta ejecutando nuestro programa"
      ],
      "metadata": {
        "id": "K7QXTEZ3orHY"
      }
    },
    {
      "cell_type": "code",
      "source": [
        "!ps -ef | grep fork.py\n"
      ],
      "metadata": {
        "colab": {
          "base_uri": "https://localhost:8080/"
        },
        "id": "o-AH6WJGeo94",
        "outputId": "9bcec873-b7d5-4dd2-d7cd-8f09e30e444a"
      },
      "execution_count": null,
      "outputs": [
        {
          "output_type": "stream",
          "name": "stdout",
          "text": [
            "root         488       1  1 16:44 ?        00:00:00 python3 fork.py\n",
            "root         490     488  0 16:44 ?        00:00:00 python3 fork.py\n",
            "root         491     488  0 16:44 ?        00:00:00 python3 fork.py\n",
            "root         492     488  0 16:44 ?        00:00:00 python3 fork.py\n",
            "root         493     490  0 16:44 ?        00:00:00 python3 fork.py\n",
            "root         494     490  0 16:44 ?        00:00:00 python3 fork.py\n",
            "root         495     492  0 16:44 ?        00:00:00 python3 fork.py\n",
            "root         508     166  0 16:44 ?        00:00:00 /bin/bash -c ps -ef | grep fork.py\n",
            "root         510     508  0 16:44 ?        00:00:00 grep fork.py\n"
          ]
        }
      ]
    },
    {
      "cell_type": "markdown",
      "source": [
        "Mostramos el árbol de procesos que se generó"
      ],
      "metadata": {
        "id": "Qgfo2I_Io8un"
      }
    },
    {
      "cell_type": "code",
      "source": [
        "!pstree -pc 488               "
      ],
      "metadata": {
        "colab": {
          "base_uri": "https://localhost:8080/"
        },
        "id": "Uv_ReTVE38Kh",
        "outputId": "b262278c-ccab-48d0-f927-43adf5624fc7"
      },
      "execution_count": null,
      "outputs": [
        {
          "output_type": "stream",
          "name": "stdout",
          "text": [
            "python3(488)─┬─python3(490)─┬─python3(493)\n",
            "             │              └─python3(494)\n",
            "             ├─python3(491)\n",
            "             └─python3(492)───python3(495)\n"
          ]
        }
      ]
    },
    {
      "cell_type": "markdown",
      "source": [
        "Mostrar la salida del proceso ejecutandolo nuevamente"
      ],
      "metadata": {
        "id": "b-oU0nj8q8uo"
      }
    },
    {
      "cell_type": "code",
      "source": [
        "!python fork.py"
      ],
      "metadata": {
        "colab": {
          "base_uri": "https://localhost:8080/"
        },
        "id": "ocNn1m-rTwB7",
        "outputId": "088a612a-a6b6-4cc4-c14b-f0287cc3c290"
      },
      "execution_count": null,
      "outputs": [
        {
          "output_type": "stream",
          "name": "stdout",
          "text": [
            "Proceso  A  con PID:  8070  y PID de padre:  158\n",
            "Proceso  B  con PID:  8072  y PID de padre:  8070\n",
            "Proceso  D  con PID:  8074  y PID de padre:  8070\n",
            "Proceso  F  con PID:  8076  y PID de padre:  8072\n",
            "Proceso  C  con PID:  8073  y PID de padre:  8070\n",
            "Proceso  E  con PID:  8075  y PID de padre:  8072\n",
            "Proceso  G  con PID:  8077  y PID de padre:  8074\n"
          ]
        }
      ]
    },
    {
      "cell_type": "markdown",
      "source": [
        "### Implementacion usando JAVA"
      ],
      "metadata": {
        "id": "oRPDbuLkkKbv"
      }
    },
    {
      "cell_type": "markdown",
      "source": [
        "Descargar la libreria gson para java."
      ],
      "metadata": {
        "id": "WQXG7OL9uox_"
      }
    },
    {
      "cell_type": "code",
      "source": [
        "!curl https://repo1.maven.org/maven2/com/google/code/gson/gson/2.10.1/gson-2.10.1.jar --output \"gson-2.10.1.jar\""
      ],
      "metadata": {
        "colab": {
          "base_uri": "https://localhost:8080/"
        },
        "id": "2TXz37y8aqu7",
        "outputId": "f199b029-34df-485e-b659-5726ba1347cf"
      },
      "execution_count": 1,
      "outputs": [
        {
          "output_type": "stream",
          "name": "stdout",
          "text": [
            "  % Total    % Received % Xferd  Average Speed   Time    Time     Time  Current\n",
            "                                 Dload  Upload   Total   Spent    Left  Speed\n",
            "\r  0     0    0     0    0     0      0      0 --:--:-- --:--:-- --:--:--     0\r100  276k  100  276k    0     0  2586k      0 --:--:-- --:--:-- --:--:-- 2586k\n"
          ]
        }
      ]
    },
    {
      "cell_type": "markdown",
      "source": [
        "Validar la descarga de la libreria"
      ],
      "metadata": {
        "id": "pxkQlLvQuphr"
      }
    },
    {
      "cell_type": "code",
      "source": [
        "!ls -lash"
      ],
      "metadata": {
        "id": "geyZQ7smazLo",
        "colab": {
          "base_uri": "https://localhost:8080/"
        },
        "outputId": "61a7978b-f064-4c46-bd04-d9827607fe0a"
      },
      "execution_count": 2,
      "outputs": [
        {
          "output_type": "stream",
          "name": "stdout",
          "text": [
            "total 296K\n",
            "4.0K drwxr-xr-x 1 root root 4.0K Apr 26 02:23 .\n",
            "4.0K drwxr-xr-x 1 root root 4.0K Apr 26 02:22 ..\n",
            "4.0K drwxr-xr-x 4 root root 4.0K Apr 24 17:04 .config\n",
            "280K -rw-r--r-- 1 root root 277K Apr 26 02:23 gson-2.10.1.jar\n",
            "4.0K drwxr-xr-x 1 root root 4.0K Apr 24 17:05 sample_data\n"
          ]
        }
      ]
    },
    {
      "cell_type": "markdown",
      "source": [
        "Generar el archivo con datos de entrada."
      ],
      "metadata": {
        "id": "oKFB4iYXus_M"
      }
    },
    {
      "cell_type": "code",
      "source": [
        "!echo '{\"A\":[\"B\",\"C\",\"D\"],\"B\":[\"E\",\"F\"],\"D\":[\"G\"]}' > target.json"
      ],
      "metadata": {
        "id": "5s0aYZa8Ubdo"
      },
      "execution_count": 3,
      "outputs": []
    },
    {
      "cell_type": "markdown",
      "source": [
        "Generar el archivo con el programa necesario."
      ],
      "metadata": {
        "id": "A9ZRM8pCu2Uv"
      }
    },
    {
      "cell_type": "code",
      "source": [
        "%%writefile ProcessTree.java\n",
        "import com.google.gson.Gson;\n",
        "import com.google.gson.reflect.TypeToken;\n",
        "import java.lang.reflect.Type;\n",
        "import java.io.StringReader;\n",
        "import java.io.PrintWriter;\n",
        "import java.io.FileOutputStream;\n",
        "import java.io.IOException;\n",
        "import java.nio.file.Files;\n",
        "import java.nio.file.FileSystems;\n",
        "import java.nio.file.FileSystem;\n",
        "\n",
        "import java.util.*;\n",
        "\n",
        "public class ProcessTree \n",
        "{\n",
        "  public static void main(String[] args) \n",
        "  {\n",
        "    String self = (args.length == 0) ? \"A\" : String.valueOf(args[0]);\n",
        "    \n",
        "    info(self);\n",
        "    waitForChildren(spawnChildren(getDataMap(), self));\n",
        "\n",
        "    try \n",
        "    {\n",
        "      Thread.sleep(5000);\n",
        "    } catch (InterruptedException e) \n",
        "    {\n",
        "      System.err.println(\"Se ha producido una interrupción\");\n",
        "    }\n",
        "\n",
        "  }\n",
        "\n",
        "  public static void waitForChildren(List<Process> children) \n",
        "  {\n",
        "    for(Process child : children) \n",
        "    {\n",
        "      try \n",
        "      {\n",
        "        child.waitFor();\n",
        "      } catch (InterruptedException e) \n",
        "      {\n",
        "        System.err.println(\"Se ha producido una interrupción\");\n",
        "      }\n",
        "    }\n",
        "  }\n",
        "\n",
        "  public static HashMap<String, ArrayList<String>> getDataMap() \n",
        "  {\n",
        "    Gson gson = new Gson();\n",
        "    Type customType = new TypeToken<HashMap<String, ArrayList<String>>>() {}.getType();\n",
        "    return gson.fromJson(getFileData(DATA_FILE_NAME), customType); \n",
        "  }\n",
        "\n",
        "  public static String getFileData(String fileName) \n",
        "  {\n",
        "    try \n",
        "    {\n",
        "      return String.join(\"\", \n",
        "        Files.readAllLines(FileSystems.getDefault().getPath(fileName))\n",
        "      );\n",
        "    } catch (NullPointerException e) \n",
        "    {\n",
        "      e.printStackTrace();\n",
        "    } catch (IOException e) \n",
        "    {\n",
        "      System.err.println(\"No se pudo leer el archivo \" + fileName);\n",
        "      e.printStackTrace();\n",
        "    }\n",
        "    return \"\";\n",
        "  }\n",
        "\n",
        "  public synchronized static void info(String selfData) \n",
        "  {\n",
        "    try ( PrintWriter out = new PrintWriter(new FileOutputStream(OUT, true), true); ) \n",
        "    {\n",
        "      out.print(\"Soy el proceso \" + selfData + \". \");\n",
        "      out.print(\"Mi PID es: \" + ProcessHandle.current().pid() + \". \");\n",
        "      out.print(\"El PID de mi padre es: \" + ProcessHandle.current().parent().get().pid() + \".\\n\");\n",
        "      out.flush();\n",
        "    } catch (IOException e) \n",
        "    {\n",
        "      System.err.println(\"No se pudo abrir el archivo: \" + OUT);\n",
        "      e.printStackTrace();\n",
        "    } catch (NoSuchElementException e) \n",
        "    {\n",
        "      System.err.println(\"No tengo padre: \" + OUT);\n",
        "      e.printStackTrace();\n",
        "    }\n",
        "  }\n",
        "\n",
        "  public static List<Process> spawnChildren(HashMap<String, ArrayList<String>> dataMap, String self) \n",
        "  {\n",
        "    List<Process> children = new ArrayList<>();\n",
        "    if (dataMap.keySet().contains(self)) \n",
        "    {\n",
        "      for(String childValue : dataMap.get(self)) \n",
        "      {\n",
        "        try \n",
        "        {\n",
        "          children.add(new ProcessBuilder(\"java\", \"-cp\", \".:gson-2.10.1.jar:gson-2.10.1.jar:\", \"ProcessTree\", childValue, \"1>salidaJava\", \"2>errors\").start());\n",
        "        } catch (IOException e) \n",
        "        {\n",
        "          System.err.println(\"No se pudieron crear mas procesos:  \" + childValue);\n",
        "        }\n",
        "      }\n",
        "    }\n",
        "    return children;\n",
        "  }\n",
        "\n",
        "  final static String DATA_FILE_NAME = \"target.json\";\n",
        "  final static String OUT = \"miSalidaJava\";\n",
        "}"
      ],
      "metadata": {
        "colab": {
          "base_uri": "https://localhost:8080/"
        },
        "id": "0F5Jh3UN24xU",
        "outputId": "73bb2bd2-c0a3-4ecd-f423-5cec76c8f8d5"
      },
      "execution_count": 4,
      "outputs": [
        {
          "output_type": "stream",
          "name": "stdout",
          "text": [
            "Writing ProcessTree.java\n"
          ]
        }
      ]
    },
    {
      "cell_type": "markdown",
      "source": [
        "Compilar el programa junto con la libreria gson."
      ],
      "metadata": {
        "id": "ktkHzwbyu_JY"
      }
    },
    {
      "cell_type": "code",
      "source": [
        "!javac -cp .:gson-2.10.1.jar:gson-2.10.1.jar: ProcessTree.java"
      ],
      "metadata": {
        "id": "1vihDcwDbDxy"
      },
      "execution_count": 5,
      "outputs": []
    },
    {
      "cell_type": "markdown",
      "source": [
        "Ejecutar el programa en segundo plano."
      ],
      "metadata": {
        "id": "74HfVG0EvHsh"
      }
    },
    {
      "cell_type": "code",
      "source": [
        "!nohup java -cp .:gson-2.10.1.jar:gson-2.10.1.jar: ProcessTree 1>salidaJava 2>errors &  "
      ],
      "metadata": {
        "id": "hou-e5fEhSKr"
      },
      "execution_count": 6,
      "outputs": []
    },
    {
      "cell_type": "code",
      "source": [
        "!ps -ef | grep java"
      ],
      "metadata": {
        "colab": {
          "base_uri": "https://localhost:8080/"
        },
        "id": "5M2bcRxzhcVU",
        "outputId": "4641a5e8-500a-4767-ee58-14ce89392716"
      },
      "execution_count": 7,
      "outputs": [
        {
          "output_type": "stream",
          "name": "stdout",
          "text": [
            "root         515       1 10 02:24 ?        00:00:00 java -cp .:gson-2.10.1.jar:gson-2.10.1.jar: ProcessTree\n",
            "root         536     515 14 02:24 ?        00:00:00 java -cp .:gson-2.10.1.jar:gson-2.10.1.jar: ProcessTree B 1>salidaJava 2>errors\n",
            "root         542     515 14 02:24 ?        00:00:00 java -cp .:gson-2.10.1.jar:gson-2.10.1.jar: ProcessTree C 1>salidaJava 2>errors\n",
            "root         546     515 14 02:24 ?        00:00:00 java -cp .:gson-2.10.1.jar:gson-2.10.1.jar: ProcessTree D 1>salidaJava 2>errors\n",
            "root         590     546 14 02:24 ?        00:00:00 java -cp .:gson-2.10.1.jar:gson-2.10.1.jar: ProcessTree G 1>salidaJava 2>errors\n",
            "root         604     536 13 02:24 ?        00:00:00 java -cp .:gson-2.10.1.jar:gson-2.10.1.jar: ProcessTree E 1>salidaJava 2>errors\n",
            "root         608     536 14 02:24 ?        00:00:00 java -cp .:gson-2.10.1.jar:gson-2.10.1.jar: ProcessTree F 1>salidaJava 2>errors\n",
            "root         656     280  0 02:24 ?        00:00:00 /bin/bash -c ps -ef | grep java\n",
            "root         658     656  0 02:24 ?        00:00:00 grep java\n"
          ]
        }
      ]
    },
    {
      "cell_type": "markdown",
      "source": [
        "En la siguiente celda de código, lo que se hace es mostrar el árbol de procesos sin tener que copiar a manopla el process ID después de ejecutar un ps. Para reutilizarlo, hay que cambiar el /ProcessTree/ por una expresión regular que represente el nombre que se le da al proceso cuando se ejecuta un PS, y si el proceso padre no es el 1 hay que remover la parte del \"&& $2 == 1 {print $$2 == 1 {print $1}\" que valida que el parent process id sea 1"
      ],
      "metadata": {
        "id": "VEfyblxpwaeY"
      }
    },
    {
      "cell_type": "code",
      "source": [
        "!pstree -pcT \"$(eval ps -eo pid,ppid,args | awk '$NF ~ /ProcessTree/ && $2 == 1 {print $1}')\"                         "
      ],
      "metadata": {
        "id": "SJKE_aoZt6Zn",
        "colab": {
          "base_uri": "https://localhost:8080/"
        },
        "outputId": "ab6c8f12-fb46-4bf1-ff58-0da354cf5a94"
      },
      "execution_count": 8,
      "outputs": [
        {
          "output_type": "stream",
          "name": "stdout",
          "text": [
            "java(515)─┬─java(536)─┬─java(604)\n",
            "          │           └─java(608)\n",
            "          ├─java(542)\n",
            "          └─java(546)───java(590)\n"
          ]
        }
      ]
    },
    {
      "cell_type": "markdown",
      "source": [
        "Mostrar resultado del archivo de salida del proceso"
      ],
      "metadata": {
        "id": "Aw16AntNwXpf"
      }
    },
    {
      "cell_type": "code",
      "source": [
        "!cat miSalidaJava"
      ],
      "metadata": {
        "colab": {
          "base_uri": "https://localhost:8080/"
        },
        "id": "Q4B58AJae2kY",
        "outputId": "037d73d0-6ede-4398-8e72-612335ad51f6"
      },
      "execution_count": 9,
      "outputs": [
        {
          "output_type": "stream",
          "name": "stdout",
          "text": [
            "Soy el proceso A. Mi PID es: 515. El PID de mi padre es: 1.\n",
            "Soy el proceso D. Mi PID es: 546. El PID de mi padre es: 515.\n",
            "Soy el proceso B. Mi PID es: 536. El PID de mi padre es: 515.\n",
            "Soy el proceso C. Mi PID es: 542. El PID de mi padre es: 515.\n",
            "Soy el proceso G. Mi PID es: 590. El PID de mi padre es: 546.\n",
            "Soy el proceso E. Mi PID es: 604. El PID de mi padre es: 536.\n",
            "Soy el proceso F. Mi PID es: 608. El PID de mi padre es: 536.\n"
          ]
        }
      ]
    },
    {
      "cell_type": "markdown",
      "source": [
        "Borrar el archivo, en caso de volver a ejecutar."
      ],
      "metadata": {
        "id": "a8Dzn-D-wQeE"
      }
    },
    {
      "cell_type": "code",
      "source": [
        "!rm miSalidaJava"
      ],
      "metadata": {
        "id": "ZCJ1cgh4vzQ9"
      },
      "execution_count": null,
      "outputs": []
    }
  ]
}