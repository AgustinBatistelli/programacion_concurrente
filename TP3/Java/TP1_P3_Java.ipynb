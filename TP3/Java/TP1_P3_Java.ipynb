{
  "nbformat": 4,
  "nbformat_minor": 0,
  "metadata": {
    "colab": {
      "provenance": [],
      "authorship_tag": "ABX9TyMuh+K8s4MHct/Y9BakKYE5",
      "include_colab_link": true
    },
    "kernelspec": {
      "name": "python3",
      "display_name": "Python 3"
    },
    "language_info": {
      "name": "python"
    }
  },
  "cells": [
    {
      "cell_type": "markdown",
      "metadata": {
        "id": "view-in-github",
        "colab_type": "text"
      },
      "source": [
        "<a href=\"https://colab.research.google.com/github/AgustinBatistelli/programacion_concurrente/blob/master/TP3/Java/TP1_P3_Java.ipynb\" target=\"_parent\"><img src=\"https://colab.research.google.com/assets/colab-badge.svg\" alt=\"Open In Colab\"/></a>"
      ]
    },
    {
      "cell_type": "markdown",
      "source": [
        "Creo los archivos Cliente.java y Servidor.java"
      ],
      "metadata": {
        "id": "c4LYyni5hg6S"
      }
    },
    {
      "cell_type": "code",
      "execution_count": 1,
      "metadata": {
        "colab": {
          "base_uri": "https://localhost:8080/"
        },
        "id": "cXw5jWJPfKBQ",
        "outputId": "438fab29-5cf1-4551-89db-ffff4111a770"
      },
      "outputs": [
        {
          "output_type": "stream",
          "name": "stdout",
          "text": [
            "Writing Cliente.java\n"
          ]
        }
      ],
      "source": [
        "%%writefile Cliente.java\n",
        "import java.net.ServerSocket;\n",
        "import java.net.Socket;\n",
        "import java.io.BufferedReader;\n",
        "import java.io.PrintWriter;\n",
        "import java.io.InputStreamReader;\n",
        "import java.io.IOException;\n",
        "\n",
        "class Cliente\n",
        "{\n",
        "    private static final int PORT = 5000;\n",
        "\n",
        "    public static void main(String[] args) throws IOException\n",
        "    {\n",
        "        Socket socketClient = null;\n",
        "        PrintWriter outputStream = null;\n",
        "        BufferedReader inputStream = null;\n",
        "\n",
        "        try\n",
        "        {\n",
        "            socketClient = new Socket(\"127.0.0.1\", PORT);\n",
        "            outputStream = new PrintWriter(socketClient.getOutputStream(), true);;\n",
        "            inputStream = new BufferedReader(new InputStreamReader(socketClient.getInputStream()));\n",
        "        }\n",
        "        catch(IOException e)\n",
        "        {\n",
        "            System.err.println(\"Fail connection to: 127.0.0.1\");\n",
        "            System.exit(1);\n",
        "        }\n",
        "\n",
        "       \n",
        "        BufferedReader stdIn = new BufferedReader(new InputStreamReader(System.in));\n",
        "        System.out.println(\"Ingrese la cadena de texto para ser analizada:\");\n",
        "        \n",
        "        String userInput = stdIn.readLine();\n",
        "        outputStream.println(userInput);\n",
        "        \n",
        "        String answertFromServer = inputStream.readLine();\n",
        "        while( answertFromServer != null && !answertFromServer.isEmpty())\n",
        "        {\n",
        "            System.out.println(answertFromServer);\n",
        "            answertFromServer = inputStream.readLine();\n",
        "        }\n",
        "\n",
        "\n",
        "        stdIn.close();\n",
        "        outputStream.close();\n",
        "        inputStream.close();\n",
        "        socketClient.close();\n",
        "    }\n",
        "}"
      ]
    },
    {
      "cell_type": "code",
      "source": [
        "%%writefile Servidor.java\n",
        "import java.net.ServerSocket;\n",
        "import java.net.Socket;\n",
        "import java.net.InetAddress;\n",
        "import java.io.PrintWriter;\n",
        "import java.io.BufferedReader;\n",
        "import java.io.InputStreamReader;\n",
        "import java.io.IOException;\n",
        "\n",
        "class Servidor\n",
        "{\n",
        "    private static final int MAX_PEND = 10;\n",
        "    private static final int PORT = 5000;\n",
        "    \n",
        "    public static String processMessage(String message)\n",
        "    {\n",
        "        String answer; \n",
        "        int characters = 0, numbers = 0, specialCharacters = 0;\n",
        "\n",
        "        for (int i = 0; i < message.length(); i++)\n",
        "        {\n",
        "            char c = message.charAt(i);\n",
        "            if(Character.isLetter(c))\n",
        "            {\n",
        "                characters++;\n",
        "            } \n",
        "            else if (Character.isDigit(c))\n",
        "            {\n",
        "                numbers++;\n",
        "            }\n",
        "            else\n",
        "            {\n",
        "                specialCharacters++;\n",
        "            }\n",
        "        }\n",
        "        \n",
        "        answer = String.format(\"Cantidad de caracteres totales: %d\\nCantidad de letras: %d\", message.length(), characters);\n",
        "        answer = answer + String.format(\"\\nCantidad de digitos: %d\\nCantidad de caracteres que no son letra ni digito: %d\",numbers, specialCharacters);       \n",
        "        return answer;\n",
        "    }\n",
        "\n",
        "    public static void main(String[] args) throws IOException\n",
        "    {\n",
        "        ServerSocket server = null;\n",
        "        try\n",
        "        {\n",
        "            server = new ServerSocket(PORT, MAX_PEND, InetAddress.getByName(\"127.0.0.1\"));\n",
        "        }\n",
        "        catch(IOException e)\n",
        "        {\n",
        "            System.err.println(\"Cloud not listen on port \"+PORT);\n",
        "            System.exit(1);\n",
        "        }\n",
        "\n",
        "        System.out.println(\"Server starts...\");\n",
        "        Socket socketClient = null;\n",
        "        \n",
        "        try\n",
        "        {\n",
        "            socketClient = server.accept();\n",
        "        }\n",
        "        catch(IOException e)\n",
        "        {\n",
        "            System.err.println(\"Accept failed.\");\n",
        "            System.exit(1);\n",
        "        }\n",
        "        \n",
        "        PrintWriter outputStream = new PrintWriter(socketClient.getOutputStream(), true);\n",
        "        BufferedReader inputStream = new BufferedReader(new InputStreamReader(socketClient.getInputStream()));\n",
        "\n",
        "        String messageClient = inputStream.readLine();     \n",
        "        String messageService = processMessage(messageClient);\n",
        "        outputStream.println(messageService);                                 \n",
        "\n",
        "        outputStream.close();\n",
        "        inputStream.close();\n",
        "        socketClient.close();\n",
        "        server.close();\n",
        "    }\n",
        "}"
      ],
      "metadata": {
        "colab": {
          "base_uri": "https://localhost:8080/"
        },
        "id": "v89BWpmcfcZU",
        "outputId": "bb93a162-2d5d-4ca0-bfef-35e9d1a2f2c0"
      },
      "execution_count": 2,
      "outputs": [
        {
          "output_type": "stream",
          "name": "stdout",
          "text": [
            "Writing Servidor.java\n"
          ]
        }
      ]
    },
    {
      "cell_type": "markdown",
      "source": [
        "Listo los archivos para asegurarme que los tengo. "
      ],
      "metadata": {
        "id": "Fue0Td-chqwb"
      }
    },
    {
      "cell_type": "code",
      "source": [
        "!ls -la"
      ],
      "metadata": {
        "colab": {
          "base_uri": "https://localhost:8080/"
        },
        "id": "Fv1DNcuafiRy",
        "outputId": "2a989b7a-fb84-4be7-f5ab-7fabdc26e3c3"
      },
      "execution_count": 3,
      "outputs": [
        {
          "output_type": "stream",
          "name": "stdout",
          "text": [
            "total 24\n",
            "drwxr-xr-x 1 root root 4096 May  3 16:42 .\n",
            "drwxr-xr-x 1 root root 4096 May  3 16:41 ..\n",
            "-rw-r--r-- 1 root root 1497 May  3 16:41 Cliente.java\n",
            "drwxr-xr-x 4 root root 4096 May  2 13:36 .config\n",
            "drwxr-xr-x 1 root root 4096 May  2 13:37 sample_data\n",
            "-rw-r--r-- 1 root root 2376 May  3 16:42 Servidor.java\n"
          ]
        }
      ]
    },
    {
      "cell_type": "markdown",
      "source": [
        "Utilizo el comando javac para generar un archivo .class para Cliente y para Servidor. Los necesitaré para ejecutar los procesos. "
      ],
      "metadata": {
        "id": "ZpwN3MkThrqP"
      }
    },
    {
      "cell_type": "code",
      "source": [
        "!javac Servidor.java"
      ],
      "metadata": {
        "id": "VIoM_yXVfkl2"
      },
      "execution_count": 11,
      "outputs": []
    },
    {
      "cell_type": "code",
      "source": [
        "!javac Cliente.java"
      ],
      "metadata": {
        "id": "fl4qWNhBfpc1"
      },
      "execution_count": 13,
      "outputs": []
    },
    {
      "cell_type": "markdown",
      "source": [
        "Listo los archivos para asegurarme que tengo los .Class . "
      ],
      "metadata": {
        "id": "fHmmzfiWh1M-"
      }
    },
    {
      "cell_type": "code",
      "source": [
        "!ls -la"
      ],
      "metadata": {
        "colab": {
          "base_uri": "https://localhost:8080/"
        },
        "id": "Os1EDf7wgKHa",
        "outputId": "4e20da5b-778d-4878-bd31-2f9c240ad0a8"
      },
      "execution_count": 12,
      "outputs": [
        {
          "output_type": "stream",
          "name": "stdout",
          "text": [
            "total 36\n",
            "drwxr-xr-x 1 root root 4096 May  3 16:45 .\n",
            "drwxr-xr-x 1 root root 4096 May  3 16:41 ..\n",
            "-rw-r--r-- 1 root root 1490 May  3 16:42 Cliente.class\n",
            "-rw-r--r-- 1 root root 1497 May  3 16:41 Cliente.java\n",
            "drwxr-xr-x 4 root root 4096 May  2 13:36 .config\n",
            "-rw------- 1 root root   17 May  3 16:45 nohup.out\n",
            "drwxr-xr-x 1 root root 4096 May  2 13:37 sample_data\n",
            "-rw-r--r-- 1 root root 2797 May  3 16:48 Servidor.class\n",
            "-rw-r--r-- 1 root root 2376 May  3 16:42 Servidor.java\n"
          ]
        }
      ]
    },
    {
      "cell_type": "markdown",
      "source": [
        "Pongo a correr el servidor en segundo plano. Envío la salida de pantalla al archivo salida."
      ],
      "metadata": {
        "id": "psJsvGCKh4Xq"
      }
    },
    {
      "cell_type": "code",
      "source": [
        "!nohup java Servidor 1>salida 2>/dev/null &"
      ],
      "metadata": {
        "id": "ywtR6FJ3f8kC"
      },
      "execution_count": 16,
      "outputs": []
    },
    {
      "cell_type": "markdown",
      "source": [
        "Ejecuto el Cliente. Cuando me pida una cadena de texto, deberé escribirla y presionar enter. "
      ],
      "metadata": {
        "id": "i_wNwP9bh9K_"
      }
    },
    {
      "cell_type": "code",
      "source": [
        "!java Cliente"
      ],
      "metadata": {
        "colab": {
          "base_uri": "https://localhost:8080/"
        },
        "id": "Wiz2Gi6NgYld",
        "outputId": "6b889ed9-247d-45c5-db1f-badbc15f0856"
      },
      "execution_count": 17,
      "outputs": [
        {
          "output_type": "stream",
          "name": "stdout",
          "text": [
            "Ingrese la cadena de texto para ser analizada:\n",
            "Hirschfeldt2023\n",
            "Cantidad de caracteres totales: 15\n",
            "Cantidad de letras: 11\n",
            "Cantidad de digitos: 4\n",
            "Cantidad de caracteres que no son letra ni digito: 0\n"
          ]
        }
      ]
    },
    {
      "cell_type": "markdown",
      "source": [
        "Muestro el archivo salida. "
      ],
      "metadata": {
        "id": "jTAbqHogiGeo"
      }
    },
    {
      "cell_type": "code",
      "source": [
        "!cat salida"
      ],
      "metadata": {
        "colab": {
          "base_uri": "https://localhost:8080/"
        },
        "id": "1yAN2jk5hN5p",
        "outputId": "fa0be7f7-3b2a-4b61-bd3c-52009f7b2742"
      },
      "execution_count": 18,
      "outputs": [
        {
          "output_type": "stream",
          "name": "stdout",
          "text": [
            "Server starts...\n"
          ]
        }
      ]
    },
    {
      "cell_type": "markdown",
      "source": [
        "Pongo a correr el servidor en segundo plano. Envío la salida de pantalla al archivo salidaA."
      ],
      "metadata": {
        "id": "RoM73c7riJ12"
      }
    },
    {
      "cell_type": "code",
      "source": [
        "!nohup java Servidor 1>salidaA 2>/dev/null &"
      ],
      "metadata": {
        "id": "_OXaLQvIhRPK"
      },
      "execution_count": 19,
      "outputs": []
    },
    {
      "cell_type": "markdown",
      "source": [
        "Ejecuto el cliente. Esta vez, le envío una cadena diferente. "
      ],
      "metadata": {
        "id": "DwaJ4tgLiNWj"
      }
    },
    {
      "cell_type": "code",
      "source": [
        "!java Cliente"
      ],
      "metadata": {
        "colab": {
          "base_uri": "https://localhost:8080/"
        },
        "id": "_uEZGHhPhUfS",
        "outputId": "51d71f57-7cb3-42cf-dda1-ba0cc0b10a50"
      },
      "execution_count": 20,
      "outputs": [
        {
          "output_type": "stream",
          "name": "stdout",
          "text": [
            "Ingrese la cadena de texto para ser analizada:\n",
            "ProgramacionConcurrente2023!!!1C\n",
            "Cantidad de caracteres totales: 32\n",
            "Cantidad de letras: 24\n",
            "Cantidad de digitos: 5\n",
            "Cantidad de caracteres que no son letra ni digito: 3\n"
          ]
        }
      ]
    },
    {
      "cell_type": "markdown",
      "source": [
        "Muestro el archivo salidaA. "
      ],
      "metadata": {
        "id": "1l801sL7iHsk"
      }
    },
    {
      "cell_type": "code",
      "source": [
        "!cat salidaA"
      ],
      "metadata": {
        "colab": {
          "base_uri": "https://localhost:8080/"
        },
        "id": "_Iu76AYYheSE",
        "outputId": "f4a73d40-6e1f-4f6d-8a81-0a0076c6372e"
      },
      "execution_count": 21,
      "outputs": [
        {
          "output_type": "stream",
          "name": "stdout",
          "text": [
            "Server starts...\n"
          ]
        }
      ]
    }
  ]
}