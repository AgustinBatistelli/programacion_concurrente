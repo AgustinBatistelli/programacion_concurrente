{
  "nbformat": 4,
  "nbformat_minor": 0,
  "metadata": {
    "colab": {
      "provenance": [],
      "collapsed_sections": [
        "UhBSbagBjoSY",
        "rsQlpDdTkFfX"
      ],
      "include_colab_link": true
    },
    "kernelspec": {
      "name": "python3",
      "display_name": "Python 3"
    },
    "language_info": {
      "name": "python"
    }
  },
  "cells": [
    {
      "cell_type": "markdown",
      "metadata": {
        "id": "view-in-github",
        "colab_type": "text"
      },
      "source": [
        "<a href=\"https://colab.research.google.com/github/AgustinBatistelli/programacion_concurrente/blob/master/TP1_M2_Colab.ipynb\" target=\"_parent\"><img src=\"https://colab.research.google.com/assets/colab-badge.svg\" alt=\"Open In Colab\"/></a>"
      ]
    },
    {
      "cell_type": "markdown",
      "source": [
        "# TP1"
      ],
      "metadata": {
        "id": "U1LEkhKyzfTX"
      }
    },
    {
      "cell_type": "markdown",
      "source": [
        "Repositorio de codigo: [GitHub](https://github.com/AgustinBatistelli/programacion_concurrente)"
      ],
      "metadata": {
        "id": "QyPVNZILxoEQ"
      }
    },
    {
      "cell_type": "markdown",
      "source": [
        "## Parte 1"
      ],
      "metadata": {
        "id": "5pTq_VogsdfM"
      }
    },
    {
      "cell_type": "markdown",
      "source": [
        "### Implementación usando C++\n"
      ],
      "metadata": {
        "id": "UhBSbagBjoSY"
      }
    },
    {
      "cell_type": "markdown",
      "source": [
        "Escribo el archivo tp1.cpp con la lógica de mi programa."
      ],
      "metadata": {
        "id": "16iD1J8rARZ_"
      }
    },
    {
      "cell_type": "code",
      "source": [
        "%%writefile tp1.cpp\n",
        "#include <iostream>\n",
        "#include <string>\n",
        "#include <sys/wait.h>\n",
        "#include <unistd.h>\n",
        "\n",
        "#define HIJOS_DE_A 3\n",
        "#define HIJOS_DE_B 2\n",
        "#define HIJOS_DE_C 0\n",
        "#define HIJOS_DE_D 1\n",
        "#define HIJOS_DE_E HIJOS_DE_C\n",
        "#define HIJOS_DE_F HIJOS_DE_E\n",
        "#define HIJOS_DE_G HIJOS_DE_F\n",
        "\n",
        "#define PROCESO_B 0\n",
        "#define PROCESO_C 1\n",
        "#define PROCESO_E 0\n",
        "\n",
        "#define TIEMPO_DORMIDO 60\n",
        "#define INICIO_ITERADOR 0\n",
        "#define PROCESO_CREADO_CORRECTAMENTE 0\n",
        "#define PROCESO_SIN_HIJOS 0\n",
        "#define SALIDA_EXITOSA EXIT_SUCCESS\n",
        "#define SALIDA_ERRONEA EXIT_FAILURE\n",
        "\n",
        "bool procesoCreadoCorrectamente(pid_t pid);\n",
        "void esperarPorMisHijos(int numeroHijos);\n",
        "void mostrarMiInformacion(char letra, pid_t miPid, pid_t miParentPid);\n",
        "\n",
        "bool procesoCreadoCorrectamente(pid_t pid)\n",
        "{\n",
        "  return pid >= PROCESO_CREADO_CORRECTAMENTE;\n",
        "}\n",
        "\n",
        "void esperarPorMisHijos(int numeroHijos)\n",
        "{\n",
        "  for (int i = INICIO_ITERADOR; i < numeroHijos; i++)\n",
        "  {\n",
        "    wait(NULL);\n",
        "  }\n",
        "}\n",
        "\n",
        "void mostrarMiInformacion(char letra, pid_t miPid, pid_t miParentPid)\n",
        "{\n",
        "  std::cout<<\"Soy el proceso \"<<letra<<\". Mi PID es \"<<miPid<<\" y el PID de mi padre es \"<<miParentPid<<std::endl;\n",
        "}\n",
        "\n",
        "//Clase IProceso (simula una Interfaz)\n",
        "class IProceso \n",
        "{\n",
        "  protected:\n",
        "    pid_t miPid;\n",
        "    pid_t miPPid;\n",
        "    char letra;\n",
        "    int cantidadHijos;\n",
        "\n",
        "  public:\n",
        "    IProceso(pid_t pid, pid_t ppid, char caracter, int hijos) : miPid(pid), miPPid(ppid), letra(caracter), cantidadHijos(hijos) {}\n",
        "    virtual void realizarAccion() = SALIDA_EXITOSA;\n",
        "};\n",
        "\n",
        "//Procesos que tienen hijos y deben esperarlos\n",
        "class ProcesoConHijos : public IProceso \n",
        "{\n",
        "  public:\n",
        "    ProcesoConHijos(pid_t pid, pid_t ppid, char caracter, int hijos) : IProceso(pid, ppid, caracter, hijos) {}\n",
        "    void realizarAccion() override \n",
        "    {\n",
        "      mostrarMiInformacion(this->letra,this->miPid,this->miPPid);\n",
        "      esperarPorMisHijos(this->cantidadHijos);\n",
        "    }\n",
        "};\n",
        "\n",
        "//Procesos que no tienen hijos y deben hacer sleep\n",
        "class ProcesoSinHijos : public IProceso \n",
        "{\n",
        "  public:\n",
        "    ProcesoSinHijos(pid_t pid, pid_t ppid, char caracter, int hijos) : IProceso(pid, ppid, caracter, hijos) {}\n",
        "    void realizarAccion() override \n",
        "    {\n",
        "      mostrarMiInformacion(this->letra,this->miPid,this->miPPid);\n",
        "      sleep(TIEMPO_DORMIDO);\n",
        "    }\n",
        "};\n",
        "\n",
        "class ProcesoFabrica\n",
        "{\n",
        "  public:\n",
        "    IProceso* determinarTipoProceso(pid_t pid, pid_t ppid, char caracter, int hijos)\n",
        "    {\n",
        "      if (hijos > PROCESO_SIN_HIJOS)\n",
        "      {\n",
        "        proceso = new ProcesoConHijos(pid,ppid,caracter,hijos);\n",
        "      }\n",
        "      else\n",
        "      {\n",
        "        proceso = new ProcesoSinHijos(pid,ppid,caracter,hijos);\n",
        "      }\n",
        "      return proceso;\n",
        "    }\n",
        "  private:\n",
        "    IProceso* proceso;\n",
        "};\n",
        "\n",
        "int main(int argc, char *argv[])\n",
        "{\n",
        "  pid_t pidProcesoA, pidProcesoB, pidProcesoD;\n",
        "  ProcesoFabrica fabricaDeProcesos;\n",
        "\n",
        "  for (int i = INICIO_ITERADOR; i < HIJOS_DE_A; i++)\n",
        "  {\n",
        "    pidProcesoA = fork();\n",
        "    if (!procesoCreadoCorrectamente(pidProcesoA))\n",
        "    {\n",
        "      std::cout<<\"Se ha producido un error al crear un nuevo proceso\"<<std::endl;\n",
        "      return SALIDA_ERRONEA;\n",
        "    }\n",
        "    if (!pidProcesoA)\n",
        "    {\n",
        "      if (i == PROCESO_B)\n",
        "      {                \n",
        "        for (int j = INICIO_ITERADOR; j < HIJOS_DE_B; j++)\n",
        "        {\n",
        "          pidProcesoB = fork();\n",
        "          if (!procesoCreadoCorrectamente(pidProcesoB))\n",
        "          {\n",
        "            std::cout<<\"Se ha producido un error al crear un nuevo proceso\"<<std::endl;\n",
        "            return SALIDA_ERRONEA;\n",
        "          }\n",
        "          if (!pidProcesoB)\n",
        "          {\n",
        "            if (j == PROCESO_E)\n",
        "            {\n",
        "              IProceso* procesoE = fabricaDeProcesos.determinarTipoProceso(getpid(),getppid(),'E',HIJOS_DE_E);\n",
        "              procesoE->realizarAccion();\n",
        "              return SALIDA_EXITOSA;\n",
        "            }\n",
        "            else\n",
        "            {\n",
        "              IProceso* procesoF = fabricaDeProcesos.determinarTipoProceso(getpid(),getppid(),'F',HIJOS_DE_F);\n",
        "              procesoF->realizarAccion();\n",
        "              return SALIDA_EXITOSA;\n",
        "            }\n",
        "          }                \n",
        "        }\n",
        "        IProceso* procesoB = fabricaDeProcesos.determinarTipoProceso(getpid(),getppid(),'B',HIJOS_DE_B);\n",
        "        procesoB->realizarAccion();\n",
        "        return SALIDA_EXITOSA;\n",
        "      }\n",
        "      else\n",
        "      {\n",
        "        if (i == PROCESO_C)\n",
        "        {\n",
        "          IProceso* procesoC = fabricaDeProcesos.determinarTipoProceso(getpid(),getppid(),'C',HIJOS_DE_C);\n",
        "          procesoC->realizarAccion();\n",
        "          return SALIDA_EXITOSA;\n",
        "        }\n",
        "        else\n",
        "        {\n",
        "          pidProcesoD = fork();\n",
        "          if (!procesoCreadoCorrectamente(pidProcesoD))\n",
        "          {\n",
        "            std::cout<<\"Se ha producido un error al crear un nuevo proceso\"<<std::endl;\n",
        "            return SALIDA_ERRONEA;\n",
        "          }\n",
        "          if (!pidProcesoD)\n",
        "          {\n",
        "            IProceso* procesoG = fabricaDeProcesos.determinarTipoProceso(getpid(),getppid(),'G',HIJOS_DE_G);\n",
        "            procesoG->realizarAccion();\n",
        "            return SALIDA_EXITOSA;\n",
        "          }\n",
        "          IProceso* procesoD = fabricaDeProcesos.determinarTipoProceso(getpid(),getppid(),'D',HIJOS_DE_D);\n",
        "          procesoD->realizarAccion();\n",
        "          return SALIDA_EXITOSA;\n",
        "        }\n",
        "      }    \n",
        "    }\n",
        "  }\n",
        "  IProceso* procesoA = fabricaDeProcesos.determinarTipoProceso(getpid(),getppid(),'A',HIJOS_DE_A);\n",
        "  procesoA->realizarAccion();\n",
        "  return SALIDA_EXITOSA;\n",
        "}"
      ],
      "metadata": {
        "id": "13GGcy-icEGR",
        "outputId": "78860186-bc32-45b5-c278-de07da12d22a",
        "colab": {
          "base_uri": "https://localhost:8080/"
        }
      },
      "execution_count": 1,
      "outputs": [
        {
          "output_type": "stream",
          "name": "stdout",
          "text": [
            "Writing tp1.cpp\n"
          ]
        }
      ]
    },
    {
      "cell_type": "markdown",
      "source": [
        "Listo los archivos para ver que el archivo tp1.cpp esté creado correctamente."
      ],
      "metadata": {
        "id": "LA2_r0WJBMPX"
      }
    },
    {
      "cell_type": "code",
      "source": [
        "!ls -la"
      ],
      "metadata": {
        "id": "n2pCIs8wcaUV",
        "outputId": "3bb57280-75c3-4835-f3c2-17144e227273",
        "colab": {
          "base_uri": "https://localhost:8080/"
        }
      },
      "execution_count": 2,
      "outputs": [
        {
          "output_type": "stream",
          "name": "stdout",
          "text": [
            "total 24\n",
            "drwxr-xr-x 1 root root 4096 Apr 12 16:43 .\n",
            "drwxr-xr-x 1 root root 4096 Apr 12 16:42 ..\n",
            "drwxr-xr-x 4 root root 4096 Apr 11 13:32 .config\n",
            "drwxr-xr-x 1 root root 4096 Apr 11 13:33 sample_data\n",
            "-rw-r--r-- 1 root root 5158 Apr 12 16:43 tp1.cpp\n"
          ]
        }
      ]
    },
    {
      "cell_type": "markdown",
      "source": [
        "Compilo el archivo tp1.cpp para obtener un archivo a ejecutar. "
      ],
      "metadata": {
        "id": "hmneQfLXBRTF"
      }
    },
    {
      "cell_type": "code",
      "source": [
        "!g++ -std=c++11 -o tp1 tp1.cpp"
      ],
      "metadata": {
        "id": "us0x146acc28"
      },
      "execution_count": 3,
      "outputs": []
    },
    {
      "cell_type": "markdown",
      "source": [
        "Listo los archivos nuevamente para verificar que tengo el ejecutable del proceso. "
      ],
      "metadata": {
        "id": "IRuK5rzhBZpZ"
      }
    },
    {
      "cell_type": "code",
      "source": [
        "!ls -la"
      ],
      "metadata": {
        "id": "AkkgY7tQcj9R",
        "outputId": "84214d95-73c2-4e84-8c31-88d6e36b69f9",
        "colab": {
          "base_uri": "https://localhost:8080/"
        }
      },
      "execution_count": 4,
      "outputs": [
        {
          "output_type": "stream",
          "name": "stdout",
          "text": [
            "total 44\n",
            "drwxr-xr-x 1 root root  4096 Apr 12 16:43 .\n",
            "drwxr-xr-x 1 root root  4096 Apr 12 16:42 ..\n",
            "drwxr-xr-x 4 root root  4096 Apr 11 13:32 .config\n",
            "drwxr-xr-x 1 root root  4096 Apr 11 13:33 sample_data\n",
            "-rwxr-xr-x 1 root root 19112 Apr 12 16:43 tp1\n",
            "-rw-r--r-- 1 root root  5158 Apr 12 16:43 tp1.cpp\n"
          ]
        }
      ]
    },
    {
      "cell_type": "markdown",
      "source": [
        "Ejecuto el proceso en segundo plano. "
      ],
      "metadata": {
        "id": "otYF_e8aBgTf"
      }
    },
    {
      "cell_type": "code",
      "source": [
        "!nohup ./tp1 1>salidaC 2>/dev/null & "
      ],
      "metadata": {
        "id": "l1xzCnb1cnvM"
      },
      "execution_count": 5,
      "outputs": []
    },
    {
      "cell_type": "markdown",
      "source": [
        "Obtengo los procesos que se crearon al ejecutar el programa."
      ],
      "metadata": {
        "id": "fc0wCu1zBzk-"
      }
    },
    {
      "cell_type": "code",
      "source": [
        "!ps -ef | grep tp1"
      ],
      "metadata": {
        "id": "2QyVdFDucn25",
        "outputId": "8194829d-6629-48c3-b16f-59c69d3d40ec",
        "colab": {
          "base_uri": "https://localhost:8080/"
        }
      },
      "execution_count": 6,
      "outputs": [
        {
          "output_type": "stream",
          "name": "stdout",
          "text": [
            "root         366       1  0 16:43 ?        00:00:00 ./tp1\n",
            "root         367     366  0 16:43 ?        00:00:00 ./tp1\n",
            "root         368     366  0 16:43 ?        00:00:00 ./tp1\n",
            "root         369     367  0 16:43 ?        00:00:00 ./tp1\n",
            "root         370     366  0 16:43 ?        00:00:00 ./tp1\n",
            "root         371     367  0 16:43 ?        00:00:00 ./tp1\n",
            "root         372     370  0 16:43 ?        00:00:00 ./tp1\n",
            "root         389     166  0 16:43 ?        00:00:00 /bin/bash -c ps -ef | grep tp1\n",
            "root         391     389  0 16:43 ?        00:00:00 grep tp1\n"
          ]
        }
      ]
    },
    {
      "cell_type": "markdown",
      "source": [
        "Obtengo el árbol de procesos que nace a partir del proceso padre (A)"
      ],
      "metadata": {
        "id": "faBYdDPAB8Tx"
      }
    },
    {
      "cell_type": "code",
      "source": [
        "!pstree -p 366       "
      ],
      "metadata": {
        "id": "8u1VASk5cuaW",
        "outputId": "a11488e9-9d3b-4b58-b05f-2ad237c684f0",
        "colab": {
          "base_uri": "https://localhost:8080/"
        }
      },
      "execution_count": 7,
      "outputs": [
        {
          "output_type": "stream",
          "name": "stdout",
          "text": [
            "tp1(366)─┬─tp1(367)─┬─tp1(369)\n",
            "         │          └─tp1(371)\n",
            "         ├─tp1(368)\n",
            "         └─tp1(370)───tp1(372)\n"
          ]
        }
      ]
    },
    {
      "cell_type": "markdown",
      "source": [
        "Imprimo la salida de pantalla de cada proceso. "
      ],
      "metadata": {
        "id": "sAr1Zlp2CAZ7"
      }
    },
    {
      "cell_type": "code",
      "source": [
        "!cat salidaC"
      ],
      "metadata": {
        "colab": {
          "base_uri": "https://localhost:8080/"
        },
        "id": "ZS-K6Dx5_vFJ",
        "outputId": "4a367cca-1b92-46e6-fa85-c0d8a9f1c6c5"
      },
      "execution_count": null,
      "outputs": [
        {
          "output_type": "stream",
          "name": "stdout",
          "text": [
            "Soy el proceso A. Mi PID es 416 y el PID de mi padre es 1\n",
            "Soy el proceso D. Mi PID es 419 y el PID de mi padre es 416\n",
            "Soy el proceso B. Mi PID es 417 y el PID de mi padre es 416\n",
            "Soy el proceso E. Mi PID es 421 y el PID de mi padre es 417\n",
            "Soy el proceso C. Mi PID es 418 y el PID de mi padre es 416\n",
            "Soy el proceso G. Mi PID es 420 y el PID de mi padre es 419\n",
            "Soy el proceso F. Mi PID es 422 y el PID de mi padre es 417\n"
          ]
        }
      ]
    },
    {
      "cell_type": "markdown",
      "source": [
        "### Implementacion usando Python"
      ],
      "metadata": {
        "id": "rsQlpDdTkFfX"
      }
    },
    {
      "cell_type": "markdown",
      "source": [
        "Escribo el archivo fork.py con la logica del programa"
      ],
      "metadata": {
        "id": "qwKWQeyCohK4"
      }
    },
    {
      "cell_type": "code",
      "execution_count": 8,
      "metadata": {
        "colab": {
          "base_uri": "https://localhost:8080/"
        },
        "id": "77B0w4e3e2Nz",
        "outputId": "fa20b091-454a-4064-d36f-19cec4460ed3"
      },
      "outputs": [
        {
          "output_type": "stream",
          "name": "stdout",
          "text": [
            "Writing fork.py\n"
          ]
        }
      ],
      "source": [
        "%%writefile fork.py\n",
        "#!/usr/bin/env python3\n",
        "\n",
        "\n",
        "import os\n",
        "import time\n",
        "\n",
        "def parent():\n",
        "    \n",
        "    info(\"A\", os.getpid(), os.getppid())\n",
        "    hijos_a = [\"B\", \"C\", \"D\"]\n",
        "    hijos_b = [\"E\", \"F\"]\n",
        "    \n",
        "    pid_hijos_a = []\n",
        "    pid_hijos_b = []\n",
        "    \n",
        "    for hijo_a in hijos_a:\n",
        "        pid_a = os.fork()\n",
        "        \n",
        "        if pid_a < 0:\n",
        "            print(\"Error al crear el nuevo proceso \", hijo_a)\n",
        "            os._exit(1)\n",
        "        \n",
        "        \n",
        "        if pid_a == 0:\n",
        "            if hijo_a == \"B\":\n",
        "                info(hijo_a, os.getpid(), os.getppid())\n",
        "                for hijo_b in hijos_b:\n",
        "                    pid_b = os.fork()\n",
        "                    if pid_b < 0:\n",
        "                        print(\"Error al crear el nuevo proceso \", hijo_b)\n",
        "                        os.exit(1)\n",
        "                        \n",
        "                    if pid_b == 0:\n",
        "                        info(hijo_b, os.getpid(), os.getppid())\n",
        "                        time.sleep(100)\n",
        "                        os._exit(0)\n",
        "                    else:\n",
        "                        pid_hijos_b.append(pid_b);\n",
        "                for pid_hijo_b in pid_hijos_b:\n",
        "                    os.waitpid(pid_hijo_b,0)\n",
        "                os._exit(0)\n",
        "            if hijo_a == \"C\":\n",
        "                info(hijo_a, os.getpid(), os.getppid())\n",
        "                time.sleep(100)\n",
        "                os._exit(0)\n",
        "            else:\n",
        "                info(hijo_a, os.getpid(), os.getppid())\n",
        "                pid_d = os.fork()\n",
        "                if pid_d < 0:\n",
        "                    print(\"Error al crear el nuevo proceso \", hijo_a)\n",
        "                    os.exit(1)\n",
        "                if pid_d == 0:\n",
        "                    info(\"G\", os.getpid(), os.getppid())\n",
        "                    time.sleep(100)\n",
        "                    os._exit(0)\n",
        "                else:\n",
        "                    os.wait()\n",
        "                os._exit(0)\n",
        "        else:\n",
        "            pid_hijos_a.append(pid_a)\n",
        "                \n",
        "    for pid_hijo_a in pid_hijos_a:\n",
        "        os.waitpid(pid_hijo_a,0)\n",
        "        \n",
        "    os._exit(0)\n",
        "\n",
        "def info(nombre_proceso, pid, ppid):\n",
        "    print(\"Proceso \", nombre_proceso , \" con PID: \", pid, \" y PID de padre: \", ppid)\n",
        "    \n",
        "parent()"
      ]
    },
    {
      "cell_type": "markdown",
      "source": [
        "Ejecutamos el programa en segundo plano"
      ],
      "metadata": {
        "id": "jxFXs040onLH"
      }
    },
    {
      "cell_type": "code",
      "source": [
        "!nohup python fork.py 1>salidaPython 2>/dev/null &"
      ],
      "metadata": {
        "id": "TDs2yk5H31wL"
      },
      "execution_count": 9,
      "outputs": []
    },
    {
      "cell_type": "markdown",
      "source": [
        "Buscamos con ps el proceso que esta ejecutando nuestro programa"
      ],
      "metadata": {
        "id": "K7QXTEZ3orHY"
      }
    },
    {
      "cell_type": "code",
      "source": [
        "!ps -ef | grep fork.py\n"
      ],
      "metadata": {
        "colab": {
          "base_uri": "https://localhost:8080/"
        },
        "id": "o-AH6WJGeo94",
        "outputId": "9bcec873-b7d5-4dd2-d7cd-8f09e30e444a"
      },
      "execution_count": 10,
      "outputs": [
        {
          "output_type": "stream",
          "name": "stdout",
          "text": [
            "root         488       1  1 16:44 ?        00:00:00 python3 fork.py\n",
            "root         490     488  0 16:44 ?        00:00:00 python3 fork.py\n",
            "root         491     488  0 16:44 ?        00:00:00 python3 fork.py\n",
            "root         492     488  0 16:44 ?        00:00:00 python3 fork.py\n",
            "root         493     490  0 16:44 ?        00:00:00 python3 fork.py\n",
            "root         494     490  0 16:44 ?        00:00:00 python3 fork.py\n",
            "root         495     492  0 16:44 ?        00:00:00 python3 fork.py\n",
            "root         508     166  0 16:44 ?        00:00:00 /bin/bash -c ps -ef | grep fork.py\n",
            "root         510     508  0 16:44 ?        00:00:00 grep fork.py\n"
          ]
        }
      ]
    },
    {
      "cell_type": "markdown",
      "source": [
        "Mostramos el árbol de procesos que se generó"
      ],
      "metadata": {
        "id": "Qgfo2I_Io8un"
      }
    },
    {
      "cell_type": "code",
      "source": [
        "!pstree -pc 488               "
      ],
      "metadata": {
        "colab": {
          "base_uri": "https://localhost:8080/"
        },
        "id": "Uv_ReTVE38Kh",
        "outputId": "b262278c-ccab-48d0-f927-43adf5624fc7"
      },
      "execution_count": 11,
      "outputs": [
        {
          "output_type": "stream",
          "name": "stdout",
          "text": [
            "python3(488)─┬─python3(490)─┬─python3(493)\n",
            "             │              └─python3(494)\n",
            "             ├─python3(491)\n",
            "             └─python3(492)───python3(495)\n"
          ]
        }
      ]
    },
    {
      "cell_type": "markdown",
      "source": [
        "Mostrar la salida del proceso ejecutandolo nuevamente"
      ],
      "metadata": {
        "id": "b-oU0nj8q8uo"
      }
    },
    {
      "cell_type": "code",
      "source": [
        "!python fork.py"
      ],
      "metadata": {
        "colab": {
          "base_uri": "https://localhost:8080/"
        },
        "id": "ocNn1m-rTwB7",
        "outputId": "088a612a-a6b6-4cc4-c14b-f0287cc3c290"
      },
      "execution_count": null,
      "outputs": [
        {
          "output_type": "stream",
          "name": "stdout",
          "text": [
            "Proceso  A  con PID:  8070  y PID de padre:  158\n",
            "Proceso  B  con PID:  8072  y PID de padre:  8070\n",
            "Proceso  D  con PID:  8074  y PID de padre:  8070\n",
            "Proceso  F  con PID:  8076  y PID de padre:  8072\n",
            "Proceso  C  con PID:  8073  y PID de padre:  8070\n",
            "Proceso  E  con PID:  8075  y PID de padre:  8072\n",
            "Proceso  G  con PID:  8077  y PID de padre:  8074\n"
          ]
        }
      ]
    },
    {
      "cell_type": "markdown",
      "source": [
        "### Implementacion usando JAVA"
      ],
      "metadata": {
        "id": "oRPDbuLkkKbv"
      }
    },
    {
      "cell_type": "markdown",
      "source": [
        "Descargar la libreria gson para java."
      ],
      "metadata": {
        "id": "WQXG7OL9uox_"
      }
    },
    {
      "cell_type": "code",
      "source": [
        "!curl https://repo1.maven.org/maven2/com/google/code/gson/gson/2.10.1/gson-2.10.1.jar --output \"gson-2.10.1.jar\""
      ],
      "metadata": {
        "colab": {
          "base_uri": "https://localhost:8080/"
        },
        "id": "2TXz37y8aqu7",
        "outputId": "f98d466c-7485-4098-f455-3eff82c22043"
      },
      "execution_count": 12,
      "outputs": [
        {
          "output_type": "stream",
          "name": "stdout",
          "text": [
            "  % Total    % Received % Xferd  Average Speed   Time    Time     Time  Current\n",
            "                                 Dload  Upload   Total   Spent    Left  Speed\n",
            "\r  0     0    0     0    0     0      0      0 --:--:-- --:--:-- --:--:--     0\r100  276k  100  276k    0     0  1976k      0 --:--:-- --:--:-- --:--:-- 1976k\n"
          ]
        }
      ]
    },
    {
      "cell_type": "markdown",
      "source": [
        "Validar la descarga de la libreria"
      ],
      "metadata": {
        "id": "pxkQlLvQuphr"
      }
    },
    {
      "cell_type": "code",
      "source": [
        "!ls -lash"
      ],
      "metadata": {
        "id": "geyZQ7smazLo",
        "colab": {
          "base_uri": "https://localhost:8080/"
        },
        "outputId": "6443fb38-619b-4a9a-f5eb-9ca5c22c1a70"
      },
      "execution_count": 13,
      "outputs": [
        {
          "output_type": "stream",
          "name": "stdout",
          "text": [
            "total 332K\n",
            "4.0K drwxr-xr-x 1 root root 4.0K Apr 12 16:44 .\n",
            "4.0K drwxr-xr-x 1 root root 4.0K Apr 12 16:42 ..\n",
            "4.0K drwxr-xr-x 4 root root 4.0K Apr 11 13:32 .config\n",
            "4.0K -rw-r--r-- 1 root root 2.1K Apr 12 16:44 fork.py\n",
            "280K -rw-r--r-- 1 root root 277K Apr 12 16:44 gson-2.10.1.jar\n",
            "4.0K -rw-r--r-- 1 root root  418 Apr 12 16:43 salidaC\n",
            "   0 -rw-r--r-- 1 root root    0 Apr 12 16:44 salidaPython\n",
            "4.0K drwxr-xr-x 1 root root 4.0K Apr 11 13:33 sample_data\n",
            " 20K -rwxr-xr-x 1 root root  19K Apr 12 16:43 tp1\n",
            "8.0K -rw-r--r-- 1 root root 5.1K Apr 12 16:43 tp1.cpp\n"
          ]
        }
      ]
    },
    {
      "cell_type": "markdown",
      "source": [
        "Generar el archivo con datos de entrada."
      ],
      "metadata": {
        "id": "oKFB4iYXus_M"
      }
    },
    {
      "cell_type": "code",
      "source": [
        "!echo '{\"A\":[\"B\",\"C\",\"D\"],\"B\":[\"E\",\"F\"],\"D\":[\"G\"]}' > data.json"
      ],
      "metadata": {
        "id": "5s0aYZa8Ubdo"
      },
      "execution_count": 14,
      "outputs": []
    },
    {
      "cell_type": "markdown",
      "source": [
        "Generar el archivo con el programa necesario."
      ],
      "metadata": {
        "id": "A9ZRM8pCu2Uv"
      }
    },
    {
      "cell_type": "code",
      "source": [
        "%%writefile ProcessStuff.java\n",
        "import com.google.gson.Gson;\n",
        "import com.google.gson.reflect.TypeToken;\n",
        "import java.lang.reflect.Type;\n",
        "import java.io.StringReader;\n",
        "import java.io.PrintWriter;\n",
        "import java.io.FileOutputStream;\n",
        "import java.io.IOException;\n",
        "import java.nio.file.Files;\n",
        "import java.nio.file.FileSystems;\n",
        "import java.nio.file.FileSystem;\n",
        "import java.util.*;\n",
        "\n",
        "public class ProcessStuff {\n",
        "    public static void main(String[] args) {\n",
        "        String self = \"\";\n",
        "        if (args.length == 0) {\n",
        "          self = \"A\";\n",
        "        } else {\n",
        "          self = String.valueOf(args[0]);\n",
        "        }\n",
        "        Gson gson = new Gson();\n",
        "        Type customType = new TypeToken<HashMap<String, ArrayList<String>>>() {}.getType();\n",
        "        HashMap<String, ArrayList<String>> dataMap = gson.fromJson(getFileData(DATA_FILE_NAME), customType); \n",
        "        \n",
        "        info(self);\n",
        "\n",
        "        ArrayList<Process> children = spawnChildren(dataMap, self);\n",
        "        for(Process child : children) {\n",
        "            try {\n",
        "              child.waitFor();\n",
        "            } catch (InterruptedException e) {\n",
        "              System.err.println(\"Se ha producido una interrupción\");\n",
        "            }\n",
        "        }\n",
        "        try {\n",
        "          Thread.sleep(5000);\n",
        "        } catch (InterruptedException e) {\n",
        "          System.err.println(\"Se ha producido una interrupción\");\n",
        "        }\n",
        "    }\n",
        "\n",
        "    public static String getFileData(String fileName) {\n",
        "        String data = \"\";\n",
        "        try {\n",
        "            data = String.join(\"\", Files.readAllLines(FileSystems.getDefault().getPath(fileName)));\n",
        "        } catch (NullPointerException e) {\n",
        "            e.printStackTrace();\n",
        "        } catch (IOException e) {\n",
        "            System.err.println(\"No se pudo leer el archivo \" + fileName);\n",
        "            e.printStackTrace();\n",
        "        }\n",
        "        return data;\n",
        "    }\n",
        "\n",
        "    public synchronized static void info(String self) {\n",
        "        ProcessHandle selfProcessHandle = ProcessHandle.current();\n",
        "        try (\n",
        "            PrintWriter out = new PrintWriter(new FileOutputStream(OUT, true), true);\n",
        "        ) {\n",
        "            out.print(\"Soy el proceso \" + self + \". \");\n",
        "            out.print(\"Mi PID es: \" + selfProcessHandle.pid() + \". \");\n",
        "            out.print(\"El PID de mi padre es: \" + selfProcessHandle.parent().get().pid() + \".\\n\");\n",
        "            out.flush();\n",
        "        } catch (IOException e) {\n",
        "            System.err.println(\"No se pudo abrir el archivo: \" + OUT);\n",
        "            e.printStackTrace();\n",
        "        } catch (NoSuchElementException e) {\n",
        "            System.err.println(\"No tengo padre: \" + OUT);\n",
        "            e.printStackTrace();\n",
        "        }\n",
        "    }\n",
        "\n",
        "    public static ArrayList<Process> spawnChildren(HashMap<String, ArrayList<String>> dataMap, String self) {\n",
        "        ArrayList<Process> children = new ArrayList<>();\n",
        "        if (dataMap.keySet().contains(self)) {\n",
        "            for(String childValue : dataMap.get(self)) {\n",
        "              try {\n",
        "                children.add(new ProcessBuilder(\"java\", \"-cp\", \".:gson-2.10.1.jar:gson-2.10.1.jar:\", \"ProcessStuff\", childValue, \"1>salidaJava\", \"2>errors\").start());\n",
        "              } catch (IOException e) {\n",
        "                System.err.println(\"No se pudieron crear mas procesos:  \" + childValue);\n",
        "              }\n",
        "            }\n",
        "        }\n",
        "        return children;\n",
        "    }\n",
        "\n",
        "    final static String DATA_FILE_NAME = \"data.json\";\n",
        "    final static String OUT = \"miSalidaJava\";\n",
        "}"
      ],
      "metadata": {
        "colab": {
          "base_uri": "https://localhost:8080/"
        },
        "id": "0F5Jh3UN24xU",
        "outputId": "a0b09d0d-dd4e-4f88-e85c-995f77959c8a"
      },
      "execution_count": 34,
      "outputs": [
        {
          "output_type": "stream",
          "name": "stdout",
          "text": [
            "Overwriting ProcessStuff.java\n"
          ]
        }
      ]
    },
    {
      "cell_type": "markdown",
      "source": [
        "Compilar el programa junto con la libreria gson."
      ],
      "metadata": {
        "id": "ktkHzwbyu_JY"
      }
    },
    {
      "cell_type": "code",
      "source": [
        "!javac -cp .:gson-2.10.1.jar:gson-2.10.1.jar: ProcessStuff.java"
      ],
      "metadata": {
        "id": "1vihDcwDbDxy"
      },
      "execution_count": 35,
      "outputs": []
    },
    {
      "cell_type": "markdown",
      "source": [
        "Ejecutar el programa en segundo plano."
      ],
      "metadata": {
        "id": "74HfVG0EvHsh"
      }
    },
    {
      "cell_type": "code",
      "source": [
        "!nohup java -cp .:gson-2.10.1.jar:gson-2.10.1.jar: ProcessStuff 1>salidaJava 2>errors &  "
      ],
      "metadata": {
        "id": "hou-e5fEhSKr"
      },
      "execution_count": 41,
      "outputs": []
    },
    {
      "cell_type": "code",
      "source": [
        "!ps -ef | grep java"
      ],
      "metadata": {
        "colab": {
          "base_uri": "https://localhost:8080/"
        },
        "id": "5M2bcRxzhcVU",
        "outputId": "fbeacf36-f4d6-4e80-ddc7-344ab1183f2b"
      },
      "execution_count": 42,
      "outputs": [
        {
          "output_type": "stream",
          "name": "stdout",
          "text": [
            "root       13364       1 12 17:32 ?        00:00:00 java -cp .:gson-2.10.1.jar:gson-2.10.1.jar: ProcessStuff\n",
            "root       13381   13364 14 17:32 ?        00:00:00 java -cp .:gson-2.10.1.jar:gson-2.10.1.jar: ProcessStuff B 1>salidaJava 2>errors\n",
            "root       13384   13364 14 17:32 ?        00:00:00 java -cp .:gson-2.10.1.jar:gson-2.10.1.jar: ProcessStuff C 1>salidaJava 2>errors\n",
            "root       13387   13364 14 17:32 ?        00:00:00 java -cp .:gson-2.10.1.jar:gson-2.10.1.jar: ProcessStuff D 1>salidaJava 2>errors\n",
            "root       13439   13387 23 17:32 ?        00:00:00 java -cp .:gson-2.10.1.jar:gson-2.10.1.jar: ProcessStuff G 1>salidaJava 2>errors\n",
            "root       13444   13381 23 17:32 ?        00:00:00 java -cp .:gson-2.10.1.jar:gson-2.10.1.jar: ProcessStuff E 1>salidaJava 2>errors\n",
            "root       13453   13381 21 17:32 ?        00:00:00 java -cp .:gson-2.10.1.jar:gson-2.10.1.jar: ProcessStuff F 1>salidaJava 2>errors\n",
            "root       13501     166  0 17:32 ?        00:00:00 /bin/bash -c ps -ef | grep java\n",
            "root       13503   13501  0 17:32 ?        00:00:00 grep java\n"
          ]
        }
      ]
    },
    {
      "cell_type": "markdown",
      "source": [
        "Mostrar el arbol de procesos generado"
      ],
      "metadata": {
        "id": "VEfyblxpwaeY"
      }
    },
    {
      "cell_type": "code",
      "source": [
        "!pstree -pcT \"$(eval ps -eo pid,ppid,args | awk '$NF ~ /ProcessStuff/ && $2 == 1 {print $1}')\"                              "
      ],
      "metadata": {
        "id": "SJKE_aoZt6Zn",
        "colab": {
          "base_uri": "https://localhost:8080/"
        },
        "outputId": "ba79ce18-783b-4dcc-85df-2afcb7a9edce"
      },
      "execution_count": 43,
      "outputs": [
        {
          "output_type": "stream",
          "name": "stdout",
          "text": [
            "java(13364)─┬─java(13381)─┬─java(13444)\n",
            "            │             └─java(13453)\n",
            "            ├─java(13384)\n",
            "            └─java(13387)───java(13439)\n"
          ]
        }
      ]
    },
    {
      "cell_type": "markdown",
      "source": [
        "Mostrar resultado del archivo de salida del proceso"
      ],
      "metadata": {
        "id": "Aw16AntNwXpf"
      }
    },
    {
      "cell_type": "code",
      "source": [
        "!cat miSalidaJava"
      ],
      "metadata": {
        "colab": {
          "base_uri": "https://localhost:8080/"
        },
        "id": "Q4B58AJae2kY",
        "outputId": "828fa128-2aeb-4f82-cc07-c6c9ac753746"
      },
      "execution_count": 44,
      "outputs": [
        {
          "output_type": "stream",
          "name": "stdout",
          "text": [
            "Soy el proceso A. Mi PID es: 13364. El PID de mi padre es: 1.\n",
            "Soy el proceso D. Mi PID es: 13387. El PID de mi padre es: 13364.\n",
            "Soy el proceso C. Mi PID es: 13384. El PID de mi padre es: 13364.\n",
            "Soy el proceso B. Mi PID es: 13381. El PID de mi padre es: 13364.\n",
            "Soy el proceso E. Mi PID es: 13444. El PID de mi padre es: 13381.\n",
            "Soy el proceso G. Mi PID es: 13439. El PID de mi padre es: 13387.\n",
            "Soy el proceso F. Mi PID es: 13453. El PID de mi padre es: 13381.\n"
          ]
        }
      ]
    },
    {
      "cell_type": "markdown",
      "source": [
        "Borrar el archivo, en caso de volver a ejecutar."
      ],
      "metadata": {
        "id": "a8Dzn-D-wQeE"
      }
    },
    {
      "cell_type": "code",
      "source": [
        "!rm miSalidaJava"
      ],
      "metadata": {
        "id": "ZCJ1cgh4vzQ9"
      },
      "execution_count": 40,
      "outputs": []
    },
    {
      "cell_type": "markdown",
      "source": [
        "## Parte 2"
      ],
      "metadata": {
        "id": "rffXc0gxsnky"
      }
    },
    {
      "cell_type": "markdown",
      "source": [
        "## Parte 3"
      ],
      "metadata": {
        "id": "JU3g_Cs5srY5"
      }
    },
    {
      "cell_type": "markdown",
      "source": [
        "## Parte 4"
      ],
      "metadata": {
        "id": "ic60b3aqsu5E"
      }
    }
  ]
}