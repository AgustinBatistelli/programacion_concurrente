{
  "nbformat": 4,
  "nbformat_minor": 0,
  "metadata": {
    "colab": {
      "provenance": [],
      "authorship_tag": "ABX9TyPuH31nEjIVvrULEZLjVo1Y",
      "include_colab_link": true
    },
    "kernelspec": {
      "name": "python3",
      "display_name": "Python 3"
    },
    "language_info": {
      "name": "python"
    }
  },
  "cells": [
    {
      "cell_type": "markdown",
      "metadata": {
        "id": "view-in-github",
        "colab_type": "text"
      },
      "source": [
        "<a href=\"https://colab.research.google.com/github/AgustinBatistelli/programacion_concurrente/blob/master/TP4/Java/TP1_P4_Java.ipynb\" target=\"_parent\"><img src=\"https://colab.research.google.com/assets/colab-badge.svg\" alt=\"Open In Colab\"/></a>"
      ]
    },
    {
      "cell_type": "markdown",
      "source": [
        "Uso el comando writefile para generar el archivo Main.java. Necesitaré ese archivo para crear un ejecutable."
      ],
      "metadata": {
        "id": "VmnD1fGVHwIy"
      }
    },
    {
      "cell_type": "code",
      "execution_count": null,
      "metadata": {
        "colab": {
          "base_uri": "https://localhost:8080/"
        },
        "id": "j2i9i0ERHoAf",
        "outputId": "1c809441-0195-4a3a-b23e-8e0c84b39163"
      },
      "outputs": [
        {
          "output_type": "stream",
          "name": "stdout",
          "text": [
            "Writing Main.java\n"
          ]
        }
      ],
      "source": [
        "%%writefile Main.java\n",
        "import java.util.concurrent.Semaphore;\n",
        "\n",
        "public class Main \n",
        "{\n",
        "  private int variableCompartida;\n",
        "  private Semaphore semaforoProductor;\n",
        "  private Semaphore semaforoConsumidor;\n",
        "  final static int VALOR_ALEATORIO_MAXIMO = 100;\n",
        "  final static int INICIALIZADOR = 0;\n",
        "  final static int CICLOS_MAXIMOS = 10;\n",
        "  final static int POSICION_SIGUIENTE = 1;\n",
        "  final static int VALOR_INICIAL_SEMAFORO_PRODUCTOR = 1;\n",
        "  final static int VALOR_INICIAL_SEMAFORO_CONSUMIDOR = 0;\n",
        "\n",
        "  public Main()\n",
        "  {\n",
        "    this.semaforoProductor = new Semaphore(VALOR_INICIAL_SEMAFORO_PRODUCTOR);\n",
        "    this.semaforoConsumidor = new Semaphore(VALOR_INICIAL_SEMAFORO_CONSUMIDOR);\n",
        "  }\n",
        "\n",
        "  public void ejecutarHilos()\n",
        "  {\n",
        "    Thread productor = new Thread(new Runnable() \n",
        "    {\n",
        "      @Override\n",
        "      public void run()\n",
        "      {\n",
        "        for(int i = INICIALIZADOR; i < CICLOS_MAXIMOS; i++)\n",
        "        {\n",
        "          try \n",
        "          {\n",
        "            semaforoProductor.acquire();\n",
        "            variableCompartida = (int) (Math.random() * VALOR_ALEATORIO_MAXIMO);\n",
        "            System.out.println(\"Iteracion \"+(i+POSICION_SIGUIENTE)+\". Soy el pruductor y acabo de producir: \" + variableCompartida);\n",
        "            semaforoConsumidor.release();\n",
        "          } \n",
        "          catch (Exception e) \n",
        "          {\n",
        "            e.printStackTrace();\n",
        "          }\n",
        "        }\n",
        "      }\n",
        "    });\n",
        "\n",
        "    Thread consumidor = new Thread(new Runnable()\n",
        "    {\n",
        "      @Override\n",
        "      public void run()\n",
        "      {\n",
        "        for(int i = INICIALIZADOR; i < CICLOS_MAXIMOS; i++)\n",
        "        {\n",
        "          try \n",
        "          {\n",
        "            semaforoConsumidor.acquire();\n",
        "            int variableConsumida = variableCompartida;\n",
        "            System.out.println(\"Iteracion \"+(i+POSICION_SIGUIENTE)+\". Soy el consumidor y acabo de consumir: \" + variableConsumida);\n",
        "            semaforoProductor.release();\n",
        "          } \n",
        "          catch (Exception e) \n",
        "          {\n",
        "            e.printStackTrace();\n",
        "          }\n",
        "        }\n",
        "      }\n",
        "    }); \n",
        "        \n",
        "    productor.start();\n",
        "    consumidor.start();\n",
        "  }\n",
        "\n",
        "  public static void main(String[] args) \n",
        "  {\n",
        "    Main programa = new Main();\n",
        "    programa.ejecutarHilos();\n",
        "  }\n",
        "}"
      ]
    },
    {
      "cell_type": "markdown",
      "source": [
        "Listo los archivos para asegurarme que existe el nuevo archivo que cree (Main.java)."
      ],
      "metadata": {
        "id": "RdjSN9fxH-kk"
      }
    },
    {
      "cell_type": "code",
      "source": [
        "!ls -la"
      ],
      "metadata": {
        "colab": {
          "base_uri": "https://localhost:8080/"
        },
        "id": "CNfJ8vZbH9ao",
        "outputId": "e8f35702-63a1-42a0-ecd8-eb9751851387"
      },
      "execution_count": null,
      "outputs": [
        {
          "output_type": "stream",
          "name": "stdout",
          "text": [
            "total 20\n",
            "drwxr-xr-x 1 root root 4096 May  8 11:40 .\n",
            "drwxr-xr-x 1 root root 4096 May  8 11:39 ..\n",
            "drwxr-xr-x 4 root root 4096 May  3 13:30 .config\n",
            "-rw-r--r-- 1 root root 2079 May  8 11:40 Main.java\n",
            "drwxr-xr-x 1 root root 4096 May  3 13:31 sample_data\n"
          ]
        }
      ]
    },
    {
      "cell_type": "markdown",
      "source": [
        "Compilo el archivo Main.java para obtener un ejecutable."
      ],
      "metadata": {
        "id": "hIr-vY30IDfg"
      }
    },
    {
      "cell_type": "code",
      "source": [
        "!javac Main.java"
      ],
      "metadata": {
        "id": "k9Cyq7lFIBey"
      },
      "execution_count": null,
      "outputs": []
    },
    {
      "cell_type": "markdown",
      "source": [
        "Listo los archivos de nuevo para asegurarme que poseo el ejecutable. Debería salir como Main.class."
      ],
      "metadata": {
        "id": "dxzx6nFLIODt"
      }
    },
    {
      "cell_type": "code",
      "source": [
        "!ls -la"
      ],
      "metadata": {
        "colab": {
          "base_uri": "https://localhost:8080/"
        },
        "id": "dvClhAbYIGVt",
        "outputId": "efbc904b-473d-4e35-ef11-413826bba7d6"
      },
      "execution_count": null,
      "outputs": [
        {
          "output_type": "stream",
          "name": "stdout",
          "text": [
            "total 32\n",
            "drwxr-xr-x 1 root root 4096 May  8 11:40  .\n",
            "drwxr-xr-x 1 root root 4096 May  8 11:39  ..\n",
            "drwxr-xr-x 4 root root 4096 May  3 13:30  .config\n",
            "-rw-r--r-- 1 root root 1481 May  8 11:40 'Main$1.class'\n",
            "-rw-r--r-- 1 root root 1413 May  8 11:40 'Main$2.class'\n",
            "-rw-r--r-- 1 root root 1107 May  8 11:40  Main.class\n",
            "-rw-r--r-- 1 root root 2079 May  8 11:40  Main.java\n",
            "drwxr-xr-x 1 root root 4096 May  3 13:31  sample_data\n"
          ]
        }
      ]
    },
    {
      "cell_type": "markdown",
      "source": [
        "Utilizo el comando nohup para ejecutar el proceso en segundo plano, de manera que no me ocupe la consola. Es necesario añadir el caracter '&' al final.\n",
        "\n",
        "Para ejecutar el proceso, tengo que poner java Main.\n",
        "\n",
        "El comando 1>salidaJava va a redirigir la salida estandar de la pantalla (stdout) a un archivo llamado salidaJava.\n",
        "\n",
        "El comando 2>/dev/null envía la salida de error estandar (stderr) a dev/null"
      ],
      "metadata": {
        "id": "mPCXtf_WIT-4"
      }
    },
    {
      "cell_type": "code",
      "source": [
        "!nohup java Main 1>salidaJava 2>/dev/null & "
      ],
      "metadata": {
        "id": "anttkbaKIRBX"
      },
      "execution_count": null,
      "outputs": []
    },
    {
      "cell_type": "markdown",
      "source": [
        "Reviso el archivo de salida."
      ],
      "metadata": {
        "id": "aAAVekTwIf-R"
      }
    },
    {
      "cell_type": "code",
      "source": [
        "!cat salidaJava"
      ],
      "metadata": {
        "colab": {
          "base_uri": "https://localhost:8080/"
        },
        "id": "HWRLtpCXIccP",
        "outputId": "447b1ae8-5d81-400f-b8d9-6d6d9ad2ef57"
      },
      "execution_count": null,
      "outputs": [
        {
          "output_type": "stream",
          "name": "stdout",
          "text": [
            "Iteracion 1. Soy el pruductor y acabo de producir: 44\n",
            "Iteracion 1. Soy el consumidor y acabo de consumir: 44\n",
            "Iteracion 2. Soy el pruductor y acabo de producir: 99\n",
            "Iteracion 2. Soy el consumidor y acabo de consumir: 99\n",
            "Iteracion 3. Soy el pruductor y acabo de producir: 68\n",
            "Iteracion 3. Soy el consumidor y acabo de consumir: 68\n",
            "Iteracion 4. Soy el pruductor y acabo de producir: 86\n",
            "Iteracion 4. Soy el consumidor y acabo de consumir: 86\n",
            "Iteracion 5. Soy el pruductor y acabo de producir: 93\n",
            "Iteracion 5. Soy el consumidor y acabo de consumir: 93\n",
            "Iteracion 6. Soy el pruductor y acabo de producir: 99\n",
            "Iteracion 6. Soy el consumidor y acabo de consumir: 99\n",
            "Iteracion 7. Soy el pruductor y acabo de producir: 20\n",
            "Iteracion 7. Soy el consumidor y acabo de consumir: 20\n",
            "Iteracion 8. Soy el pruductor y acabo de producir: 25\n",
            "Iteracion 8. Soy el consumidor y acabo de consumir: 25\n",
            "Iteracion 9. Soy el pruductor y acabo de producir: 91\n",
            "Iteracion 9. Soy el consumidor y acabo de consumir: 91\n",
            "Iteracion 10. Soy el pruductor y acabo de producir: 79\n",
            "Iteracion 10. Soy el consumidor y acabo de consumir: 79\n"
          ]
        }
      ]
    },
    {
      "cell_type": "markdown",
      "source": [
        "Vuelvo a ejecutar el proceso. Esta vez, la salida será redirigida al archovo salidaJavaB."
      ],
      "metadata": {
        "id": "maW3eDKLIm0u"
      }
    },
    {
      "cell_type": "code",
      "source": [
        "!nohup java Main 1>salidaJavaB 2>/dev/null & "
      ],
      "metadata": {
        "id": "lRSdaAuMIjCA"
      },
      "execution_count": null,
      "outputs": []
    },
    {
      "cell_type": "markdown",
      "source": [
        "Listo el archivo de salida. "
      ],
      "metadata": {
        "id": "B-hnLIUpIrhH"
      }
    },
    {
      "cell_type": "code",
      "source": [
        "!cat salidaJavaB"
      ],
      "metadata": {
        "colab": {
          "base_uri": "https://localhost:8080/"
        },
        "id": "13vPtcC3Its5",
        "outputId": "6ff179f1-78b5-4dfb-a998-719d8d6fe3bc"
      },
      "execution_count": null,
      "outputs": [
        {
          "output_type": "stream",
          "name": "stdout",
          "text": [
            "Iteracion 1. Soy el pruductor y acabo de producir: 9\n",
            "Iteracion 1. Soy el consumidor y acabo de consumir: 9\n",
            "Iteracion 2. Soy el pruductor y acabo de producir: 3\n",
            "Iteracion 2. Soy el consumidor y acabo de consumir: 3\n",
            "Iteracion 3. Soy el pruductor y acabo de producir: 82\n",
            "Iteracion 3. Soy el consumidor y acabo de consumir: 82\n",
            "Iteracion 4. Soy el pruductor y acabo de producir: 61\n",
            "Iteracion 4. Soy el consumidor y acabo de consumir: 61\n",
            "Iteracion 5. Soy el pruductor y acabo de producir: 78\n",
            "Iteracion 5. Soy el consumidor y acabo de consumir: 78\n",
            "Iteracion 6. Soy el pruductor y acabo de producir: 9\n",
            "Iteracion 6. Soy el consumidor y acabo de consumir: 9\n",
            "Iteracion 7. Soy el pruductor y acabo de producir: 94\n",
            "Iteracion 7. Soy el consumidor y acabo de consumir: 94\n",
            "Iteracion 8. Soy el pruductor y acabo de producir: 49\n",
            "Iteracion 8. Soy el consumidor y acabo de consumir: 49\n",
            "Iteracion 9. Soy el pruductor y acabo de producir: 90\n",
            "Iteracion 9. Soy el consumidor y acabo de consumir: 90\n",
            "Iteracion 10. Soy el pruductor y acabo de producir: 13\n",
            "Iteracion 10. Soy el consumidor y acabo de consumir: 13\n"
          ]
        }
      ]
    }
  ]
}