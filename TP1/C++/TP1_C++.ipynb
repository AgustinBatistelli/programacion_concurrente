{
  "nbformat": 4,
  "nbformat_minor": 0,
  "metadata": {
    "colab": {
      "provenance": [],
      "authorship_tag": "ABX9TyM33Lfj6FSWMBzSOIAHQOkr",
      "include_colab_link": true
    },
    "kernelspec": {
      "name": "python3",
      "display_name": "Python 3"
    },
    "language_info": {
      "name": "python"
    }
  },
  "cells": [
    {
      "cell_type": "markdown",
      "metadata": {
        "id": "view-in-github",
        "colab_type": "text"
      },
      "source": [
        "<a href=\"https://colab.research.google.com/github/AgustinBatistelli/programacion_concurrente/blob/master/TP1/C%2B%2B/TP1_C%2B%2B.ipynb\" target=\"_parent\"><img src=\"https://colab.research.google.com/assets/colab-badge.svg\" alt=\"Open In Colab\"/></a>"
      ]
    },
    {
      "cell_type": "markdown",
      "source": [
        "**TP1 en C++**"
      ],
      "metadata": {
        "id": "U1LEkhKyzfTX"
      }
    },
    {
      "cell_type": "markdown",
      "source": [
        "Utilizo el comando writefile para generar un archivo llamado tp1.cpp. Necesitaré ese archivo para crear un ejecutable. "
      ],
      "metadata": {
        "id": "16iD1J8rARZ_"
      }
    },
    {
      "cell_type": "code",
      "source": [
        "%%writefile tp1.cpp\n",
        "#include <iostream>\n",
        "#include <string>\n",
        "#include <sys/wait.h>\n",
        "#include <unistd.h>\n",
        "\n",
        "#define HIJOS_DE_A 3\n",
        "#define HIJOS_DE_B 2\n",
        "#define HIJOS_DE_C 0\n",
        "#define HIJOS_DE_D 1\n",
        "#define HIJOS_DE_E HIJOS_DE_C\n",
        "#define HIJOS_DE_F HIJOS_DE_E\n",
        "#define HIJOS_DE_G HIJOS_DE_F\n",
        "\n",
        "#define PROCESO_B 0\n",
        "#define PROCESO_C 1\n",
        "#define PROCESO_E 0\n",
        "\n",
        "#define TIEMPO_DORMIDO 30\n",
        "#define INICIO_ITERADOR 0\n",
        "#define PROCESO_CREADO_CORRECTAMENTE 0\n",
        "#define PROCESO_SIN_HIJOS 0\n",
        "#define SALIDA_EXITOSA EXIT_SUCCESS\n",
        "#define SALIDA_ERRONEA EXIT_FAILURE\n",
        "\n",
        "bool procesoCreadoCorrectamente(pid_t pid);\n",
        "void esperarPorMisHijos(int numeroHijos);\n",
        "void mostrarMiInformacion(char letra, pid_t miPid, pid_t miParentPid);\n",
        "\n",
        "bool procesoCreadoCorrectamente(pid_t pid)\n",
        "{\n",
        "  return pid >= PROCESO_CREADO_CORRECTAMENTE;\n",
        "}\n",
        "\n",
        "void esperarPorMisHijos(int numeroHijos)\n",
        "{\n",
        "  for (int i = INICIO_ITERADOR; i < numeroHijos; i++)\n",
        "  {\n",
        "    wait(NULL);\n",
        "  }\n",
        "}\n",
        "\n",
        "void mostrarMiInformacion(char letra, pid_t miPid, pid_t miParentPid)\n",
        "{\n",
        "  std::cout<<\"Soy el proceso \"<<letra<<\". Mi PID es \"<<miPid<<\" y el PID de mi padre es \"<<miParentPid<<std::endl;\n",
        "}\n",
        "\n",
        "//Clase IProceso (simula una Interfaz)\n",
        "class IProceso \n",
        "{\n",
        "  protected:\n",
        "    pid_t _miPid;\n",
        "    pid_t _miPPid;\n",
        "    char _letra;\n",
        "    int _cantidadHijos;\n",
        "\n",
        "  public:\n",
        "    IProceso(pid_t pid, pid_t ppid, char caracter, int hijos) : _miPid(pid), _miPPid(ppid), _letra(caracter), _cantidadHijos(hijos) \n",
        "    {\n",
        "    }\n",
        "    virtual void realizarAccion() = SALIDA_EXITOSA;\n",
        "};\n",
        "\n",
        "//Procesos que tienen hijos y deben esperarlos\n",
        "class ProcesoConHijos : public IProceso \n",
        "{\n",
        "  public:\n",
        "    ProcesoConHijos(pid_t pid, pid_t ppid, char caracter, int hijos) : IProceso(pid, ppid, caracter, hijos) \n",
        "    {\n",
        "    }\n",
        "    void realizarAccion() override \n",
        "    {\n",
        "      mostrarMiInformacion(this->_letra,this->_miPid,this->_miPPid);\n",
        "      esperarPorMisHijos(this->_cantidadHijos);\n",
        "    }\n",
        "};\n",
        "\n",
        "//Procesos que no tienen hijos y deben hacer sleep\n",
        "class ProcesoSinHijos : public IProceso \n",
        "{\n",
        "  public:\n",
        "    ProcesoSinHijos(pid_t pid, pid_t ppid, char caracter, int hijos) : IProceso(pid, ppid, caracter, hijos) \n",
        "    {\n",
        "    }\n",
        "    void realizarAccion() override \n",
        "    {\n",
        "      mostrarMiInformacion(this->_letra,this->_miPid,this->_miPPid);\n",
        "      sleep(TIEMPO_DORMIDO);\n",
        "    }\n",
        "};\n",
        "\n",
        "class ProcesoFabrica\n",
        "{\n",
        "  public:\n",
        "    IProceso* determinarTipoProceso(pid_t pid, pid_t ppid, char caracter, int hijos)\n",
        "    {\n",
        "      if (hijos > PROCESO_SIN_HIJOS)\n",
        "      {\n",
        "        proceso = new ProcesoConHijos(pid,ppid,caracter,hijos);\n",
        "      }\n",
        "      else\n",
        "      {\n",
        "        proceso = new ProcesoSinHijos(pid,ppid,caracter,hijos);\n",
        "      }\n",
        "      return proceso;\n",
        "    }\n",
        "  private:\n",
        "    IProceso* proceso;\n",
        "};\n",
        "\n",
        "int main(int argc, char *argv[])\n",
        "{\n",
        "  pid_t pidProcesoA, pidProcesoB, pidProcesoD;\n",
        "  ProcesoFabrica fabricaDeProcesos;\n",
        "\n",
        "  for (int i = INICIO_ITERADOR; i < HIJOS_DE_A; i++)\n",
        "  {\n",
        "    pidProcesoA = fork();\n",
        "    if (!procesoCreadoCorrectamente(pidProcesoA))\n",
        "    {\n",
        "      std::cout<<\"Se ha producido un error al crear un nuevo proceso\"<<std::endl;\n",
        "      return SALIDA_ERRONEA;\n",
        "    }\n",
        "    if (!pidProcesoA)\n",
        "    {\n",
        "      if (i == PROCESO_B)\n",
        "      {                \n",
        "        for (int j = INICIO_ITERADOR; j < HIJOS_DE_B; j++)\n",
        "        {\n",
        "          pidProcesoB = fork();\n",
        "          if (!procesoCreadoCorrectamente(pidProcesoB))\n",
        "          {\n",
        "            std::cout<<\"Se ha producido un error al crear un nuevo proceso\"<<std::endl;\n",
        "            return SALIDA_ERRONEA;\n",
        "          }\n",
        "          if (!pidProcesoB)\n",
        "          {\n",
        "            if (j == PROCESO_E)\n",
        "            {\n",
        "              IProceso* procesoE = fabricaDeProcesos.determinarTipoProceso(getpid(),getppid(),'E',HIJOS_DE_E);\n",
        "              procesoE->realizarAccion();\n",
        "              return SALIDA_EXITOSA;\n",
        "            }\n",
        "            else\n",
        "            {\n",
        "              IProceso* procesoF = fabricaDeProcesos.determinarTipoProceso(getpid(),getppid(),'F',HIJOS_DE_F);\n",
        "              procesoF->realizarAccion();\n",
        "              return SALIDA_EXITOSA;\n",
        "            }\n",
        "          }                \n",
        "        }\n",
        "        IProceso* procesoB = fabricaDeProcesos.determinarTipoProceso(getpid(),getppid(),'B',HIJOS_DE_B);\n",
        "        procesoB->realizarAccion();\n",
        "        return SALIDA_EXITOSA;\n",
        "      }\n",
        "      else\n",
        "      {\n",
        "        if (i == PROCESO_C)\n",
        "        {\n",
        "          IProceso* procesoC = fabricaDeProcesos.determinarTipoProceso(getpid(),getppid(),'C',HIJOS_DE_C);\n",
        "          procesoC->realizarAccion();\n",
        "          return SALIDA_EXITOSA;\n",
        "        }\n",
        "        else\n",
        "        {\n",
        "          pidProcesoD = fork();\n",
        "          if (!procesoCreadoCorrectamente(pidProcesoD))\n",
        "          {\n",
        "            std::cout<<\"Se ha producido un error al crear un nuevo proceso\"<<std::endl;\n",
        "            return SALIDA_ERRONEA;\n",
        "          }\n",
        "          if (!pidProcesoD)\n",
        "          {\n",
        "            IProceso* procesoG = fabricaDeProcesos.determinarTipoProceso(getpid(),getppid(),'G',HIJOS_DE_G);\n",
        "            procesoG->realizarAccion();\n",
        "            return SALIDA_EXITOSA;\n",
        "          }\n",
        "          IProceso* procesoD = fabricaDeProcesos.determinarTipoProceso(getpid(),getppid(),'D',HIJOS_DE_D);\n",
        "          procesoD->realizarAccion();\n",
        "          return SALIDA_EXITOSA;\n",
        "        }\n",
        "      }    \n",
        "    }\n",
        "  }\n",
        "  IProceso* procesoA = fabricaDeProcesos.determinarTipoProceso(getpid(),getppid(),'A',HIJOS_DE_A);\n",
        "  procesoA->realizarAccion();\n",
        "  return SALIDA_EXITOSA;\n",
        "}"
      ],
      "metadata": {
        "id": "13GGcy-icEGR",
        "outputId": "e4d129e2-5c36-4277-8edf-c6db7bfba9ce",
        "colab": {
          "base_uri": "https://localhost:8080/"
        }
      },
      "execution_count": 9,
      "outputs": [
        {
          "output_type": "stream",
          "name": "stdout",
          "text": [
            "Overwriting tp1.cpp\n"
          ]
        }
      ]
    },
    {
      "cell_type": "markdown",
      "source": [
        "Listo los archivos para ver que el archivo tp1.cpp esté creado correctamente."
      ],
      "metadata": {
        "id": "LA2_r0WJBMPX"
      }
    },
    {
      "cell_type": "code",
      "source": [
        "!ls -la"
      ],
      "metadata": {
        "id": "n2pCIs8wcaUV",
        "outputId": "89bbf9c4-d872-45a4-f2ac-83780938d456",
        "colab": {
          "base_uri": "https://localhost:8080/"
        }
      },
      "execution_count": 10,
      "outputs": [
        {
          "output_type": "stream",
          "name": "stdout",
          "text": [
            "total 48\n",
            "drwxr-xr-x 1 root root  4096 Apr 19 02:22 .\n",
            "drwxr-xr-x 1 root root  4096 Apr 19 02:20 ..\n",
            "drwxr-xr-x 4 root root  4096 Apr 14 13:34 .config\n",
            "-rw-r--r-- 1 root root   418 Apr 19 02:22 salidaC\n",
            "drwxr-xr-x 1 root root  4096 Apr 14 13:35 sample_data\n",
            "-rwxr-xr-x 1 root root 19112 Apr 19 02:22 tp1\n",
            "-rw-r--r-- 1 root root  5203 Apr 19 02:42 tp1.cpp\n"
          ]
        }
      ]
    },
    {
      "cell_type": "markdown",
      "source": [
        "Compilo el archivo tp1.cpp para obtener un archivo a ejecutar. Este archivo se llamará tp1 y no llevará extensión. "
      ],
      "metadata": {
        "id": "hmneQfLXBRTF"
      }
    },
    {
      "cell_type": "code",
      "source": [
        "!g++ -std=c++11 -o tp1 tp1.cpp"
      ],
      "metadata": {
        "id": "us0x146acc28"
      },
      "execution_count": 11,
      "outputs": []
    },
    {
      "cell_type": "markdown",
      "source": [
        "Listo los archivos nuevamente para verificar que tengo el ejecutable del proceso. "
      ],
      "metadata": {
        "id": "IRuK5rzhBZpZ"
      }
    },
    {
      "cell_type": "code",
      "source": [
        "!ls -la"
      ],
      "metadata": {
        "id": "AkkgY7tQcj9R",
        "outputId": "dec34757-5f90-4958-b229-34b037fe46a8",
        "colab": {
          "base_uri": "https://localhost:8080/"
        }
      },
      "execution_count": 12,
      "outputs": [
        {
          "output_type": "stream",
          "name": "stdout",
          "text": [
            "total 48\n",
            "drwxr-xr-x 1 root root  4096 Apr 19 02:42 .\n",
            "drwxr-xr-x 1 root root  4096 Apr 19 02:20 ..\n",
            "drwxr-xr-x 4 root root  4096 Apr 14 13:34 .config\n",
            "-rw-r--r-- 1 root root   418 Apr 19 02:22 salidaC\n",
            "drwxr-xr-x 1 root root  4096 Apr 14 13:35 sample_data\n",
            "-rwxr-xr-x 1 root root 19112 Apr 19 02:42 tp1\n",
            "-rw-r--r-- 1 root root  5203 Apr 19 02:42 tp1.cpp\n"
          ]
        }
      ]
    },
    {
      "cell_type": "markdown",
      "source": [
        "Utilizo el comando nohup para ejecutar el proceso en segundo plano, de manera que no me ocupe la consola. Es necesario añadir el caracter '&' al final.\n",
        "\n",
        "Para ejecutar el proceso, tengo que poner ./tp1.\n",
        "\n",
        "El comando 1>salidaC va a redirigir la salida estandar de la pantalla (stdout) a un archivo llamado salidaC.\n",
        "\n",
        "El comando 2>/dev/null envía la salida de error estandar (stderr) a dev/null"
      ],
      "metadata": {
        "id": "otYF_e8aBgTf"
      }
    },
    {
      "cell_type": "code",
      "source": [
        "!nohup ./tp1 1>salidaC 2>/dev/null & "
      ],
      "metadata": {
        "id": "l1xzCnb1cnvM"
      },
      "execution_count": 13,
      "outputs": []
    },
    {
      "cell_type": "markdown",
      "source": [
        "Al ejecutar el proceso, podré ver al proceso padre y a sus procesos hijos con el comando ps. "
      ],
      "metadata": {
        "id": "fc0wCu1zBzk-"
      }
    },
    {
      "cell_type": "code",
      "source": [
        "!ps -ef | grep tp1"
      ],
      "metadata": {
        "id": "2QyVdFDucn25",
        "outputId": "a0fe388c-436b-4651-e96b-b1057ecc5744",
        "colab": {
          "base_uri": "https://localhost:8080/"
        }
      },
      "execution_count": 14,
      "outputs": [
        {
          "output_type": "stream",
          "name": "stdout",
          "text": [
            "root        5812       1  0 02:42 ?        00:00:00 ./tp1\n",
            "root        5813    5812  0 02:42 ?        00:00:00 ./tp1\n",
            "root        5814    5812  0 02:42 ?        00:00:00 ./tp1\n",
            "root        5815    5812  0 02:42 ?        00:00:00 ./tp1\n",
            "root        5816    5813  0 02:42 ?        00:00:00 ./tp1\n",
            "root        5817    5813  0 02:42 ?        00:00:00 ./tp1\n",
            "root        5818    5815  0 02:42 ?        00:00:00 ./tp1\n",
            "root        5831     518  0 02:42 ?        00:00:00 /bin/bash -c ps -ef | grep tp1\n",
            "root        5833    5831  0 02:42 ?        00:00:00 grep tp1\n"
          ]
        }
      ]
    },
    {
      "cell_type": "markdown",
      "source": [
        "Utilizo el comando pstree para poder obtener el árbol de procesos. Si le paso el PID del proceso padre, podré ver tanto su PID como el PID de sus hijos y nietos. "
      ],
      "metadata": {
        "id": "faBYdDPAB8Tx"
      }
    },
    {
      "cell_type": "code",
      "source": [
        "!pstree -p 5812"
      ],
      "metadata": {
        "id": "8u1VASk5cuaW",
        "outputId": "accedc1b-d4bc-4a4d-bff6-de188e123ee6",
        "colab": {
          "base_uri": "https://localhost:8080/"
        }
      },
      "execution_count": 15,
      "outputs": [
        {
          "output_type": "stream",
          "name": "stdout",
          "text": [
            "tp1(5812)─┬─tp1(5813)─┬─tp1(5816)\n",
            "          │           └─tp1(5817)\n",
            "          ├─tp1(5814)\n",
            "          └─tp1(5815)───tp1(5818)\n"
          ]
        }
      ]
    },
    {
      "cell_type": "markdown",
      "source": [
        "Utilizo el comando cat para poder mostrar el contenido del archivo salidaC, que es a donde se fueron redirigidos los print que realizan cada uno de los procesos. "
      ],
      "metadata": {
        "id": "sAr1Zlp2CAZ7"
      }
    },
    {
      "cell_type": "code",
      "source": [
        "!cat salidaC"
      ],
      "metadata": {
        "colab": {
          "base_uri": "https://localhost:8080/"
        },
        "id": "ZS-K6Dx5_vFJ",
        "outputId": "9793b42a-033e-4fa8-8351-7f2d7fd11ab9"
      },
      "execution_count": 16,
      "outputs": [
        {
          "output_type": "stream",
          "name": "stdout",
          "text": [
            "Soy el proceso A. Mi PID es 5812 y el PID de mi padre es 1\n",
            "Soy el proceso B. Mi PID es 5813 y el PID de mi padre es 5812\n",
            "Soy el proceso F. Mi PID es 5817 y el PID de mi padre es 5813\n",
            "Soy el proceso C. Mi PID es 5814 y el PID de mi padre es 5812\n",
            "Soy el proceso E. Mi PID es 5816 y el PID de mi padre es 5813\n",
            "Soy el proceso D. Mi PID es 5815 y el PID de mi padre es 5812\n",
            "Soy el proceso G. Mi PID es 5818 y el PID de mi padre es 5815\n"
          ]
        }
      ]
    }
  ]
}