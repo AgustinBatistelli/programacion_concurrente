{
  "nbformat": 4,
  "nbformat_minor": 0,
  "metadata": {
    "colab": {
      "provenance": [],
      "collapsed_sections": [
        "UhBSbagBjoSY",
        "rsQlpDdTkFfX"
      ],
      "include_colab_link": true
    },
    "kernelspec": {
      "name": "python3",
      "display_name": "Python 3"
    },
    "language_info": {
      "name": "python"
    }
  },
  "cells": [
    {
      "cell_type": "markdown",
      "metadata": {
        "id": "view-in-github",
        "colab_type": "text"
      },
      "source": [
        "<a href=\"https://colab.research.google.com/github/AgustinBatistelli/programacion_concurrente/blob/master/TP1_M2_Colab.ipynb\" target=\"_parent\"><img src=\"https://colab.research.google.com/assets/colab-badge.svg\" alt=\"Open In Colab\"/></a>"
      ]
    },
    {
      "cell_type": "markdown",
      "source": [
        "# TP1"
      ],
      "metadata": {
        "id": "U1LEkhKyzfTX"
      }
    },
    {
      "cell_type": "markdown",
      "source": [
        "Repositorio de codigo: [GitHub](https://github.com/AgustinBatistelli/programacion_concurrente)"
      ],
      "metadata": {
        "id": "QyPVNZILxoEQ"
      }
    },
    {
      "cell_type": "markdown",
      "source": [
        "## Parte 1"
      ],
      "metadata": {
        "id": "5pTq_VogsdfM"
      }
    },
    {
      "cell_type": "markdown",
      "source": [
        "### Implementación usando C++\n"
      ],
      "metadata": {
        "id": "UhBSbagBjoSY"
      }
    },
    {
      "cell_type": "markdown",
      "source": [
        "Escribo el archivo tp1.cpp con la lógica de mi programa."
      ],
      "metadata": {
        "id": "16iD1J8rARZ_"
      }
    },
    {
      "cell_type": "code",
      "source": [
        "%%writefile tp1.cpp\n",
        "#include <iostream>\n",
        "#include <string>\n",
        "#include <sys/wait.h>\n",
        "#include <unistd.h>\n",
        "\n",
        "#define HIJOS_DE_A 3\n",
        "#define HIJOS_DE_B 2\n",
        "#define HIJOS_DE_C 0\n",
        "#define HIJOS_DE_D 1\n",
        "#define HIJOS_DE_E HIJOS_DE_C\n",
        "#define HIJOS_DE_F HIJOS_DE_E\n",
        "#define HIJOS_DE_G HIJOS_DE_F\n",
        "\n",
        "#define PROCESO_B 0\n",
        "#define PROCESO_C 1\n",
        "#define PROCESO_E 0\n",
        "\n",
        "#define TIEMPO_DORMIDO 60\n",
        "#define INICIO_ITERADOR 0\n",
        "#define PROCESO_CREADO_CORRECTAMENTE 0\n",
        "#define PROCESO_SIN_HIJOS 0\n",
        "#define SALIDA_EXITOSA EXIT_SUCCESS\n",
        "#define SALIDA_ERRONEA EXIT_FAILURE\n",
        "\n",
        "bool procesoCreadoCorrectamente(pid_t pid);\n",
        "void esperarPorMisHijos(int numeroHijos);\n",
        "void mostrarMiInformacion(char letra, pid_t miPid, pid_t miParentPid);\n",
        "\n",
        "bool procesoCreadoCorrectamente(pid_t pid)\n",
        "{\n",
        "  return pid >= PROCESO_CREADO_CORRECTAMENTE;\n",
        "}\n",
        "\n",
        "void esperarPorMisHijos(int numeroHijos)\n",
        "{\n",
        "  for (int i = INICIO_ITERADOR; i < numeroHijos; i++)\n",
        "  {\n",
        "    wait(NULL);\n",
        "  }\n",
        "}\n",
        "\n",
        "void mostrarMiInformacion(char letra, pid_t miPid, pid_t miParentPid)\n",
        "{\n",
        "  std::cout<<\"Soy el proceso \"<<letra<<\". Mi PID es \"<<miPid<<\" y el PID de mi padre es \"<<miParentPid<<std::endl;\n",
        "}\n",
        "\n",
        "//Clase IProceso (simula una Interfaz)\n",
        "class IProceso \n",
        "{\n",
        "  protected:\n",
        "    pid_t miPid;\n",
        "    pid_t miPPid;\n",
        "    char letra;\n",
        "    int cantidadHijos;\n",
        "\n",
        "  public:\n",
        "    IProceso(pid_t pid, pid_t ppid, char caracter, int hijos) : miPid(pid), miPPid(ppid), letra(caracter), cantidadHijos(hijos) {}\n",
        "    virtual void realizarAccion() = SALIDA_EXITOSA;\n",
        "};\n",
        "\n",
        "//Procesos que tienen hijos y deben esperarlos\n",
        "class ProcesoConHijos : public IProceso \n",
        "{\n",
        "  public:\n",
        "    ProcesoConHijos(pid_t pid, pid_t ppid, char caracter, int hijos) : IProceso(pid, ppid, caracter, hijos) {}\n",
        "    void realizarAccion() override \n",
        "    {\n",
        "      mostrarMiInformacion(this->letra,this->miPid,this->miPPid);\n",
        "      esperarPorMisHijos(this->cantidadHijos);\n",
        "    }\n",
        "};\n",
        "\n",
        "//Procesos que no tienen hijos y deben hacer sleep\n",
        "class ProcesoSinHijos : public IProceso \n",
        "{\n",
        "  public:\n",
        "    ProcesoSinHijos(pid_t pid, pid_t ppid, char caracter, int hijos) : IProceso(pid, ppid, caracter, hijos) {}\n",
        "    void realizarAccion() override \n",
        "    {\n",
        "      mostrarMiInformacion(this->letra,this->miPid,this->miPPid);\n",
        "      sleep(TIEMPO_DORMIDO);\n",
        "    }\n",
        "};\n",
        "\n",
        "class ProcesoFabrica\n",
        "{\n",
        "  public:\n",
        "    IProceso* determinarTipoProceso(pid_t pid, pid_t ppid, char caracter, int hijos)\n",
        "    {\n",
        "      if (hijos > PROCESO_SIN_HIJOS)\n",
        "      {\n",
        "        proceso = new ProcesoConHijos(pid,ppid,caracter,hijos);\n",
        "      }\n",
        "      else\n",
        "      {\n",
        "        proceso = new ProcesoSinHijos(pid,ppid,caracter,hijos);\n",
        "      }\n",
        "      return proceso;\n",
        "    }\n",
        "  private:\n",
        "    IProceso* proceso;\n",
        "};\n",
        "\n",
        "int main(int argc, char *argv[])\n",
        "{\n",
        "  pid_t pidProcesoA, pidProcesoB, pidProcesoD;\n",
        "  ProcesoFabrica fabricaDeProcesos;\n",
        "\n",
        "  for (int i = INICIO_ITERADOR; i < HIJOS_DE_A; i++)\n",
        "  {\n",
        "    pidProcesoA = fork();\n",
        "    if (!procesoCreadoCorrectamente(pidProcesoA))\n",
        "    {\n",
        "      std::cout<<\"Se ha producido un error al crear un nuevo proceso\"<<std::endl;\n",
        "      return SALIDA_ERRONEA;\n",
        "    }\n",
        "    if (!pidProcesoA)\n",
        "    {\n",
        "      if (i == PROCESO_B)\n",
        "      {                \n",
        "        for (int j = INICIO_ITERADOR; j < HIJOS_DE_B; j++)\n",
        "        {\n",
        "          pidProcesoB = fork();\n",
        "          if (!procesoCreadoCorrectamente(pidProcesoB))\n",
        "          {\n",
        "            std::cout<<\"Se ha producido un error al crear un nuevo proceso\"<<std::endl;\n",
        "            return SALIDA_ERRONEA;\n",
        "          }\n",
        "          if (!pidProcesoB)\n",
        "          {\n",
        "            if (j == PROCESO_E)\n",
        "            {\n",
        "              IProceso* procesoE = fabricaDeProcesos.determinarTipoProceso(getpid(),getppid(),'E',HIJOS_DE_E);\n",
        "              procesoE->realizarAccion();\n",
        "              return SALIDA_EXITOSA;\n",
        "            }\n",
        "            else\n",
        "            {\n",
        "              IProceso* procesoF = fabricaDeProcesos.determinarTipoProceso(getpid(),getppid(),'F',HIJOS_DE_F);\n",
        "              procesoF->realizarAccion();\n",
        "              return SALIDA_EXITOSA;\n",
        "            }\n",
        "          }                \n",
        "        }\n",
        "        IProceso* procesoB = fabricaDeProcesos.determinarTipoProceso(getpid(),getppid(),'B',HIJOS_DE_B);\n",
        "        procesoB->realizarAccion();\n",
        "        return SALIDA_EXITOSA;\n",
        "      }\n",
        "      else\n",
        "      {\n",
        "        if (i == PROCESO_C)\n",
        "        {\n",
        "          IProceso* procesoC = fabricaDeProcesos.determinarTipoProceso(getpid(),getppid(),'C',HIJOS_DE_C);\n",
        "          procesoC->realizarAccion();\n",
        "          return SALIDA_EXITOSA;\n",
        "        }\n",
        "        else\n",
        "        {\n",
        "          pidProcesoD = fork();\n",
        "          if (!procesoCreadoCorrectamente(pidProcesoD))\n",
        "          {\n",
        "            std::cout<<\"Se ha producido un error al crear un nuevo proceso\"<<std::endl;\n",
        "            return SALIDA_ERRONEA;\n",
        "          }\n",
        "          if (!pidProcesoD)\n",
        "          {\n",
        "            IProceso* procesoG = fabricaDeProcesos.determinarTipoProceso(getpid(),getppid(),'G',HIJOS_DE_G);\n",
        "            procesoG->realizarAccion();\n",
        "            return SALIDA_EXITOSA;\n",
        "          }\n",
        "          IProceso* procesoD = fabricaDeProcesos.determinarTipoProceso(getpid(),getppid(),'D',HIJOS_DE_D);\n",
        "          procesoD->realizarAccion();\n",
        "          return SALIDA_EXITOSA;\n",
        "        }\n",
        "      }    \n",
        "    }\n",
        "  }\n",
        "  IProceso* procesoA = fabricaDeProcesos.determinarTipoProceso(getpid(),getppid(),'A',HIJOS_DE_A);\n",
        "  procesoA->realizarAccion();\n",
        "  return SALIDA_EXITOSA;\n",
        "}"
      ],
      "metadata": {
        "id": "13GGcy-icEGR",
        "outputId": "4c79357b-c365-488c-e5ea-6008b1dcd4b3",
        "colab": {
          "base_uri": "https://localhost:8080/"
        }
      },
      "execution_count": null,
      "outputs": [
        {
          "output_type": "stream",
          "name": "stdout",
          "text": [
            "Writing tp1.cpp\n"
          ]
        }
      ]
    },
    {
      "cell_type": "markdown",
      "source": [
        "Listo los archivos para ver que el archivo tp1.cpp esté creado correctamente."
      ],
      "metadata": {
        "id": "LA2_r0WJBMPX"
      }
    },
    {
      "cell_type": "code",
      "source": [
        "!ls -la"
      ],
      "metadata": {
        "id": "n2pCIs8wcaUV",
        "outputId": "4e83e947-ccb2-4587-d5b0-760f5988768d",
        "colab": {
          "base_uri": "https://localhost:8080/"
        }
      },
      "execution_count": null,
      "outputs": [
        {
          "output_type": "stream",
          "name": "stdout",
          "text": [
            "total 24\n",
            "drwxr-xr-x 1 root root 4096 Apr  9 20:42 .\n",
            "drwxr-xr-x 1 root root 4096 Apr  9 20:42 ..\n",
            "drwxr-xr-x 4 root root 4096 Apr  6 13:38 .config\n",
            "drwxr-xr-x 1 root root 4096 Apr  6 13:39 sample_data\n",
            "-rw-r--r-- 1 root root 5158 Apr  9 20:42 tp1.cpp\n"
          ]
        }
      ]
    },
    {
      "cell_type": "markdown",
      "source": [
        "Compilo el archivo tp1.cpp para obtener un archivo a ejecutar. "
      ],
      "metadata": {
        "id": "hmneQfLXBRTF"
      }
    },
    {
      "cell_type": "code",
      "source": [
        "!g++ -std=c++11 -o tp1 tp1.cpp"
      ],
      "metadata": {
        "id": "us0x146acc28"
      },
      "execution_count": null,
      "outputs": []
    },
    {
      "cell_type": "markdown",
      "source": [
        "Listo los archivos nuevamente para verificar que tengo el ejecutable del proceso. "
      ],
      "metadata": {
        "id": "IRuK5rzhBZpZ"
      }
    },
    {
      "cell_type": "code",
      "source": [
        "!ls -la"
      ],
      "metadata": {
        "id": "AkkgY7tQcj9R",
        "outputId": "ba3556e8-de26-4472-d7d6-18f8fa0fb060",
        "colab": {
          "base_uri": "https://localhost:8080/"
        }
      },
      "execution_count": null,
      "outputs": [
        {
          "output_type": "stream",
          "name": "stdout",
          "text": [
            "total 44\n",
            "drwxr-xr-x 1 root root  4096 Apr  9 20:43 .\n",
            "drwxr-xr-x 1 root root  4096 Apr  9 20:42 ..\n",
            "drwxr-xr-x 4 root root  4096 Apr  6 13:38 .config\n",
            "drwxr-xr-x 1 root root  4096 Apr  6 13:39 sample_data\n",
            "-rwxr-xr-x 1 root root 19112 Apr  9 20:43 tp1\n",
            "-rw-r--r-- 1 root root  5158 Apr  9 20:42 tp1.cpp\n"
          ]
        }
      ]
    },
    {
      "cell_type": "markdown",
      "source": [
        "Ejecuto el proceso en segundo plano. "
      ],
      "metadata": {
        "id": "otYF_e8aBgTf"
      }
    },
    {
      "cell_type": "code",
      "source": [
        "!nohup ./tp1 1>salidaC 2>/dev/null & "
      ],
      "metadata": {
        "id": "l1xzCnb1cnvM"
      },
      "execution_count": null,
      "outputs": []
    },
    {
      "cell_type": "markdown",
      "source": [
        "Obtengo los procesos que se crearon al ejecutar el programa."
      ],
      "metadata": {
        "id": "fc0wCu1zBzk-"
      }
    },
    {
      "cell_type": "code",
      "source": [
        "!ps -ef | grep tp1"
      ],
      "metadata": {
        "id": "2QyVdFDucn25",
        "outputId": "51089acc-894b-4e5c-d92d-630182e54ef8",
        "colab": {
          "base_uri": "https://localhost:8080/"
        }
      },
      "execution_count": null,
      "outputs": [
        {
          "output_type": "stream",
          "name": "stdout",
          "text": [
            "root         416       1  0 20:43 ?        00:00:00 ./tp1\n",
            "root         417     416  0 20:43 ?        00:00:00 ./tp1\n",
            "root         418     416  0 20:43 ?        00:00:00 ./tp1\n",
            "root         419     416  0 20:43 ?        00:00:00 ./tp1\n",
            "root         420     419  0 20:43 ?        00:00:00 ./tp1\n",
            "root         421     417  0 20:43 ?        00:00:00 ./tp1\n",
            "root         422     417  0 20:43 ?        00:00:00 ./tp1\n",
            "root         427     153  0 20:43 ?        00:00:00 /bin/bash -c ps -ef | grep tp1\n",
            "root         429     427  0 20:43 ?        00:00:00 grep tp1\n"
          ]
        }
      ]
    },
    {
      "cell_type": "markdown",
      "source": [
        "Obtengo el árbol de procesos que nace a partir del proceso padre (A)"
      ],
      "metadata": {
        "id": "faBYdDPAB8Tx"
      }
    },
    {
      "cell_type": "code",
      "source": [
        "!pstree -p 416"
      ],
      "metadata": {
        "id": "8u1VASk5cuaW",
        "outputId": "9dcd515d-08b5-4fc2-e12d-e8eddfc7e407",
        "colab": {
          "base_uri": "https://localhost:8080/"
        }
      },
      "execution_count": null,
      "outputs": [
        {
          "output_type": "stream",
          "name": "stdout",
          "text": [
            "tp1(416)─┬─tp1(417)─┬─tp1(421)\n",
            "         │          └─tp1(422)\n",
            "         ├─tp1(418)\n",
            "         └─tp1(419)───tp1(420)\n"
          ]
        }
      ]
    },
    {
      "cell_type": "markdown",
      "source": [
        "Imprimo la salida de pantalla de cada proceso. "
      ],
      "metadata": {
        "id": "sAr1Zlp2CAZ7"
      }
    },
    {
      "cell_type": "code",
      "source": [
        "!cat salidaC"
      ],
      "metadata": {
        "colab": {
          "base_uri": "https://localhost:8080/"
        },
        "id": "ZS-K6Dx5_vFJ",
        "outputId": "4a367cca-1b92-46e6-fa85-c0d8a9f1c6c5"
      },
      "execution_count": null,
      "outputs": [
        {
          "output_type": "stream",
          "name": "stdout",
          "text": [
            "Soy el proceso A. Mi PID es 416 y el PID de mi padre es 1\n",
            "Soy el proceso D. Mi PID es 419 y el PID de mi padre es 416\n",
            "Soy el proceso B. Mi PID es 417 y el PID de mi padre es 416\n",
            "Soy el proceso E. Mi PID es 421 y el PID de mi padre es 417\n",
            "Soy el proceso C. Mi PID es 418 y el PID de mi padre es 416\n",
            "Soy el proceso G. Mi PID es 420 y el PID de mi padre es 419\n",
            "Soy el proceso F. Mi PID es 422 y el PID de mi padre es 417\n"
          ]
        }
      ]
    },
    {
      "cell_type": "markdown",
      "source": [
        "### Implementacion usando Python"
      ],
      "metadata": {
        "id": "rsQlpDdTkFfX"
      }
    },
    {
      "cell_type": "markdown",
      "source": [
        "Escribo el archivo fork.py con la logica del programa"
      ],
      "metadata": {
        "id": "qwKWQeyCohK4"
      }
    },
    {
      "cell_type": "code",
      "execution_count": null,
      "metadata": {
        "colab": {
          "base_uri": "https://localhost:8080/"
        },
        "id": "77B0w4e3e2Nz",
        "outputId": "a577087a-7aa3-48e8-b8a0-7a1863b9a009"
      },
      "outputs": [
        {
          "output_type": "stream",
          "name": "stdout",
          "text": [
            "Overwriting fork.py\n"
          ]
        }
      ],
      "source": [
        "%%writefile fork.py\n",
        "#!/usr/bin/env python3\n",
        "\n",
        "\n",
        "import os\n",
        "import time\n",
        "\n",
        "def parent():\n",
        "    \n",
        "    info(\"A\", os.getpid(), os.getppid())\n",
        "    hijos_a = [\"B\", \"C\", \"D\"]\n",
        "    hijos_b = [\"E\", \"F\"]\n",
        "    \n",
        "    pid_hijos_a = []\n",
        "    pid_hijos_b = []\n",
        "    \n",
        "    for hijo_a in hijos_a:\n",
        "        pid_a = os.fork()\n",
        "        \n",
        "        if pid_a < 0:\n",
        "            print(\"Error al crear el nuevo proceso \", hijo_a)\n",
        "            os._exit(1)\n",
        "        \n",
        "        \n",
        "        if pid_a == 0:\n",
        "            if hijo_a == \"B\":\n",
        "                info(hijo_a, os.getpid(), os.getppid())\n",
        "                for hijo_b in hijos_b:\n",
        "                    pid_b = os.fork()\n",
        "                    if pid_b < 0:\n",
        "                        print(\"Error al crear el nuevo proceso \", hijo_b)\n",
        "                        os.exit(1)\n",
        "                        \n",
        "                    if pid_b == 0:\n",
        "                        info(hijo_b, os.getpid(), os.getppid())\n",
        "                        time.sleep(100)\n",
        "                        os._exit(0)\n",
        "                    else:\n",
        "                        pid_hijos_b.append(pid_b);\n",
        "                for pid_hijo_b in pid_hijos_b:\n",
        "                    os.waitpid(pid_hijo_b,0)\n",
        "                os._exit(0)\n",
        "            if hijo_a == \"C\":\n",
        "                info(hijo_a, os.getpid(), os.getppid())\n",
        "                time.sleep(100)\n",
        "                os._exit(0)\n",
        "            else:\n",
        "                info(hijo_a, os.getpid(), os.getppid())\n",
        "                pid_d = os.fork()\n",
        "                if pid_d < 0:\n",
        "                    print(\"Error al crear el nuevo proceso \", hijo_a)\n",
        "                    os.exit(1)\n",
        "                if pid_d == 0:\n",
        "                    info(\"G\", os.getpid(), os.getppid())\n",
        "                    time.sleep(100)\n",
        "                    os._exit(0)\n",
        "                else:\n",
        "                    os.wait()\n",
        "                os._exit(0)\n",
        "        else:\n",
        "            pid_hijos_a.append(pid_a)\n",
        "                \n",
        "    for pid_hijo_a in pid_hijos_a:\n",
        "        os.waitpid(pid_hijo_a,0)\n",
        "        \n",
        "    os._exit(0)\n",
        "\n",
        "def info(nombre_proceso, pid, ppid):\n",
        "    print(\"Proceso \", nombre_proceso , \" con PID: \", pid, \" y PID de padre: \", ppid)\n",
        "    \n",
        "parent()"
      ]
    },
    {
      "cell_type": "markdown",
      "source": [
        "Ejecutamos el programa en segundo plano"
      ],
      "metadata": {
        "id": "jxFXs040onLH"
      }
    },
    {
      "cell_type": "code",
      "source": [
        "!nohup python fork.py 1>salidaPython 2>/dev/null &"
      ],
      "metadata": {
        "id": "TDs2yk5H31wL"
      },
      "execution_count": null,
      "outputs": []
    },
    {
      "cell_type": "markdown",
      "source": [
        "Buscamos con ps el proceso que esta ejecutando nuestro programa"
      ],
      "metadata": {
        "id": "K7QXTEZ3orHY"
      }
    },
    {
      "cell_type": "code",
      "source": [
        "!ps -ef | grep fork.py\n"
      ],
      "metadata": {
        "colab": {
          "base_uri": "https://localhost:8080/"
        },
        "id": "o-AH6WJGeo94",
        "outputId": "5ebc38c3-0bae-40dc-b9a5-5e8fbd09748a"
      },
      "execution_count": null,
      "outputs": [
        {
          "output_type": "stream",
          "name": "stdout",
          "text": [
            "root        8768       1  0 18:53 ?        00:00:00 python3 fork.py\n",
            "root        8772    8768  0 18:53 ?        00:00:00 python3 fork.py\n",
            "root        8773    8772  0 18:53 ?        00:00:00 python3 fork.py\n",
            "root        9198       1  0 18:55 ?        00:00:00 python3 fork.py\n",
            "root        9200    9198  0 18:55 ?        00:00:00 python3 fork.py\n",
            "root        9201    9198  0 18:55 ?        00:00:00 python3 fork.py\n",
            "root        9202    9198  0 18:55 ?        00:00:00 python3 fork.py\n",
            "root        9203    9200  0 18:55 ?        00:00:00 python3 fork.py\n",
            "root        9204    9200  0 18:55 ?        00:00:00 python3 fork.py\n",
            "root        9205    9202  0 18:55 ?        00:00:00 python3 fork.py\n",
            "root        9220     158  0 18:55 ?        00:00:00 /bin/bash -c ps -ef | grep fork.py\n",
            "root        9222    9220  0 18:55 ?        00:00:00 grep fork.py\n"
          ]
        }
      ]
    },
    {
      "cell_type": "markdown",
      "source": [
        "Mostramos el árbol de procesos que se generó"
      ],
      "metadata": {
        "id": "Qgfo2I_Io8un"
      }
    },
    {
      "cell_type": "code",
      "source": [
        "!pstree -pc 9198        "
      ],
      "metadata": {
        "colab": {
          "base_uri": "https://localhost:8080/"
        },
        "id": "Uv_ReTVE38Kh",
        "outputId": "971d9d99-caa4-4e1d-a906-729063a6763c"
      },
      "execution_count": null,
      "outputs": [
        {
          "output_type": "stream",
          "name": "stdout",
          "text": [
            "python3(9198)─┬─python3(9200)─┬─python3(9203)\n",
            "              │               └─python3(9204)\n",
            "              ├─python3(9201)\n",
            "              └─python3(9202)───python3(9205)\n"
          ]
        }
      ]
    },
    {
      "cell_type": "markdown",
      "source": [
        "Mostrar la salida del proceso ejecutandolo nuevamente"
      ],
      "metadata": {
        "id": "b-oU0nj8q8uo"
      }
    },
    {
      "cell_type": "code",
      "source": [
        "!python fork.py"
      ],
      "metadata": {
        "colab": {
          "base_uri": "https://localhost:8080/"
        },
        "id": "ocNn1m-rTwB7",
        "outputId": "088a612a-a6b6-4cc4-c14b-f0287cc3c290"
      },
      "execution_count": null,
      "outputs": [
        {
          "output_type": "stream",
          "name": "stdout",
          "text": [
            "Proceso  A  con PID:  8070  y PID de padre:  158\n",
            "Proceso  B  con PID:  8072  y PID de padre:  8070\n",
            "Proceso  D  con PID:  8074  y PID de padre:  8070\n",
            "Proceso  F  con PID:  8076  y PID de padre:  8072\n",
            "Proceso  C  con PID:  8073  y PID de padre:  8070\n",
            "Proceso  E  con PID:  8075  y PID de padre:  8072\n",
            "Proceso  G  con PID:  8077  y PID de padre:  8074\n"
          ]
        }
      ]
    },
    {
      "cell_type": "markdown",
      "source": [
        "### Implementacion usando JAVA"
      ],
      "metadata": {
        "id": "oRPDbuLkkKbv"
      }
    },
    {
      "cell_type": "markdown",
      "source": [
        "Descargar la libreria gson para java."
      ],
      "metadata": {
        "id": "WQXG7OL9uox_"
      }
    },
    {
      "cell_type": "code",
      "source": [
        "!curl https://repo1.maven.org/maven2/com/google/code/gson/gson/2.10.1/gson-2.10.1.jar --output \"gson-2.10.1.jar\""
      ],
      "metadata": {
        "colab": {
          "base_uri": "https://localhost:8080/"
        },
        "id": "2TXz37y8aqu7",
        "outputId": "081aa146-829f-4d0e-f702-4dc77c498d4e"
      },
      "execution_count": null,
      "outputs": [
        {
          "output_type": "stream",
          "name": "stdout",
          "text": [
            "  % Total    % Received % Xferd  Average Speed   Time    Time     Time  Current\n",
            "                                 Dload  Upload   Total   Spent    Left  Speed\n",
            "\r  0     0    0     0    0     0      0      0 --:--:-- --:--:-- --:--:--     0\r100  276k  100  276k    0     0  6289k      0 --:--:-- --:--:-- --:--:-- 6289k\n"
          ]
        }
      ]
    },
    {
      "cell_type": "markdown",
      "source": [
        "Validar la descarga de la libreria"
      ],
      "metadata": {
        "id": "pxkQlLvQuphr"
      }
    },
    {
      "cell_type": "code",
      "source": [
        "!ls -lash"
      ],
      "metadata": {
        "id": "geyZQ7smazLo",
        "colab": {
          "base_uri": "https://localhost:8080/"
        },
        "outputId": "77e466d6-0949-4217-f8fe-9b96c83589b9"
      },
      "execution_count": null,
      "outputs": [
        {
          "output_type": "stream",
          "name": "stdout",
          "text": [
            "total 300K\n",
            "4.0K drwxr-xr-x 1 root root 4.0K Apr 12 04:13 .\n",
            "4.0K drwxr-xr-x 1 root root 4.0K Apr 12 04:08 ..\n",
            "4.0K drwxr-xr-x 4 root root 4.0K Apr 10 13:30 .config\n",
            "280K -rw-r--r-- 1 root root 277K Apr 12 04:13 gson-2.10.1.jar\n",
            "4.0K -rw-r--r-- 1 root root 3.2K Apr 12 04:09 ProcessStuff.java\n",
            "4.0K drwxr-xr-x 1 root root 4.0K Apr 10 13:31 sample_data\n"
          ]
        }
      ]
    },
    {
      "cell_type": "markdown",
      "source": [
        "Generar el archivo con datos de entrada."
      ],
      "metadata": {
        "id": "oKFB4iYXus_M"
      }
    },
    {
      "cell_type": "code",
      "source": [
        "!echo '{\"A\":[\"B\",\"C\",\"D\"],\"B\":[\"E\",\"F\"],\"D\":[\"G\"]}' > data.json"
      ],
      "metadata": {
        "id": "5s0aYZa8Ubdo"
      },
      "execution_count": null,
      "outputs": []
    },
    {
      "cell_type": "markdown",
      "source": [
        "Generar el archivo con el programa necesario."
      ],
      "metadata": {
        "id": "A9ZRM8pCu2Uv"
      }
    },
    {
      "cell_type": "code",
      "source": [
        "%%writefile ProcessStuff.java\n",
        "import com.google.gson.Gson;\n",
        "import com.google.gson.reflect.TypeToken;\n",
        "import java.lang.reflect.Type;\n",
        "import java.io.StringReader;\n",
        "import java.io.PrintWriter;\n",
        "import java.io.FileOutputStream;\n",
        "import java.io.IOException;\n",
        "import java.nio.file.Files;\n",
        "import java.nio.file.FileSystems;\n",
        "import java.nio.file.FileSystem;\n",
        "import java.util.*;\n",
        "\n",
        "public class ProcessStuff {\n",
        "    public static void main(String[] args) {\n",
        "        String self = \"\";\n",
        "        if (args.length == 0) {\n",
        "          self = \"A\";\n",
        "        } else {\n",
        "          self = String.valueOf(args[0]);\n",
        "        }\n",
        "        Gson gson = new Gson();\n",
        "        Type customType = new TypeToken<HashMap<String, ArrayList<String>>>() {}.getType();\n",
        "        HashMap<String, ArrayList<String>> dataMap = gson.fromJson(getFileData(DATA_FILE_NAME), customType); \n",
        "        \n",
        "        info(self);\n",
        "\n",
        "        ArrayList<Process> children = spawnChildren(dataMap, self);\n",
        "        for(Process child : children) {\n",
        "            try {\n",
        "              child.waitFor();\n",
        "            } catch (InterruptedException e) {\n",
        "              System.err.println(\"Can spawn no more, we've been interrupted.\");\n",
        "            }\n",
        "        }\n",
        "        try {\n",
        "          Thread.sleep(5000);\n",
        "        } catch (InterruptedException e) {\n",
        "          System.err.println(\"Can spawn no more, we've been interrupted.\");\n",
        "        }\n",
        "    }\n",
        "\n",
        "    public static String getFileData(String fileName) {\n",
        "        String data = \"\";\n",
        "        try {\n",
        "            data = String.join(\"\", Files.readAllLines(FileSystems.getDefault().getPath(fileName)));\n",
        "        } catch (NullPointerException e) {\n",
        "            e.printStackTrace();\n",
        "        } catch (IOException e) {\n",
        "            System.err.println(\"Couldn't read the file \" + fileName);\n",
        "            e.printStackTrace();\n",
        "        }\n",
        "        return data;\n",
        "    }\n",
        "\n",
        "    public synchronized static void info(String self) {\n",
        "        ProcessHandle selfProcessHandle = ProcessHandle.current();\n",
        "        try (\n",
        "            PrintWriter out = new PrintWriter(new FileOutputStream(OUT, true), true);\n",
        "        ) {\n",
        "            out.print(\"I am: \" + self + \". \");\n",
        "            out.print(\"My PID is: \" + selfProcessHandle.pid() + \". \");\n",
        "            out.print(\"My PPID is: \" + selfProcessHandle.parent().get().pid() + \".\\n\");\n",
        "            out.flush();\n",
        "        } catch (IOException e) {\n",
        "            System.err.println(\"Couldn't open file: \" + OUT);\n",
        "            e.printStackTrace();\n",
        "        } catch (NoSuchElementException e) {\n",
        "            System.err.println(\"So sorry, I've no parent: \" + OUT);\n",
        "            e.printStackTrace();\n",
        "        }\n",
        "    }\n",
        "\n",
        "    public static ArrayList<Process> spawnChildren(HashMap<String, ArrayList<String>> dataMap, String self) {\n",
        "        ArrayList<Process> children = new ArrayList<>();\n",
        "        if (dataMap.keySet().contains(self)) {\n",
        "            for(String childValue : dataMap.get(self)) {\n",
        "              try {\n",
        "                children.add(new ProcessBuilder(\"java\", \"-cp\", \".:gson-2.10.1.jar:gson-2.10.1.jar:\", \"ProcessStuff\", childValue, \"1>salidaJava\", \"2>errors\").start());\n",
        "              } catch (IOException e) {\n",
        "                System.err.println(\"Couldn't spawn new process:  \" + childValue);\n",
        "              }\n",
        "            }\n",
        "        }\n",
        "        return children;\n",
        "    }\n",
        "\n",
        "    final static String DATA_FILE_NAME = \"data.json\";\n",
        "    final static String OUT = \"miSalidaJava\";\n",
        "}"
      ],
      "metadata": {
        "colab": {
          "base_uri": "https://localhost:8080/"
        },
        "id": "0F5Jh3UN24xU",
        "outputId": "e9255701-c2c0-4ce4-b296-a74aa538c91a"
      },
      "execution_count": null,
      "outputs": [
        {
          "output_type": "stream",
          "name": "stdout",
          "text": [
            "Overwriting ProcessStuff.java\n"
          ]
        }
      ]
    },
    {
      "cell_type": "markdown",
      "source": [
        "Compilar el programa junto con la libreria gson."
      ],
      "metadata": {
        "id": "ktkHzwbyu_JY"
      }
    },
    {
      "cell_type": "code",
      "source": [
        "!javac -cp .:gson-2.10.1.jar:gson-2.10.1.jar: ProcessStuff.java"
      ],
      "metadata": {
        "id": "1vihDcwDbDxy"
      },
      "execution_count": null,
      "outputs": []
    },
    {
      "cell_type": "markdown",
      "source": [
        "Ejecutar el programa en segundo plano."
      ],
      "metadata": {
        "id": "74HfVG0EvHsh"
      }
    },
    {
      "cell_type": "code",
      "source": [
        "!nohup java -cp .:gson-2.10.1.jar:gson-2.10.1.jar: ProcessStuff 1>salidaJava 2>errors &  "
      ],
      "metadata": {
        "id": "hou-e5fEhSKr"
      },
      "execution_count": null,
      "outputs": []
    },
    {
      "cell_type": "code",
      "source": [
        "!ps -ef | grep java"
      ],
      "metadata": {
        "colab": {
          "base_uri": "https://localhost:8080/"
        },
        "id": "5M2bcRxzhcVU",
        "outputId": "a596c98a-ce6c-4aca-ca9d-503e1c10a02c"
      },
      "execution_count": null,
      "outputs": [
        {
          "output_type": "stream",
          "name": "stdout",
          "text": [
            "root        1546       1  6 04:13 ?        00:00:00 java -cp .:gson-2.10.1.jar:gson-2.10.1.jar: ProcessStuff\n",
            "root        1567    1546 10 04:13 ?        00:00:00 java -cp .:gson-2.10.1.jar:gson-2.10.1.jar: ProcessStuff B 1>salidaJava 2>errors\n",
            "root        1570    1546 10 04:13 ?        00:00:00 java -cp .:gson-2.10.1.jar:gson-2.10.1.jar: ProcessStuff C 1>salidaJava 2>errors\n",
            "root        1573    1546 10 04:13 ?        00:00:00 java -cp .:gson-2.10.1.jar:gson-2.10.1.jar: ProcessStuff D 1>salidaJava 2>errors\n",
            "root        1621    1573  9 04:13 ?        00:00:00 java -cp .:gson-2.10.1.jar:gson-2.10.1.jar: ProcessStuff G 1>salidaJava 2>errors\n",
            "root        1623    1567 10 04:13 ?        00:00:00 java -cp .:gson-2.10.1.jar:gson-2.10.1.jar: ProcessStuff E 1>salidaJava 2>errors\n",
            "root        1636    1567  9 04:13 ?        00:00:00 java -cp .:gson-2.10.1.jar:gson-2.10.1.jar: ProcessStuff F 1>salidaJava 2>errors\n",
            "root        1687     378  0 04:13 ?        00:00:00 /bin/bash -c ps -ef | grep java\n",
            "root        1689    1687  0 04:13 ?        00:00:00 grep java\n"
          ]
        }
      ]
    },
    {
      "cell_type": "markdown",
      "source": [
        "Mostrar el arbol de procesos generado"
      ],
      "metadata": {
        "id": "VEfyblxpwaeY"
      }
    },
    {
      "cell_type": "code",
      "source": [
        "!pstree -pcT \"$(eval ps -eo pid,ppid,args | awk '$NF ~ /ProcessStuff/ && $2 == 1 {print $1}')\"                              "
      ],
      "metadata": {
        "id": "SJKE_aoZt6Zn",
        "colab": {
          "base_uri": "https://localhost:8080/"
        },
        "outputId": "16431c32-5d73-41ee-8328-6fdfb2a3296b"
      },
      "execution_count": null,
      "outputs": [
        {
          "output_type": "stream",
          "name": "stdout",
          "text": [
            "java(12329)─┬─java(12350)─┬─java(12404)\n",
            "            │             └─java(12409)\n",
            "            ├─java(12352)\n",
            "            └─java(12355)───java(12440)\n"
          ]
        }
      ]
    },
    {
      "cell_type": "markdown",
      "source": [
        "Mostrar resultado del archivo de salida del proceso"
      ],
      "metadata": {
        "id": "Aw16AntNwXpf"
      }
    },
    {
      "cell_type": "code",
      "source": [
        "!cat miSalidaJava"
      ],
      "metadata": {
        "colab": {
          "base_uri": "https://localhost:8080/"
        },
        "id": "Q4B58AJae2kY",
        "outputId": "65abda19-07b7-48c8-a0fb-cea5e10c9f19"
      },
      "execution_count": null,
      "outputs": [
        {
          "output_type": "stream",
          "name": "stdout",
          "text": [
            "I am: A. My PID is: 1546. My PPID is: 1.\n",
            "I am: D. My PID is: 1573. My PPID is: 1546.\n",
            "I am: C. My PID is: 1570. My PPID is: 1546.\n",
            "I am: B. My PID is: 1567. My PPID is: 1546.\n",
            "I am: E. My PID is: 1623. My PPID is: 1567.\n",
            "I am: F. My PID is: 1636. My PPID is: 1567.\n",
            "I am: G. My PID is: 1621. My PPID is: 1573.\n"
          ]
        }
      ]
    },
    {
      "cell_type": "markdown",
      "source": [
        "Borrar el archivo, en caso de volver a ejecutar."
      ],
      "metadata": {
        "id": "a8Dzn-D-wQeE"
      }
    },
    {
      "cell_type": "code",
      "source": [
        "!rm miSalidaJava"
      ],
      "metadata": {
        "id": "ZCJ1cgh4vzQ9"
      },
      "execution_count": null,
      "outputs": []
    },
    {
      "cell_type": "markdown",
      "source": [
        "## Parte 2"
      ],
      "metadata": {
        "id": "rffXc0gxsnky"
      }
    },
    {
      "cell_type": "markdown",
      "source": [
        "## Parte 3"
      ],
      "metadata": {
        "id": "JU3g_Cs5srY5"
      }
    },
    {
      "cell_type": "markdown",
      "source": [
        "## Parte 4"
      ],
      "metadata": {
        "id": "ic60b3aqsu5E"
      }
    }
  ]
}