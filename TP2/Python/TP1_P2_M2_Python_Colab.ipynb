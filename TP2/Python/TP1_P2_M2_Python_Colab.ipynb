{
  "nbformat": 4,
  "nbformat_minor": 0,
  "metadata": {
    "colab": {
      "provenance": [],
      "include_colab_link": true
    },
    "kernelspec": {
      "name": "python3",
      "display_name": "Python 3"
    },
    "language_info": {
      "name": "python"
    }
  },
  "cells": [
    {
      "cell_type": "markdown",
      "metadata": {
        "id": "view-in-github",
        "colab_type": "text"
      },
      "source": [
        "<a href=\"https://colab.research.google.com/github/AgustinBatistelli/programacion_concurrente/blob/master/TP2/Python/TP1_P2_M2_Python_Colab.ipynb\" target=\"_parent\"><img src=\"https://colab.research.google.com/assets/colab-badge.svg\" alt=\"Open In Colab\"/></a>"
      ]
    },
    {
      "cell_type": "markdown",
      "source": [
        "Se usa el comando writefile para crear el archivo TP1_P2.py para ejecutarlo luego."
      ],
      "metadata": {
        "id": "2g2ic2H-0o2o"
      }
    },
    {
      "cell_type": "code",
      "execution_count": null,
      "metadata": {
        "colab": {
          "base_uri": "https://localhost:8080/"
        },
        "id": "pHncVz7AmeXh",
        "outputId": "7a4d3f78-2d59-4d75-9596-fcf4808bcde9"
      },
      "outputs": [
        {
          "output_type": "stream",
          "name": "stdout",
          "text": [
            "Writing TP1_P2.py\n"
          ]
        }
      ],
      "source": [
        "%%writefile TP1_P2.py\n",
        "#!/usr/bin/env python3\n",
        "\n",
        "import os\n",
        "import sys\n",
        "import random\n",
        "import threading\n",
        "import time\n",
        "\n",
        "\n",
        "PARAMETROS_CORRECTOS = 2\n",
        "RANGO_MINIMO = 5\n",
        "RANGO_MAXIMO = 20\n",
        "VALOR_ALEATORIO_MAXIMO = 32\n",
        "VALOR_ALEATORIO_MINIMO = -32\n",
        "HILOS = []\n",
        "\n",
        "class MatricesHilos:\n",
        "\tmatrizA = [];\n",
        "\tmatrizB = [];\n",
        "\tmatrizCS = [];\n",
        "\tmatrizCH = [];\n",
        "\t\n",
        "matricesHilos = MatricesHilos();\n",
        "\n",
        "def main():\n",
        "\n",
        "\tif cantidadCorrectaDeParametros(len(sys.argv)) == False:\n",
        "\t\tprint(\"No ingreso la cantidad correcta de parametros. Solo debe ingresar el valor de N\");\n",
        "\t\tos._exit(1);\n",
        "\t\n",
        "\tparametro = sys.argv[1];\n",
        "\t\n",
        "\tif parametro.isnumeric() == False:\n",
        "\t\tprint(\"Formato de parametro incorrecto. El parametro ingresado debe ser un numero.\");\n",
        "\t\tos._exit(1);\n",
        "\t\t\n",
        "\ttamanio = int(parametro);\n",
        "\t\n",
        "\tif rangoValidoDeN(tamanio,RANGO_MINIMO,RANGO_MAXIMO) == False:\n",
        "\t\tprint(\"El rango de N debe estar entre 5 y 20\");\n",
        "\t\tos._exit(1);\n",
        "\n",
        "\tllenarEstructura(tamanio);\n",
        "\tllenarMatricesAleatorio();\n",
        "\tmultiplicarMatricesSecuencial();\n",
        "\tmultiplicarMatricesConHilos();\n",
        "\tfor hilo in HILOS:\n",
        "\t\thilo.join();\n",
        "\tmostrarMatrices();\n",
        "\tcompararMatricesResultado();\n",
        "\tos._exit(0);\n",
        "\t\n",
        "def cantidadCorrectaDeParametros(parametrosRecibidos):\n",
        "\treturn parametrosRecibidos == PARAMETROS_CORRECTOS;\n",
        "  \n",
        "def rangoValidoDeN(valor, valorMinimo, valorMaximo):\n",
        "\treturn valor >= valorMinimo and valor <= valorMaximo;\n",
        "\n",
        "def llenarEstructura(tamanio):\n",
        "\tmatricesHilos.matrizA = crearMatriz(tamanio);\n",
        "\tmatricesHilos.matrizB = crearMatriz(tamanio);\n",
        "\tmatricesHilos.matrizCS = crearMatriz(tamanio);\n",
        "\tmatricesHilos.matrizCH = crearMatriz(tamanio);\n",
        "\tmatricesHilos.tamanioDeMatriz = tamanio;\n",
        "\treturn matricesHilos;\n",
        "\n",
        "def crearMatriz(tamanioMatriz):\n",
        "\tmatriz = [];\n",
        "\tfor i in range(tamanioMatriz):\n",
        "\t\tmatriz.append([]);\n",
        "\t\tfor j in range(tamanioMatriz):\n",
        "\t\t\tmatriz[i].append(0);\n",
        "\treturn matriz;\n",
        " \n",
        "def llenarMatricesAleatorio():\n",
        "\tfor i in range(matricesHilos.tamanioDeMatriz):\n",
        "\t\tfor j in range(matricesHilos.tamanioDeMatriz):\n",
        "\t\t\tmatricesHilos.matrizA[i][j] = random.randrange(VALOR_ALEATORIO_MINIMO, VALOR_ALEATORIO_MAXIMO + 1);\n",
        "\t\t\tmatricesHilos.matrizB[i][j] = random.randrange(VALOR_ALEATORIO_MINIMO, VALOR_ALEATORIO_MAXIMO + 1);\n",
        "\n",
        "\n",
        "def multiplicarMatricesSecuencial():\n",
        "\tfor i in range(matricesHilos.tamanioDeMatriz):\n",
        "\t\tfor j in range(matricesHilos.tamanioDeMatriz):\n",
        "\t\t\tmatricesHilos.matrizCS[i][j] = 0;\n",
        "\t\t\tfor k in range(matricesHilos.tamanioDeMatriz):\n",
        "\t\t\t\tmatricesHilos.matrizCS[i][j] += matricesHilos.matrizA[i][k] * matricesHilos.matrizB[k][j];\n",
        "\n",
        "def multiplicarMatricesConHilos():\n",
        "\t\n",
        "\tfor i in range(matricesHilos.tamanioDeMatriz):\n",
        "\t\tthread = threading.Thread(target=funcionEjecutadaPorHilo, args=(matricesHilos, i));\n",
        "\t\tthread.start();\n",
        "\t\tHILOS.append(thread);\n",
        "\t\t\t\n",
        "def funcionEjecutadaPorHilo(matricesHilos, numeroHilo):\n",
        "\tfor j in range(matricesHilos.tamanioDeMatriz):\n",
        "\t\tfor k in range(matricesHilos.tamanioDeMatriz):\n",
        "\t\t\tmatricesHilos.matrizCH[numeroHilo][j] += matricesHilos.matrizA[numeroHilo][k] * matricesHilos.matrizB[k][j];\n",
        "\t\n",
        "def mostrarMatrices():\n",
        "\tmostrarMatriz(matricesHilos.matrizA, \"Matriz A\");\n",
        "\tmostrarMatriz(matricesHilos.matrizB, \"Matriz B\");\n",
        "\tmostrarMatriz(matricesHilos.matrizCS,\"Matriz CS\");\n",
        "\tmostrarMatriz(matricesHilos.matrizCH,\"Matriz CH\");\n",
        "\t\n",
        "def mostrarMatriz(matriz, nombre):\n",
        "\tprint(nombre);\n",
        "\tfor i in range(matricesHilos.tamanioDeMatriz): \n",
        "\t\tfor j in range(matricesHilos.tamanioDeMatriz): \n",
        "\t\t\tprint(\"\\t\", matriz[i][j], end=\" \");\n",
        "\t\tprint();\n",
        "\n",
        "def compararMatricesResultado():\n",
        "\tsonIguales = True;\n",
        "\tfor i in range(matricesHilos.tamanioDeMatriz):\n",
        "\t\tfor j in range(matricesHilos.tamanioDeMatriz):\n",
        "      \t\t\tif (matricesHilos.matrizCS[i][j] != matricesHilos.matrizCH[i][j]):\n",
        "      \t\t\t\tsonIguales = False;\n",
        "      \t\t\t\tbreak;\n",
        "\tif sonIguales:\n",
        "\t\tprint(\"El producto matricial da lo mismo\");\n",
        "\telse:\n",
        "\t\tprint(\"El producto matricial da distinto\");\n",
        "\n",
        "main()"
      ]
    },
    {
      "cell_type": "markdown",
      "source": [
        "Se listan los archivos para comprobar que TP1_P2.py fue creado."
      ],
      "metadata": {
        "id": "kIUAAMH01Tzm"
      }
    },
    {
      "cell_type": "code",
      "source": [
        "!ls -la"
      ],
      "metadata": {
        "colab": {
          "base_uri": "https://localhost:8080/"
        },
        "id": "NmjsDKNY_I-i",
        "outputId": "0213a24d-8422-4e39-d2aa-35bad32a2625"
      },
      "execution_count": null,
      "outputs": [
        {
          "output_type": "stream",
          "name": "stdout",
          "text": [
            "total 20\n",
            "drwxr-xr-x 1 root root 4096 Apr 19 03:04 .\n",
            "drwxr-xr-x 1 root root 4096 Apr 19 03:03 ..\n",
            "drwxr-xr-x 4 root root 4096 Apr 14 13:34 .config\n",
            "drwxr-xr-x 1 root root 4096 Apr 14 13:35 sample_data\n",
            "-rw-r--r-- 1 root root 3716 Apr 19 03:04 TP1_P2.py\n"
          ]
        }
      ]
    },
    {
      "cell_type": "markdown",
      "source": [
        "Se ejecuta el proceso pasandole un parametro numerico N comprendido entre 5 y 20. En este ejemplo, N es igual a 5. Se crean la Matriz A y B. Se multiplican en forma secuencial, cuyo resultado es la Matriz CS. Se multiplican empleando Hilos, generando la Matriz CH. Al final se expresa si las matrices CS y CH son iguales."
      ],
      "metadata": {
        "id": "bgijAxS3_X-F"
      }
    },
    {
      "cell_type": "code",
      "source": [
        "!python3 TP1_P2.py 5"
      ],
      "metadata": {
        "colab": {
          "base_uri": "https://localhost:8080/"
        },
        "id": "mhEjnYWFoLkU",
        "outputId": "93b7378c-a07f-4784-fa72-7c773c057e22"
      },
      "execution_count": null,
      "outputs": [
        {
          "output_type": "stream",
          "name": "stdout",
          "text": [
            "Matriz A\n",
            "\t -14 \t -31 \t -26 \t 0 \t 11 \n",
            "\t -17 \t -7 \t 32 \t 11 \t -19 \n",
            "\t -18 \t 1 \t -14 \t 10 \t -19 \n",
            "\t 19 \t -21 \t -16 \t 10 \t 23 \n",
            "\t 15 \t 17 \t 31 \t 3 \t -9 \n",
            "Matriz B\n",
            "\t 22 \t 19 \t -22 \t -30 \t 3 \n",
            "\t 7 \t -27 \t 3 \t 14 \t 10 \n",
            "\t -8 \t 29 \t -30 \t -32 \t -3 \n",
            "\t -9 \t -26 \t 5 \t 24 \t -2 \n",
            "\t 20 \t 7 \t -17 \t 2 \t 26 \n",
            "Matriz CS\n",
            "\t -97 \t -106 \t 808 \t 840 \t 12 \n",
            "\t -1158 \t 375 \t -229 \t -386 \t -733 \n",
            "\t -747 \t -1168 \t 1192 \t 1204 \t -516 \n",
            "\t 769 \t 365 \t -342 \t -66 \t 473 \n",
            "\t -6 \t 584 \t -1041 \t -1150 \t -118 \n",
            "Matriz CH\n",
            "\t -97 \t -106 \t 808 \t 840 \t 12 \n",
            "\t -1158 \t 375 \t -229 \t -386 \t -733 \n",
            "\t -747 \t -1168 \t 1192 \t 1204 \t -516 \n",
            "\t 769 \t 365 \t -342 \t -66 \t 473 \n",
            "\t -6 \t 584 \t -1041 \t -1150 \t -118 \n",
            "El producto matricial da lo mismo\n"
          ]
        }
      ]
    },
    {
      "cell_type": "markdown",
      "source": [
        "Ejecutamos el proceso pasandole un parametro no numerico."
      ],
      "metadata": {
        "id": "td8VCGWzCDMY"
      }
    },
    {
      "cell_type": "code",
      "source": [
        "!python3 TP1_P2.py u"
      ],
      "metadata": {
        "colab": {
          "base_uri": "https://localhost:8080/"
        },
        "id": "WVClJqdiDDUw",
        "outputId": "92c4e05b-0630-4e4d-a0b1-20b10efd3878"
      },
      "execution_count": null,
      "outputs": [
        {
          "output_type": "stream",
          "name": "stdout",
          "text": [
            "Formato de parametro incorrecto. El parametro ingresado debe ser un numero.\n"
          ]
        }
      ]
    },
    {
      "cell_type": "markdown",
      "source": [
        "Ejecutamos el proceso pasandole mas de un parametro."
      ],
      "metadata": {
        "id": "mcSaGnCwBV5J"
      }
    },
    {
      "cell_type": "code",
      "source": [
        "!python3 TP1_P2.py 5 7"
      ],
      "metadata": {
        "colab": {
          "base_uri": "https://localhost:8080/"
        },
        "id": "FWeZDt77DEUw",
        "outputId": "ff52035c-337c-4072-ab30-02249b97dbfe"
      },
      "execution_count": null,
      "outputs": [
        {
          "output_type": "stream",
          "name": "stdout",
          "text": [
            "No ingreso la cantidad correcta de parametros. Solo debe ingresar el valor de N\n"
          ]
        }
      ]
    },
    {
      "cell_type": "markdown",
      "source": [
        "Ejecutamos el proceso sin pasarle parametros."
      ],
      "metadata": {
        "id": "guIwpV8jB11X"
      }
    },
    {
      "cell_type": "code",
      "source": [
        "!python3 TP1_P2.py"
      ],
      "metadata": {
        "colab": {
          "base_uri": "https://localhost:8080/"
        },
        "id": "zF4pJxsaDeNJ",
        "outputId": "f8317986-b91f-44e9-a318-86be06320fe8"
      },
      "execution_count": null,
      "outputs": [
        {
          "output_type": "stream",
          "name": "stdout",
          "text": [
            "No ingreso la cantidad correcta de parametros. Solo debe ingresar el valor de N\n"
          ]
        }
      ]
    },
    {
      "cell_type": "markdown",
      "source": [
        "Ejecutamos el proceso pasandole un parametro numerico menor a 5."
      ],
      "metadata": {
        "id": "UBvZ18Z2B_9M"
      }
    },
    {
      "cell_type": "code",
      "source": [
        "!python3 TP1_P2.py 4"
      ],
      "metadata": {
        "colab": {
          "base_uri": "https://localhost:8080/"
        },
        "id": "pdZUjh98DyFc",
        "outputId": "ab69609e-887a-48b5-b96e-4de50f8edaa1"
      },
      "execution_count": null,
      "outputs": [
        {
          "output_type": "stream",
          "name": "stdout",
          "text": [
            "El rango de N debe estar entre 5 y 20\n"
          ]
        }
      ]
    },
    {
      "cell_type": "markdown",
      "source": [
        "Ejecutamos el proceso pasandole un parametro numerico mayor a 20."
      ],
      "metadata": {
        "id": "wWZpj-5sC_GX"
      }
    },
    {
      "cell_type": "code",
      "source": [
        "!python3 TP1_P2.py 21"
      ],
      "metadata": {
        "colab": {
          "base_uri": "https://localhost:8080/"
        },
        "id": "qtjJYelzD2vX",
        "outputId": "c9ab013a-4407-4c44-8fcc-618212b449a5"
      },
      "execution_count": null,
      "outputs": [
        {
          "output_type": "stream",
          "name": "stdout",
          "text": [
            "El rango de N debe estar entre 5 y 20\n"
          ]
        }
      ]
    }
  ]
}